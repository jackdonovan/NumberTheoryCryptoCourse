{
 "cells": [
  {
   "cell_type": "code",
   "execution_count": 1,
   "metadata": {
    "collapsed": false
   },
   "outputs": [
    {
     "data": {
      "text/plain": [
       "(1, -1170, 541)"
      ]
     },
     "execution_count": 1,
     "metadata": {
     },
     "output_type": "execute_result"
    }
   ],
   "source": [
    "# problem 1 a\n",
    "xgcd(1998,4321)"
   ]
  },
  {
   "cell_type": "code",
   "execution_count": 2,
   "metadata": {
    "collapsed": false
   },
   "outputs": [
    {
     "data": {
      "text/plain": [
       "1041"
      ]
     },
     "execution_count": 2,
     "metadata": {
     },
     "output_type": "execute_result"
    }
   ],
   "source": [
    "(123^541)%1999"
   ]
  },
  {
   "cell_type": "code",
   "execution_count": 3,
   "metadata": {
    "collapsed": false
   },
   "outputs": [
    {
     "name": "stdout",
     "output_type": "stream",
     "text": [
      "problem 1b start\n",
      "('1b solution: ', 1414812)\n",
      "problem 1b finish\n",
      "problem 1c start\n",
      "('1c solution: ', 17298386124)\n"
     ]
    },
    {
     "name": "stdout",
     "output_type": "stream",
     "text": [
      "('check: ', 1234567)\n",
      "problem 1c finish\n",
      "Length (Decimal Digits): 7\n",
      "Length (Bits): 22\n",
      "Is e Co-Prime with (p-1)(q-1)? True\n",
      "Pub N  = 3999991\n",
      "Pub e  = 3\n",
      "Priv d = 2663995\n"
     ]
    }
   ],
   "source": [
    "# problem 1 b\n",
    "print(\"problem 1b start\")\n",
    "N = 8649673\n",
    "p = 1999\n",
    "q = N/p\n",
    "c = 1234\n",
    "e = 4321\n",
    "d= int(mod(xgcd((p-1)*(q-1),e)[2], (p-1)*(q-1)))\n",
    "d\n",
    "\n",
    "x = power_mod(c,d,N)\n",
    "x\n",
    "print(\"1b solution: \", x)\n",
    "power_mod(x,e,p)\n",
    "print(\"problem 1b finish\")\n",
    "\n",
    "\n",
    "# problem 1 c\n",
    "print(\"problem 1c start\")\n",
    "N = 17341942691\n",
    "p = 1999\n",
    "q = N/p\n",
    "c = 1234567\n",
    "e = 7654321\n",
    "d= int(mod(xgcd((p-1)*(q-1),e)[2], (p-1)*(q-1)))\n",
    "d\n",
    "\n",
    "x = power_mod(c,d,N)\n",
    "print(\"1c solution: \", x)\n",
    "# power_mod(x,e,p)\n",
    "print(\"check: \",(x^e) % N)\n",
    "print(\"problem 1c finish\")\n",
    "\n",
    "\n",
    "\n",
    "\n",
    "\n",
    "# problem 2\n",
    "p = 1997\n",
    "q = 2003\n",
    "N = p*q\n",
    "print 'Length (Decimal Digits):', len(N.digits())\n",
    "print 'Length (Bits):', len(N.digits(2))\n",
    "e = 3\n",
    "print 'Is e Co-Prime with (p-1)(q-1)?', xgcd(int((p-1)*(q-1)),e)[0] == 1\n",
    "d = xgcd((p-1)*(q-1),e)[2]\n",
    "d = int(mod(d,(p-1)*(q-1)))\n",
    "print 'Pub N  =', N\n",
    "print 'Pub e  =', e\n",
    "print 'Priv d =', d"
   ]
  },
  {
   "cell_type": "code",
   "execution_count": 4,
   "metadata": {
    "collapsed": false
   },
   "outputs": [
    {
     "name": "stdout",
     "output_type": "stream",
     "text": [
      "m = 10013\n",
      "Is m shorter than N? True\n",
      "c = 3330981\n"
     ]
    }
   ],
   "source": [
    "# BAN\n",
    "m = 10013\n",
    "print 'm =', m\n",
    "print 'Is m shorter than N?', m < N\n",
    "c = power_mod(m,e,N)\n",
    "print 'c =', c"
   ]
  },
  {
   "cell_type": "code",
   "execution_count": 5,
   "metadata": {
    "collapsed": false
   },
   "outputs": [
    {
     "name": "stdout",
     "output_type": "stream",
     "text": [
      "m = 10019\n",
      "Is m shorter than N? True\n",
      "c = 1099711\n"
     ]
    }
   ],
   "source": [
    "# BAT\n",
    "m = 10019\n",
    "print 'm =', m\n",
    "print 'Is m shorter than N?', m < N\n",
    "c = power_mod(m,e,N)\n",
    "print 'c =', c"
   ]
  },
  {
   "cell_type": "code",
   "execution_count": 6,
   "metadata": {
    "collapsed": false
   },
   "outputs": [
    {
     "name": "stdout",
     "output_type": "stream",
     "text": [
      "m = 10024\n",
      "Is m shorter than N? True\n",
      "c = 3560060\n"
     ]
    }
   ],
   "source": [
    "# BAY\n",
    "m = 10024\n",
    "print 'm =', m\n",
    "print 'Is m shorter than N?', m < N\n",
    "c = power_mod(m,e,N)\n",
    "print 'c =', c"
   ]
  },
  {
   "cell_type": "code",
   "execution_count": 7,
   "metadata": {
    "collapsed": false
   },
   "outputs": [
    {
     "data": {
      "text/plain": [
       "(1, 1, -1331997)"
      ]
     },
     "execution_count": 7,
     "metadata": {
     },
     "output_type": "execute_result"
    }
   ],
   "source": [
    "# problem 2b\n",
    "xgcd((1996*2002), 3)"
   ]
  },
  {
   "cell_type": "code",
   "execution_count": 8,
   "metadata": {
    "collapsed": false
   },
   "outputs": [
    {
     "name": "stdout",
     "output_type": "stream",
     "text": [
      "Length (Decimal Digits): 7\n",
      "Length (Bits): 22\n",
      "Is e Co-Prime with (p-1)(q-1)? True\n",
      "Pub N  = 3999991\n",
      "Pub e  = 3\n",
      "Priv d = 2663995\n"
     ]
    }
   ],
   "source": [
    "# determine actual d\n",
    "p = 1997\n",
    "q = 2003\n",
    "N = p*q\n",
    "print 'Length (Decimal Digits):', len(N.digits())\n",
    "print 'Length (Bits):', len(N.digits(2))\n",
    "e = 3\n",
    "print 'Is e Co-Prime with (p-1)(q-1)?', xgcd(int((p-1)*(q-1)),e)[0] == 1\n",
    "d = xgcd((p-1)*(q-1),e)[2]\n",
    "d = int(mod(d,(p-1)*(q-1)))\n",
    "print 'Pub N  =', N\n",
    "print 'Pub e  =', e\n",
    "print 'Priv d =', d\n",
    "\n",
    "c =  135962"
   ]
  },
  {
   "cell_type": "code",
   "execution_count": 9,
   "metadata": {
    "collapsed": false
   },
   "outputs": [
    {
     "name": "stdout",
     "output_type": "stream",
     "text": [
      "m = 240024\n",
      "Is m shorter than N? True\n",
      "c = 135962\n",
      "Did it work? True\n"
     ]
    }
   ],
   "source": [
    "# problem 2 c\n",
    "\n",
    "\n",
    "# YAY\n",
    "m = 240024\n",
    "print 'm =', m\n",
    "print 'Is m shorter than N?', m < N\n",
    "c = power_mod(m,e,N)\n",
    "print 'c =', c\n",
    "\n",
    "\n",
    "\n",
    "\n",
    "power_mod(c,d,p)\n",
    "print 'Did it work?', power_mod(c,d,N) == m"
   ]
  },
  {
   "cell_type": "code",
   "execution_count": 10,
   "metadata": {
    "collapsed": false
   },
   "outputs": [
    {
     "data": {
      "text/plain": [
       "5897 * 8753"
      ]
     },
     "execution_count": 10,
     "metadata": {
     },
     "output_type": "execute_result"
    }
   ],
   "source": [
    "# problem 3a\n",
    "N1 = 51940081\n",
    "N2 = 34589029\n",
    "N3 = 51616441\n",
    "\n",
    "factor(N1)\n",
    "factor(N2)\n",
    "factor(N3)"
   ]
  },
  {
   "cell_type": "code",
   "execution_count": 11,
   "metadata": {
    "collapsed": false
   },
   "outputs": [
    {
     "data": {
      "text/plain": [
       "1881365963625"
      ]
     },
     "execution_count": 11,
     "metadata": {
     },
     "output_type": "execute_result"
    }
   ],
   "source": [
    "c1 = 44289724\n",
    "c2 = 34087286\n",
    "c3 = 49922057\n",
    "\n",
    "def chinese_remainder_theorem(A,M):\n",
    "    '''\n",
    "    A = List of a_i\n",
    "    M = List of m_i (m_is are pairwise co-prime)\n",
    "    '''\n",
    "    for i in range(len(A)):\n",
    "        for j in range(i+1,len(A)):\n",
    "            if gcd(M[i],M[j]) != 1:\n",
    "                return 'm_is are not pairwise co-prime'\n",
    "    x = 0\n",
    "    prod_m = prod(M)\n",
    "    for i in range(len(A)):\n",
    "        x = x + A[i]*(prod_m/M[i])*(xgcd(M[i],prod_m/M[i])[2])\n",
    "    return mod(x,prod_m)\n",
    "\n",
    "soln = int(chinese_remainder_theorem([c1,c2,c3],[N1,N2,N3]))\n",
    "soln"
   ]
  },
  {
   "cell_type": "code",
   "execution_count": 12,
   "metadata": {
    "collapsed": false
   },
   "outputs": [
    {
     "data": {
      "text/plain": [
       "12345"
      ]
     },
     "execution_count": 12,
     "metadata": {
     },
     "output_type": "execute_result"
    }
   ],
   "source": [
    "# problem 3b\n",
    "(soln)^(1/3)"
   ]
  },
  {
   "cell_type": "code",
   "execution_count": 13,
   "metadata": {
    "collapsed": false
   },
   "outputs": [
    {
     "data": {
      "text/plain": [
       "75216553 * 82927433"
      ]
     },
     "execution_count": 13,
     "metadata": {
     },
     "output_type": "execute_result"
    }
   ],
   "source": [
    "# problem 4\n",
    "\n",
    "N1 = 6579934878669151\n",
    "N2 = 22902333811909\n",
    "N3 = 1170943500322649\n",
    "N4 = 2108773346598719\n",
    "N5 = 6237515659398449\n",
    "\n",
    "factor(N1)\n",
    "factor(N2)\n",
    "factor(N3)\n",
    "factor(N4)\n",
    "factor(N5)"
   ]
  },
  {
   "cell_type": "code",
   "execution_count": 14,
   "metadata": {
    "collapsed": false
   },
   "outputs": [
    {
     "data": {
      "text/plain": [
       "1506334182914325601"
      ]
     },
     "execution_count": 14,
     "metadata": {
     },
     "output_type": "execute_result"
    }
   ],
   "source": [
    "c1 = 6109030577759173\n",
    "c2 = 1883437446853\n",
    "c3 = 500841499398987\n",
    "c4 = 670013442840235\n",
    "c5 = 3092908999299392\n",
    "\n",
    "def chinese_remainder_theorem(A,M):\n",
    "    '''\n",
    "    A = List of a_i\n",
    "    M = List of m_i (m_is are pairwise co-prime)\n",
    "    '''\n",
    "    for i in range(len(A)):\n",
    "        for j in range(i+1,len(A)):\n",
    "            if gcd(M[i],M[j]) != 1:\n",
    "                return 'm_is are not pairwise co-prime'\n",
    "    x = 0\n",
    "    prod_m = prod(M)\n",
    "    for i in range(len(A)):\n",
    "        x = x + A[i]*(prod_m/M[i])*(xgcd(M[i],prod_m/M[i])[2])\n",
    "    return mod(x,prod_m)\n",
    "\n",
    "soln = int(chinese_remainder_theorem([c1,c2,c3,c4,c5],[N1,N2,N3,N4,N5]))\n",
    "soln"
   ]
  },
  {
   "cell_type": "code",
   "execution_count": 15,
   "metadata": {
    "collapsed": false
   },
   "outputs": [
    {
     "data": {
      "text/plain": [
       "4321"
      ]
     },
     "execution_count": 15,
     "metadata": {
     },
     "output_type": "execute_result"
    }
   ],
   "source": [
    "1506334182914325601^(1/5)"
   ]
  },
  {
   "cell_type": "code",
   "execution_count": 16,
   "metadata": {
    "collapsed": false
   },
   "outputs": [
    {
     "data": {
      "text/plain": [
       "222"
      ]
     },
     "execution_count": 16,
     "metadata": {
     },
     "output_type": "execute_result"
    }
   ],
   "source": [
    "# problem 5ai\n",
    "def chinese_remainder_theorem(A,M):\n",
    "    '''\n",
    "    A = List of a_i\n",
    "    M = List of m_i (m_is are pairwise co-prime)\n",
    "    '''\n",
    "    for i in range(len(A)):\n",
    "        for j in range(i+1,len(A)):\n",
    "            if gcd(M[i],M[j]) != 1:\n",
    "                return 'm_is are not pairwise co-prime'\n",
    "    x = 0\n",
    "    prod_m = prod(M)\n",
    "    for i in range(len(A)):\n",
    "        x = x + A[i]*(prod_m/M[i])*(xgcd(M[i],prod_m/M[i])[2])\n",
    "    return mod(x,prod_m)\n",
    "\n",
    "p = 313\n",
    "q = 1987\n",
    "g = 13\n",
    "r1 = 7\n",
    "r2 = 19\n",
    "s1 = 23\n",
    "s2 = 99\n",
    "m = 222\n",
    "N=p*q\n",
    "\n",
    "g1 = g^(r1*(p-1))%N\n",
    "g2 = g^(r2*(q-1))%N\n",
    "\n",
    "c1 = (m*g1^s1) % N\n",
    "c2 = (m*g2^s2) % N\n",
    "\n",
    "soln = int(chinese_remainder_theorem([c1,c2],[p,q]))\n",
    "soln"
   ]
  },
  {
   "cell_type": "code",
   "execution_count": 17,
   "metadata": {
    "collapsed": false
   },
   "outputs": [
    {
     "data": {
      "text/plain": [
       "1337"
      ]
     },
     "execution_count": 17,
     "metadata": {
     },
     "output_type": "execute_result"
    }
   ],
   "source": [
    "# problem 5aii\n",
    "\n",
    "\n",
    "def chinese_remainder_theorem(A,M):\n",
    "    '''\n",
    "    A = List of a_i\n",
    "    M = List of m_i (m_is are pairwise co-prime)\n",
    "    '''\n",
    "    for i in range(len(A)):\n",
    "        for j in range(i+1,len(A)):\n",
    "            if gcd(M[i],M[j]) != 1:\n",
    "                return 'm_is are not pairwise co-prime'\n",
    "    x = 0\n",
    "    prod_m = prod(M)\n",
    "    for i in range(len(A)):\n",
    "        x = x + A[i]*(prod_m/M[i])*(xgcd(M[i],prod_m/M[i])[2])\n",
    "    return mod(x,prod_m)\n",
    "\n",
    "\n",
    "\n",
    "\n",
    "p = 1237\n",
    "q = 4327\n",
    "g = 31\n",
    "r1 = 17\n",
    "r2 = 21\n",
    "s1 = 123\n",
    "s2 = 321\n",
    "m = 1337\n",
    "N=p*q\n",
    "\n",
    "g1 = g^(r1*(p-1))%N\n",
    "g2 = g^(r2*(q-1))%N\n",
    "\n",
    "c1 = (m*g1^s1) % N\n",
    "c2 = (m*g2^s2) % N\n",
    "\n",
    "\n",
    "soln = int(chinese_remainder_theorem([c1,c2],[p,q]))\n",
    "soln"
   ]
  },
  {
   "cell_type": "code",
   "execution_count": 18,
   "metadata": {
    "collapsed": false
   },
   "outputs": [
    {
     "name": "stdout",
     "output_type": "stream",
     "text": [
      "5b\n"
     ]
    }
   ],
   "source": [
    "# problem 5b\n",
    "print(\"5b\")"
   ]
  },
  {
   "cell_type": "code",
   "execution_count": 19,
   "metadata": {
    "collapsed": false
   },
   "outputs": [
    {
     "name": "stdout",
     "output_type": "stream",
     "text": [
      "5c\n"
     ]
    }
   ],
   "source": [
    "# probem 5c\n",
    "print(\"5c\")"
   ]
  },
  {
   "cell_type": "code",
   "execution_count": 20,
   "metadata": {
    "collapsed": false
   },
   "outputs": [
    {
     "name": "stdout",
     "output_type": "stream",
     "text": [
      "('predetermined p = ', 313)\n",
      "('computed p = ', 313)\n",
      "('predetermined q = ', 1987)\n",
      "('computed q = ', 1987)\n"
     ]
    }
   ],
   "source": [
    "# problem 5d\n",
    "# from ai\n",
    "p = 313\n",
    "q = 1987\n",
    "g = 13\n",
    "r1 = 7\n",
    "r2 = 19\n",
    "s1 = 23\n",
    "s2 = 99\n",
    "m = 222\n",
    "N=p*q\n",
    "\n",
    "g1 = g^(r1*(p-1))%N\n",
    "g2 = g^(r2*(q-1))%N\n",
    "\n",
    "((g1-1)*(g2-1))% N\n",
    "\n",
    "print(\"predetermined p = \", p)\n",
    "p = gcd(N, g1-1)\n",
    "print(\"computed p = \", p)\n",
    "print(\"predetermined q = \", q)\n",
    "q = N/p\n",
    "print(\"computed q = \", q)"
   ]
  },
  {
   "cell_type": "code",
   "execution_count": 21,
   "metadata": {
    "collapsed": false
   },
   "outputs": [
    {
     "name": "stdout",
     "output_type": "stream",
     "text": [
      "('predetermined p = ', 1237)\n",
      "('computed p = ', 1237)\n",
      "('predetermined q = ', 4327)\n",
      "('computed q = ', 4327)\n"
     ]
    }
   ],
   "source": [
    "# from problem 5aii\n",
    "p = 1237\n",
    "q = 4327\n",
    "g = 31\n",
    "r1 = 17\n",
    "r2 = 21\n",
    "s1 = 123\n",
    "s2 = 321\n",
    "m = 1337\n",
    "N=p*q\n",
    "\n",
    "g1 = g^(r1*(p-1))%N\n",
    "g2 = g^(r2*(q-1))%N\n",
    "\n",
    "((g1-1)*(g2-1))% N\n",
    "\n",
    "print(\"predetermined p = \", p)\n",
    "p = gcd(N, g1-1)\n",
    "print(\"computed p = \", p)\n",
    "print(\"predetermined q = \", q)\n",
    "q = N/p\n",
    "print(\"computed q = \", q)"
   ]
  }
 ],
 "metadata": {
  "kernelspec": {
   "display_name": "SageMath (stable)",
   "language": "sagemath",
   "metadata": {
    "cocalc": {
     "description": "Open-source mathematical software system",
     "priority": 10,
     "url": "https://www.sagemath.org/"
    }
   },
   "name": "sagemath"
  },
  "language_info": {
   "codemirror_mode": {
    "name": "ipython",
    "version": 2
   },
   "file_extension": ".py",
   "mimetype": "text/x-python",
   "name": "python",
   "nbconvert_exporter": "python",
   "pygments_lexer": "ipython2",
   "version": "2.7.15"
  }
 },
 "nbformat": 4,
 "nbformat_minor": 0
}