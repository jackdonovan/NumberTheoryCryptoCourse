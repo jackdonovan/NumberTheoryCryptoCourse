{
 "cells": [
  {
   "cell_type": "code",
   "execution_count": 1,
   "metadata": {
    "collapsed": false
   },
   "outputs": [
   ],
   "source": [
    "# problem 1a\n",
    "def fermat_factor_v2(N):\n",
    "    t0 = ceil(sqrt(N))\n",
    "    k = 0\n",
    "    while True:\n",
    "        if is_square((t0+k)^2 - N) == True:\n",
    "            return t0 + k +sqrt((t0 + k)^2 - N), t0 +k - sqrt((t0+k)^2 - N), k\n",
    "        k+=1\n",
    "# fermat_factor_v2(752610036044282975999903)"
   ]
  },
  {
   "cell_type": "code",
   "execution_count": 2,
   "metadata": {
    "collapsed": false
   },
   "outputs": [
   ],
   "source": [
    "# problem 1b\n",
    "# factor(1718970426789370575147737)"
   ]
  },
  {
   "cell_type": "code",
   "execution_count": 3,
   "metadata": {
    "collapsed": false
   },
   "outputs": [
   ],
   "source": [
    "# problem 1c\n",
    "def fermat_factor_v2(N):\n",
    "    t0 = ceil(sqrt(N))\n",
    "    k = 0\n",
    "    while True:\n",
    "        if is_square((t0+k)^2 - N) == True:\n",
    "            return t0 + k +sqrt((t0 + k)^2 - N), t0 +k - sqrt((t0+k)^2 - N), k\n",
    "        k+=1\n",
    "# fermat_factor_v2(1098727224856134449937206853598793611448257396829084620610003130008675309)\n",
    "# factor(1098727224856134449937206853598793611448257396829084620610003130008675309)"
   ]
  },
  {
   "cell_type": "code",
   "execution_count": 4,
   "metadata": {
    "collapsed": false
   },
   "outputs": [
   ],
   "source": [
    "# problrm 1d\n",
    "# fermat_factor_v2(1524157877515647915714744640673670510923292196843849059918539532555513767)"
   ]
  },
  {
   "cell_type": "code",
   "execution_count": 5,
   "metadata": {
    "collapsed": false
   },
   "outputs": [
    {
     "name": "stdout",
     "output_type": "stream",
     "text": [
      "1e\n"
     ]
    }
   ],
   "source": [
    "# problem 1e\n",
    "print(\"1e\")"
   ]
  },
  {
   "cell_type": "code",
   "execution_count": 6,
   "metadata": {
    "collapsed": false
   },
   "outputs": [
    {
     "data": {
      "text/plain": [
       "8675309"
      ]
     },
     "execution_count": 6,
     "metadata": {
     },
     "output_type": "execute_result"
    }
   ],
   "source": [
    "# problem 2a\n",
    "\n",
    "N=752610036044282975999903\n",
    "p = 867531000097\n",
    "q = 867530999999\n",
    "e = 313\n",
    "c = 45212949806568699007892\n",
    "\n",
    "# e^-1%((p-1)(q-1))\n",
    "# cocalc wouldnt solve this for some reason so I wrote it in python\n",
    "d = 322203657602879937622921\n",
    "power_mod(c,d,N)"
   ]
  },
  {
   "cell_type": "code",
   "execution_count": 7,
   "metadata": {
    "collapsed": false
   },
   "outputs": [
    {
     "data": {
      "text/plain": [
       "1431337"
      ]
     },
     "execution_count": 7,
     "metadata": {
     },
     "output_type": "execute_result"
    }
   ],
   "source": [
    "e = 3\n",
    "N1 = 2279941\n",
    "N2 = 670726081\n",
    "N3 = 7526099492070324691\n",
    "c1 = 1964050\n",
    "c2 = 7145306\n",
    "c3 = 2932416764960989753\n",
    "factor(N1)\n",
    "p1 = 311\n",
    "q1 = 7331\n",
    "d1 = 1514867\n",
    "power_mod(c1,d1,N1)"
   ]
  },
  {
   "cell_type": "code",
   "execution_count": 8,
   "metadata": {
    "collapsed": false
   },
   "outputs": [
    {
     "data": {
      "text/plain": [
       "269536605"
      ]
     },
     "execution_count": 8,
     "metadata": {
     },
     "output_type": "execute_result"
    }
   ],
   "source": [
    "N2 = 670726081\n",
    "c2 = 7145306\n",
    "factor(N2)\n",
    "p2=7331\n",
    "q2 = 8675309\n",
    "d2 = 42393338427\n",
    "power_mod(c2,d2,N2)"
   ]
  },
  {
   "cell_type": "code",
   "execution_count": 9,
   "metadata": {
    "collapsed": false
   },
   "outputs": [
    {
     "data": {
      "text/plain": [
       "395231168681262586"
      ]
     },
     "execution_count": 9,
     "metadata": {
     },
     "output_type": "execute_result"
    }
   ],
   "source": [
    "factor(N3)\n",
    "p3 = 8675309\n",
    "q3 = 867530999999\n",
    "d3 = 5017399083020432923\n",
    "power_mod(c,d3,N3)"
   ]
  },
  {
   "cell_type": "code",
   "execution_count": 10,
   "metadata": {
    "collapsed": false
   },
   "outputs": [
    {
     "data": {
      "text/plain": [
       "143"
      ]
     },
     "execution_count": 10,
     "metadata": {
     },
     "output_type": "execute_result"
    }
   ],
   "source": [
    "N = 63598690279\n",
    "# factor(N)\n",
    "p=7331\n",
    "q = 8675309\n",
    "e1 = 65537\n",
    "e2 = 17\n",
    "c1 = 49465764458\n",
    "c2 = 35769767425\n",
    "\n",
    "gcd(e1, e2)\n",
    "xgcd(e1,e2)\n",
    "u = -8\n",
    "v = 30841\n",
    "(c1^u*c2^v) % N"
   ]
  },
  {
   "cell_type": "code",
   "execution_count": 11,
   "metadata": {
    "collapsed": false
   },
   "outputs": [
    {
     "data": {
      "text/plain": [
       "-1"
      ]
     },
     "execution_count": 11,
     "metadata": {
     },
     "output_type": "execute_result"
    }
   ],
   "source": [
    "# problem 3 used to check\n",
    "# a\n",
    "legendre_symbol(11,311)"
   ]
  },
  {
   "cell_type": "code",
   "execution_count": 12,
   "metadata": {
    "collapsed": false
   },
   "outputs": [
    {
     "data": {
      "text/plain": [
       "1"
      ]
     },
     "execution_count": 12,
     "metadata": {
     },
     "output_type": "execute_result"
    }
   ],
   "source": [
    "# b\n",
    "legendre_symbol(19,8675309)"
   ]
  },
  {
   "cell_type": "code",
   "execution_count": 13,
   "metadata": {
    "collapsed": false
   },
   "outputs": [
    {
     "data": {
      "text/plain": [
       "1"
      ]
     },
     "execution_count": 13,
     "metadata": {
     },
     "output_type": "execute_result"
    }
   ],
   "source": [
    "# c\n",
    "legendre_symbol(31,7331)"
   ]
  },
  {
   "cell_type": "code",
   "execution_count": 14,
   "metadata": {
    "collapsed": false
   },
   "outputs": [
    {
     "data": {
      "text/plain": [
       "1"
      ]
     },
     "execution_count": 14,
     "metadata": {
     },
     "output_type": "execute_result"
    }
   ],
   "source": [
    "# problem 4c\n",
    "\n",
    "\n",
    "# i\n",
    "gcd(12, 2)\n",
    "legendre_symbol(3,13)"
   ]
  },
  {
   "cell_type": "code",
   "execution_count": 15,
   "metadata": {
    "collapsed": false
   },
   "outputs": [
   ],
   "source": [
    "# problem5a\n",
    "factor(90506172184513)\n",
    "N = 90506172184513"
   ]
  },
  {
   "cell_type": "code",
   "execution_count": 16,
   "metadata": {
    "collapsed": false
   },
   "outputs": [
    {
     "data": {
      "text/plain": [
       "1522756"
      ]
     },
     "execution_count": 16,
     "metadata": {
     },
     "output_type": "execute_result"
    }
   ],
   "source": [
    "p = 7331\n",
    "q = 12345678923\n",
    "1234^2"
   ]
  },
  {
   "cell_type": "code",
   "execution_count": 17,
   "metadata": {
    "collapsed": false
   },
   "outputs": [
    {
     "data": {
      "text/plain": [
       "1522756"
      ]
     },
     "execution_count": 17,
     "metadata": {
     },
     "output_type": "execute_result"
    }
   ],
   "source": [
    "1522756 % N"
   ]
  },
  {
   "cell_type": "code",
   "execution_count": 18,
   "metadata": {
    "collapsed": false
   },
   "outputs": [
   ],
   "source": [
    "# (1522756^(7332/4)) % 7331"
   ]
  },
  {
   "cell_type": "code",
   "execution_count": 19,
   "metadata": {
    "collapsed": false
   },
   "outputs": [
   ],
   "source": [
    "q = 12345678923\n",
    "# power_mod(1522756,3086419731,12345678923)"
   ]
  },
  {
   "cell_type": "code",
   "execution_count": 20,
   "metadata": {
    "collapsed": false
   },
   "outputs": [
    {
     "data": {
      "text/plain": [
       "3131"
      ]
     },
     "execution_count": 20,
     "metadata": {
     },
     "output_type": "execute_result"
    }
   ],
   "source": [
    "# 5b\n",
    "\n",
    "def chinese_remainder_theorem(a_values,m_values):\n",
    "    '''\n",
    "    This procedure solves the system of congruences\n",
    "    x = a_1 mod m_1\n",
    "    x = a_2 mod m_2\n",
    "    ...\n",
    "    x = a_r mod m_r\n",
    "    where\n",
    "    a_values = List of a_i\n",
    "    m_values = List of m_i (m_i's are pairwise co-prime)\n",
    "    prod_M = m_1*m_2*...*m_r\n",
    "    M_i = prod_M/m_values[i]\n",
    "    y_i = (M_i)^(-1) mod m_i = xgcd(m_values[i],prod_M/m_values[i])[2]\n",
    "    x = a_1*M_1*y_1 + a_2*M_2*y_2 + ... + a_r*M_r*y_r\n",
    "    '''\n",
    "    #Ensure m_i are co-prime\n",
    "    for i in range(len(a_values)):\n",
    "        for j in range(i+1,len(a_values)):\n",
    "            if gcd(m_values[i],m_values[j]) != 1:\n",
    "                return 'm_is are not pairwise co-prime'\n",
    "\n",
    "    prod_M = prod(m_values) #prod_m = m_1*m_2*...*m_n\n",
    "\n",
    "    x = sum([a_values[i]*(prod_M/m_values[i])*(xgcd(m_values[i],prod_M/m_values[i])[2]) for i in range(len(a_values))])\n",
    "    return mod(x,prod_M) #Returns the value modulo m_1*m_2*...*m_n\n",
    "\n",
    "\n",
    "\n",
    "\n",
    "# problem5b\n",
    "factor(2279941)\n",
    "N = 2279941\n",
    "c = 683397\n",
    "p = 311\n",
    "q = 7331\n",
    "\n",
    "a = power_mod(c, int((p+1)/4), p)\n",
    "a\n",
    "b = power_mod(c, int((q+1)/4), q)\n",
    "b\n",
    "\n",
    "chinese_remainder_theorem([a,b],[p,q])\n",
    "chinese_remainder_theorem([-a,b],[p,q])\n",
    "chinese_remainder_theorem([-a,-b],[p,q])\n",
    "chinese_remainder_theorem([a,-b],[p,q])"
   ]
  },
  {
   "cell_type": "code",
   "execution_count": 21,
   "metadata": {
    "collapsed": false
   },
   "outputs": [
    {
     "name": "stdout",
     "output_type": "stream",
     "text": [
      "Complete\n"
     ]
    }
   ],
   "source": [
    "# Problem 6a1\n",
    "p = 7331\n",
    "q = 127\n",
    "a = 9\n",
    "N = p*q\n",
    "N\n",
    "legendre_symbol(a, p)\n",
    "legendre_symbol(a, q)\n",
    "r = 76\n",
    "m = 0\n",
    "c = (r^2) % N\n",
    "c\n",
    "mSolved = legendre_symbol(c,p)\n",
    "mSolved\n",
    "print(\"Complete\")"
   ]
  },
  {
   "cell_type": "code",
   "execution_count": 22,
   "metadata": {
    "collapsed": false
   },
   "outputs": [
    {
     "name": "stdout",
     "output_type": "stream",
     "text": [
      "Complete\n"
     ]
    }
   ],
   "source": [
    "# Problem 6a2\n",
    "p = 7331\n",
    "q = 127\n",
    "a = 10\n",
    "N = p*q\n",
    "N\n",
    "legendre_symbol(a, p)\n",
    "legendre_symbol(a, q)\n",
    "r = 13\n",
    "m = 1\n",
    "c = a*(r^2) % N\n",
    "c\n",
    "mSolved = legendre_symbol(c,p)\n",
    "mSolved\n",
    "print(\"Complete\")"
   ]
  },
  {
   "cell_type": "code",
   "execution_count": 23,
   "metadata": {
    "collapsed": false
   },
   "outputs": [
    {
     "data": {
      "text/plain": [
       "-1"
      ]
     },
     "execution_count": 23,
     "metadata": {
     },
     "output_type": "execute_result"
    }
   ],
   "source": [
    "# problem6b\n",
    "N = 1842338473\n",
    "factor(N)\n",
    "a = 1532411781\n",
    "p = 32411\n",
    "q = 56843\n",
    "c1= 1794677960\n",
    "c2= 525734818\n",
    "c3 = 420526487\n",
    "\n",
    "# 6b1\n",
    "legendre_symbol(c1, p)\n",
    "\n",
    "# decrypt to 1\n",
    "legendre_symbol(c2, p)\n",
    "\n",
    "legendre_symbol(c3, p)"
   ]
  },
  {
   "cell_type": "code",
   "execution_count": 24,
   "metadata": {
    "collapsed": false
   },
   "outputs": [
    {
     "data": {
      "text/plain": [
       "1"
      ]
     },
     "execution_count": 24,
     "metadata": {
     },
     "output_type": "execute_result"
    }
   ],
   "source": [
    "# problem 6b2\n",
    "N = 3149\n",
    "a = 2013\n",
    "factor(N)\n",
    "p = 47\n",
    "c1 = 2322\n",
    "c2 = 719\n",
    "c3 = 202\n",
    "\n",
    "legendre_symbol(c1,p)\n",
    "legendre_symbol(c2,p)\n",
    "legendre_symbol(c3,p)"
   ]
  },
  {
   "cell_type": "code",
   "execution_count": 25,
   "metadata": {
    "collapsed": false
   },
   "outputs": [
    {
     "data": {
      "text/plain": [
       "660699010"
      ]
     },
     "execution_count": 25,
     "metadata": {
     },
     "output_type": "execute_result"
    }
   ],
   "source": [
    "# problem 6b3\n",
    "N = 781044643\n",
    "a = 568980706\n",
    "\n",
    "r1 = 705130839\n",
    "r2 = 631364468\n",
    "r3 = 67651321\n",
    "\n",
    "c1 = (a*r1^2) % N\n",
    "c2 = (a*r2^2) % N\n",
    "c3 = (r3^2) % N\n",
    "c1\n",
    "c2\n",
    "c3"
   ]
  },
  {
   "cell_type": "code",
   "execution_count": 26,
   "metadata": {
    "collapsed": false
   },
   "outputs": [
    {
     "name": "stdout",
     "output_type": "stream",
     "text": [
      "114781482\n",
      "978979014\n",
      "X1 = \n",
      "121932633326182184\n",
      "X2 = \n",
      "69732297417354864\n"
     ]
    },
    {
     "data": {
      "text/plain": [
       "69732297417354864"
      ]
     },
     "execution_count": 26,
     "metadata": {
     },
     "output_type": "execute_result"
    }
   ],
   "source": [
    "def chinese_remainder_theorem(a_values,m_values):\n",
    "    '''\n",
    "    This procedure solves the system of congruences\n",
    "    x = a_1 mod m_1\n",
    "    x = a_2 mod m_2\n",
    "    ...\n",
    "    x = a_r mod m_r\n",
    "    where\n",
    "    a_values = List of a_i\n",
    "    m_values = List of m_i (m_i's are pairwise co-prime)\n",
    "    prod_M = m_1*m_2*...*m_r\n",
    "    M_i = prod_M/m_values[i]\n",
    "    y_i = (M_i)^(-1) mod m_i = xgcd(m_values[i],prod_M/m_values[i])[2]\n",
    "    x = a_1*M_1*y_1 + a_2*M_2*y_2 + ... + a_r*M_r*y_r\n",
    "    '''\n",
    "    #Ensure m_i are co-prime\n",
    "    for i in range(len(a_values)):\n",
    "        for j in range(i+1,len(a_values)):\n",
    "            if gcd(m_values[i],m_values[j]) != 1:\n",
    "                return 'm_is are not pairwise co-prime'\n",
    "\n",
    "    prod_M = prod(m_values) #prod_m = m_1*m_2*...*m_n\n",
    "\n",
    "    x = sum([a_values[i]*(prod_M/m_values[i])*(xgcd(m_values[i],prod_M/m_values[i])[2]) for i in range(len(a_values))])\n",
    "    return mod(x,prod_M) #Returns the value modulo m_1*m_2*...*m_n\n",
    "\n",
    "\n",
    "# problem 7a\n",
    "p = 123456791\n",
    "q = 987654323\n",
    "N = p*q\n",
    "r = 13377331\n",
    "s = 75260986245481\n",
    "tmp = int((p+1)/4)\n",
    "# alice\n",
    "a = power_mod(s, tmp, p)\n",
    "# b = s^((q+1)/4) % q\n",
    "\n",
    "print(a)\n",
    "\n",
    "tmp = int((q+1)/4)\n",
    "# alice\n",
    "b = power_mod(s, tmp, q)\n",
    "# b = s^((q+1)/4) % q\n",
    "\n",
    "print(b)\n",
    "\n",
    "print(\"X1 = \")\n",
    "x1 = chinese_remainder_theorem([a,b],[p,q])\n",
    "print(x1)\n",
    "print(\"X2 = \")\n",
    "x2 = chinese_remainder_theorem([-a,b],[p,q])\n",
    "print(x2)\n",
    "mod(x1, N)\n",
    "\n",
    "mod(x2, N)"
   ]
  },
  {
   "cell_type": "code",
   "execution_count": 27,
   "metadata": {
    "collapsed": false
   },
   "outputs": [
    {
     "name": "stdout",
     "output_type": "stream",
     "text": [
      "Part c:\n"
     ]
    },
    {
     "data": {
      "text/plain": [
       "52200335917502629"
      ]
     },
     "execution_count": 27,
     "metadata": {
     },
     "output_type": "execute_result"
    }
   ],
   "source": [
    "# part 7c\n",
    "print(\"Part c:\")\n",
    "p=123456791\n",
    "q=987654323\n",
    "N = p*q\n",
    "s = 75260986245481\n",
    "a = power_mod(s, int((p+1)/4), p)\n",
    "a\n",
    "\n",
    "b = power_mod(s, int((q+1)/4), q)\n",
    "b\n",
    "\n",
    "chinese_remainder_theorem([a,b],[p,q])\n",
    "chinese_remainder_theorem([-a,b],[p,q])\n",
    "chinese_remainder_theorem([-a,-b],[p,q])\n",
    "chinese_remainder_theorem([a,-b],[p,q])"
   ]
  },
  {
   "cell_type": "code",
   "execution_count": 28,
   "metadata": {
    "collapsed": false
   },
   "outputs": [
    {
     "name": "stdout",
     "output_type": "stream",
     "text": [
      "17103\n"
     ]
    }
   ],
   "source": [
    "# problem 9 bonus\n",
    "# a\n",
    "count = 0\n",
    "for n in range(100000):\n",
    "    if gcd(n, 9699690) == 1:\n",
    "        count += 1\n",
    "print(count)"
   ]
  },
  {
   "cell_type": "code",
   "execution_count": 29,
   "metadata": {
    "collapsed": false
   },
   "outputs": [
    {
     "name": "stdout",
     "output_type": "stream",
     "text": [
      "171021\n"
     ]
    }
   ],
   "source": [
    "# 9b\n",
    "count = 0\n",
    "for n in range(1000000):\n",
    "    if gcd(n, 9699690) == 1:\n",
    "        count += 1\n",
    "print(count)"
   ]
  },
  {
   "cell_type": "code",
   "execution_count": 30,
   "metadata": {
    "collapsed": false
   },
   "outputs": [
    {
     "data": {
      "text/plain": [
       "55296/323323"
      ]
     },
     "execution_count": 30,
     "metadata": {
     },
     "output_type": "execute_result"
    }
   ],
   "source": [
    "# 9c\n",
    "(1-1/2)*(1-1/3)*(1-1/5)*(1-1/7)*(1-1/11)*(1-1/13)*(1-1/17)*(1-1/19)"
   ]
  }
 ],
 "metadata": {
  "kernelspec": {
   "display_name": "SageMath (stable)",
   "language": "sagemath",
   "metadata": {
    "cocalc": {
     "description": "Open-source mathematical software system",
     "priority": 10,
     "url": "https://www.sagemath.org/"
    }
   },
   "name": "sagemath"
  },
  "language_info": {
   "codemirror_mode": {
    "name": "ipython",
    "version": 2
   },
   "file_extension": ".py",
   "mimetype": "text/x-python",
   "name": "python",
   "nbconvert_exporter": "python",
   "pygments_lexer": "ipython2",
   "version": "2.7.15"
  }
 },
 "nbformat": 4,
 "nbformat_minor": 0
}