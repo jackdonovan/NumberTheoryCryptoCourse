{
 "cells": [
  {
   "cell_type": "code",
   "execution_count": 1,
   "metadata": {
    "collapsed": false
   },
   "outputs": [
    {
     "data": {
      "text/plain": [
       "8675308"
      ]
     },
     "execution_count": 1,
     "metadata": {
     },
     "output_type": "execute_result"
    }
   ],
   "source": [
    "# problem 1\n",
    "# D\n",
    "def order(g,p):\n",
    "    for k in divisors(p-1):\n",
    "        if power_mod(g,k,p) == 1:\n",
    "            return k\n",
    "\n",
    "p = 8675309\n",
    "g = 1234\n",
    "order(g,p)"
   ]
  },
  {
   "cell_type": "code",
   "execution_count": 2,
   "metadata": {
    "collapsed": false
   },
   "outputs": [
    {
     "data": {
      "text/plain": [
       "8138360"
      ]
     },
     "execution_count": 2,
     "metadata": {
     },
     "output_type": "execute_result"
    }
   ],
   "source": [
    "a = randint(1,p-1)\n",
    "a\n",
    "# A = power_mod(g,a,p)\n",
    "A = 8138360\n",
    "A"
   ]
  },
  {
   "cell_type": "code",
   "execution_count": 3,
   "metadata": {
    "collapsed": false
   },
   "outputs": [
    {
     "data": {
      "text/plain": [
       "6363919"
      ]
     },
     "execution_count": 3,
     "metadata": {
     },
     "output_type": "execute_result"
    }
   ],
   "source": [
    "# D = randint(1,p-1)\n",
    "D =12345\n",
    "D\n",
    "e = randint(1,p-1)\n",
    "while gcd(p-1,e) > 1:\n",
    "    e = randint(1,p-1)\n",
    "e\n",
    "# S1 = power_mod(g,e,p)\n",
    "S1 = 644054\n",
    "S1\n",
    "# S2 = Integer(mod((D - a*S1)*inverse_mod(e,p-1),p-1))\n",
    "S2 = 6363919\n",
    "S2"
   ]
  },
  {
   "cell_type": "code",
   "execution_count": 4,
   "metadata": {
    "collapsed": false
   },
   "outputs": [
    {
     "data": {
      "text/plain": [
       "5468051"
      ]
     },
     "execution_count": 4,
     "metadata": {
     },
     "output_type": "execute_result"
    }
   ],
   "source": [
    "mod(power_mod(A,S1,p)*power_mod(S1,S2,p),p)"
   ]
  },
  {
   "cell_type": "code",
   "execution_count": 5,
   "metadata": {
    "collapsed": false
   },
   "outputs": [
    {
     "name": "stdout",
     "output_type": "stream",
     "text": [
      "True\n"
     ]
    }
   ],
   "source": [
    "if mod(power_mod(A,S1,p)*power_mod(S1,S2,p),p) == power_mod(g,D,p):\n",
    "    print True\n",
    "else:\n",
    "    print False"
   ]
  },
  {
   "cell_type": "code",
   "execution_count": 6,
   "metadata": {
    "collapsed": false
   },
   "outputs": [
    {
     "data": {
      "text/plain": [
       "8675308"
      ]
     },
     "execution_count": 6,
     "metadata": {
     },
     "output_type": "execute_result"
    }
   ],
   "source": [
    "# D`\n",
    "p = 8675309\n",
    "g = 1234\n",
    "order(g,p)"
   ]
  },
  {
   "cell_type": "code",
   "execution_count": 7,
   "metadata": {
    "collapsed": false
   },
   "outputs": [
    {
     "data": {
      "text/plain": [
       "8138360"
      ]
     },
     "execution_count": 7,
     "metadata": {
     },
     "output_type": "execute_result"
    }
   ],
   "source": [
    "a = randint(1,p-1)\n",
    "a\n",
    "# A = power_mod(g,a,p)\n",
    "A = 8138360\n",
    "A"
   ]
  },
  {
   "cell_type": "code",
   "execution_count": 8,
   "metadata": {
    "collapsed": false
   },
   "outputs": [
    {
     "data": {
      "text/plain": [
       "2991115"
      ]
     },
     "execution_count": 8,
     "metadata": {
     },
     "output_type": "execute_result"
    }
   ],
   "source": [
    "# D = randint(1,p-1)\n",
    "D =54321\n",
    "D\n",
    "e = randint(1,p-1)\n",
    "while gcd(p-1,e) > 1:\n",
    "    e = randint(1,p-1)\n",
    "e\n",
    "# S1 = power_mod(g,e,p)\n",
    "S1 = 7689613\n",
    "S1\n",
    "# S2 = Integer(mod((D - a*S1)*inverse_mod(e,p-1),p-1))\n",
    "S2 = 2991115\n",
    "S2"
   ]
  },
  {
   "cell_type": "code",
   "execution_count": 9,
   "metadata": {
    "collapsed": false
   },
   "outputs": [
    {
     "name": "stdout",
     "output_type": "stream",
     "text": [
      "False\n"
     ]
    }
   ],
   "source": [
    "if mod(power_mod(A,S1,p)*power_mod(S1,S2,p),p) == power_mod(g,D,p):\n",
    "    print True\n",
    "else:\n",
    "    print False"
   ]
  },
  {
   "cell_type": "code",
   "execution_count": 10,
   "metadata": {
    "collapsed": false
   },
   "outputs": [
    {
     "name": "stdout",
     "output_type": "stream",
     "text": [
      "False\n"
     ]
    }
   ],
   "source": [
    "# d``\n",
    "p = 8675309\n",
    "g = 1234\n",
    "order(g,p)\n",
    "a = randint(1,p-1)\n",
    "a\n",
    "# A = power_mod(g,a,p)\n",
    "A = 8138360\n",
    "A\n",
    "# D = randint(1,p-1)\n",
    "D =12321\n",
    "D\n",
    "e = randint(1,p-1)\n",
    "while gcd(p-1,e) > 1:\n",
    "    e = randint(1,p-1)\n",
    "e\n",
    "# S1 = power_mod(g,e,p)\n",
    "S1 = 7089348\n",
    "S1\n",
    "# S2 = Integer(mod((D - a*S1)*inverse_mod(e,p-1),p-1))\n",
    "S2 = 7089348\n",
    "S2\n",
    "if mod(power_mod(A,S1,p)*power_mod(S1,S2,p),p) == power_mod(g,D,p):\n",
    "    print True\n",
    "else:\n",
    "    print False"
   ]
  },
  {
   "cell_type": "code",
   "execution_count": 11,
   "metadata": {
    "collapsed": false
   },
   "outputs": [
    {
     "name": "stdout",
     "output_type": "stream",
     "text": [
      "1337\n"
     ]
    }
   ],
   "source": [
    "# problem 2\n",
    "A = 368188\n",
    "g = 313\n",
    "p = 1235321\n",
    "for a in range(3000):\n",
    "    if(A == power_mod(g,a,p)):\n",
    "        print(a)"
   ]
  },
  {
   "cell_type": "code",
   "execution_count": 12,
   "metadata": {
    "collapsed": false
   },
   "outputs": [
    {
     "ename": "IndentationError",
     "evalue": "unexpected indent (<ipython-input-12-c7f9744643e4>, line 4)",
     "output_type": "error",
     "traceback": [
      "\u001b[0;36m  File \u001b[0;32m\"<ipython-input-12-c7f9744643e4>\"\u001b[0;36m, line \u001b[0;32m4\u001b[0m\n\u001b[0;31m    a = randint(Integer(1),p-Integer(1))\u001b[0m\n\u001b[0m    ^\u001b[0m\n\u001b[0;31mIndentationError\u001b[0m\u001b[0;31m:\u001b[0m unexpected indent\n"
     ]
    }
   ],
   "source": [
    "print(\"order(g,p) = \",order(g,p))\n",
    "\n",
    "print(\"a = \", a)\n",
    "    a = randint(1,p-1)\n",
    "    D =1337\n",
    "    e = 43\n",
    "S1 = power_mod(g,e,p)\n",
    "S2 = Integer(mod((D - a*S1)*inverse_mod(e,p-1),p-1))\n",
    "if mod(power_mod(A,S1,p)*power_mod(S1,S2,p),p) == power_mod(g,D,p):\n",
    "    print (\"Does the key verify? \", True)\n",
    "else:\n",
    "    print (\"Does the key verify? \", False)"
   ]
  }
 ],
 "metadata": {
  "kernelspec": {
   "display_name": "SageMath (stable)",
   "language": "sagemath",
   "metadata": {
    "cocalc": {
     "description": "Open-source mathematical software system",
     "priority": 10,
     "url": "https://www.sagemath.org/"
    }
   },
   "name": "sagemath"
  },
  "language_info": {
   "codemirror_mode": {
    "name": "ipython",
    "version": 2
   },
   "file_extension": ".py",
   "mimetype": "text/x-python",
   "name": "python",
   "nbconvert_exporter": "python",
   "pygments_lexer": "ipython2",
   "version": "2.7.15"
  }
 },
 "nbformat": 4,
 "nbformat_minor": 0
}