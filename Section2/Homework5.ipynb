{
 "cells": [
  {
   "cell_type": "code",
   "execution_count": 3,
   "metadata": {
    "collapsed": false
   },
   "outputs": [
    {
     "data": {
      "text/plain": [
       "98182656"
      ]
     },
     "execution_count": 3,
     "metadata": {
     },
     "output_type": "execute_result"
    }
   ],
   "source": [
    "# problem 1ab\n",
    "prime_pi(2^32)-prime_pi(2^31)"
   ]
  },
  {
   "cell_type": "code",
   "execution_count": 4,
   "metadata": {
    "collapsed": false
   },
   "outputs": [
    {
     "ename": "NotImplementedError",
     "evalue": "computation of prime_pi for x >= 2^63 is not implemented",
     "output_type": "error",
     "traceback": [
      "\u001b[0;31m---------------------------------------------------------------------------\u001b[0m",
      "\u001b[0;31mNotImplementedError\u001b[0m                       Traceback (most recent call last)",
      "\u001b[0;32m<ipython-input-4-53ae71c93d75>\u001b[0m in \u001b[0;36m<module>\u001b[0;34m()\u001b[0m\n\u001b[1;32m      1\u001b[0m \u001b[0;31m# problem 1c\u001b[0m\u001b[0;34m\u001b[0m\u001b[0;34m\u001b[0m\u001b[0m\n\u001b[0;32m----> 2\u001b[0;31m \u001b[0mprime_pi\u001b[0m\u001b[0;34m(\u001b[0m\u001b[0mInteger\u001b[0m\u001b[0;34m(\u001b[0m\u001b[0;36m2\u001b[0m\u001b[0;34m)\u001b[0m\u001b[0;34m**\u001b[0m\u001b[0mInteger\u001b[0m\u001b[0;34m(\u001b[0m\u001b[0;36m64\u001b[0m\u001b[0;34m)\u001b[0m\u001b[0;34m)\u001b[0m\u001b[0;34m-\u001b[0m\u001b[0mprime_pi\u001b[0m\u001b[0;34m(\u001b[0m\u001b[0mInteger\u001b[0m\u001b[0;34m(\u001b[0m\u001b[0;36m2\u001b[0m\u001b[0;34m)\u001b[0m\u001b[0;34m**\u001b[0m\u001b[0mInteger\u001b[0m\u001b[0;34m(\u001b[0m\u001b[0;36m63\u001b[0m\u001b[0;34m)\u001b[0m\u001b[0;34m)\u001b[0m\u001b[0;34m\u001b[0m\u001b[0m\n\u001b[0m",
      "\u001b[0;32m/ext/sage/sage-8.7_1804/local/lib/python2.7/site-packages/sage/functions/prime_pi.pyx\u001b[0m in \u001b[0;36msage.functions.prime_pi.PrimePi.__call__ (build/cythonized/sage/functions/prime_pi.c:3910)\u001b[0;34m()\u001b[0m\n\u001b[1;32m    194\u001b[0m         \u001b[0;32melse\u001b[0m\u001b[0;34m:\u001b[0m\u001b[0;34m\u001b[0m\u001b[0m\n\u001b[1;32m    195\u001b[0m             \u001b[0mself\u001b[0m\u001b[0;34m.\u001b[0m\u001b[0m__primeBound\u001b[0m \u001b[0;34m=\u001b[0m \u001b[0;36m0\u001b[0m\u001b[0mu\u001b[0m \u001b[0;32mif\u001b[0m \u001b[0mlen\u001b[0m\u001b[0;34m(\u001b[0m\u001b[0margs\u001b[0m\u001b[0;34m)\u001b[0m \u001b[0;34m<\u001b[0m \u001b[0;36m2\u001b[0m \u001b[0;32melse\u001b[0m \u001b[0margs\u001b[0m\u001b[0;34m[\u001b[0m\u001b[0;36m1\u001b[0m\u001b[0;34m]\u001b[0m\u001b[0;34m\u001b[0m\u001b[0m\n\u001b[0;32m--> 196\u001b[0;31m         \u001b[0;32mreturn\u001b[0m \u001b[0msuper\u001b[0m\u001b[0;34m(\u001b[0m\u001b[0mPrimePi\u001b[0m\u001b[0;34m,\u001b[0m \u001b[0mself\u001b[0m\u001b[0;34m)\u001b[0m\u001b[0;34m.\u001b[0m\u001b[0m__call__\u001b[0m\u001b[0;34m(\u001b[0m\u001b[0margs\u001b[0m\u001b[0;34m[\u001b[0m\u001b[0;36m0\u001b[0m\u001b[0;34m]\u001b[0m\u001b[0;34m,\u001b[0m \u001b[0mcoerce\u001b[0m\u001b[0;34m=\u001b[0m\u001b[0mcoerce\u001b[0m\u001b[0;34m,\u001b[0m \u001b[0mhold\u001b[0m\u001b[0;34m=\u001b[0m\u001b[0mhold\u001b[0m\u001b[0;34m)\u001b[0m\u001b[0;34m\u001b[0m\u001b[0m\n\u001b[0m\u001b[1;32m    197\u001b[0m \u001b[0;34m\u001b[0m\u001b[0m\n\u001b[1;32m    198\u001b[0m     \u001b[0;32mdef\u001b[0m \u001b[0m_eval_\u001b[0m\u001b[0;34m(\u001b[0m\u001b[0mself\u001b[0m\u001b[0;34m,\u001b[0m \u001b[0mx\u001b[0m\u001b[0;34m)\u001b[0m\u001b[0;34m:\u001b[0m\u001b[0;34m\u001b[0m\u001b[0m\n",
      "\u001b[0;32m/ext/sage/sage-8.7_1804/local/lib/python2.7/site-packages/sage/symbolic/function.pyx\u001b[0m in \u001b[0;36msage.symbolic.function.BuiltinFunction.__call__ (build/cythonized/sage/symbolic/function.cpp:11841)\u001b[0;34m()\u001b[0m\n\u001b[1;32m    996\u001b[0m             \u001b[0mres\u001b[0m \u001b[0;34m=\u001b[0m \u001b[0mself\u001b[0m\u001b[0;34m.\u001b[0m\u001b[0m_evalf_try_\u001b[0m\u001b[0;34m(\u001b[0m\u001b[0;34m*\u001b[0m\u001b[0margs\u001b[0m\u001b[0;34m)\u001b[0m\u001b[0;34m\u001b[0m\u001b[0m\n\u001b[1;32m    997\u001b[0m             \u001b[0;32mif\u001b[0m \u001b[0mres\u001b[0m \u001b[0;32mis\u001b[0m \u001b[0mNone\u001b[0m\u001b[0;34m:\u001b[0m\u001b[0;34m\u001b[0m\u001b[0m\n\u001b[0;32m--> 998\u001b[0;31m                 res = super(BuiltinFunction, self).__call__(\n\u001b[0m\u001b[1;32m    999\u001b[0m                         *args, coerce=coerce, hold=hold)\n\u001b[1;32m   1000\u001b[0m \u001b[0;34m\u001b[0m\u001b[0m\n",
      "\u001b[0;32m/ext/sage/sage-8.7_1804/local/lib/python2.7/site-packages/sage/symbolic/function.pyx\u001b[0m in \u001b[0;36msage.symbolic.function.Function.__call__ (build/cythonized/sage/symbolic/function.cpp:6865)\u001b[0;34m()\u001b[0m\n\u001b[1;32m    487\u001b[0m             \u001b[0mres\u001b[0m \u001b[0;34m=\u001b[0m \u001b[0mg_function_evalv\u001b[0m\u001b[0;34m(\u001b[0m\u001b[0mself\u001b[0m\u001b[0;34m.\u001b[0m\u001b[0m_serial\u001b[0m\u001b[0;34m,\u001b[0m \u001b[0mvec\u001b[0m\u001b[0;34m,\u001b[0m \u001b[0mhold\u001b[0m\u001b[0;34m)\u001b[0m\u001b[0;34m\u001b[0m\u001b[0m\n\u001b[1;32m    488\u001b[0m         \u001b[0;32melif\u001b[0m \u001b[0mself\u001b[0m\u001b[0;34m.\u001b[0m\u001b[0m_nargs\u001b[0m \u001b[0;34m==\u001b[0m \u001b[0;36m1\u001b[0m\u001b[0;34m:\u001b[0m\u001b[0;34m\u001b[0m\u001b[0m\n\u001b[0;32m--> 489\u001b[0;31m             res = g_function_eval1(self._serial,\n\u001b[0m\u001b[1;32m    490\u001b[0m                     (<Expression>args[0])._gobj, hold)\n\u001b[1;32m    491\u001b[0m         \u001b[0;32melif\u001b[0m \u001b[0mself\u001b[0m\u001b[0;34m.\u001b[0m\u001b[0m_nargs\u001b[0m \u001b[0;34m==\u001b[0m \u001b[0;36m2\u001b[0m\u001b[0;34m:\u001b[0m\u001b[0;34m\u001b[0m\u001b[0m\n",
      "\u001b[0;32m/ext/sage/sage-8.7_1804/local/lib/python2.7/site-packages/sage/functions/prime_pi.pyx\u001b[0m in \u001b[0;36msage.functions.prime_pi.PrimePi._eval_ (build/cythonized/sage/functions/prime_pi.c:4045)\u001b[0;34m()\u001b[0m\n\u001b[1;32m    246\u001b[0m             \u001b[0mz\u001b[0m \u001b[0;34m=\u001b[0m \u001b[0marg_to_uint64\u001b[0m\u001b[0;34m(\u001b[0m\u001b[0mx\u001b[0m\u001b[0;34m,\u001b[0m \u001b[0;34m'prime_pi'\u001b[0m\u001b[0;34m,\u001b[0m \u001b[0;34m'x'\u001b[0m\u001b[0;34m)\u001b[0m\u001b[0;34m\u001b[0m\u001b[0m\n\u001b[1;32m    247\u001b[0m         \u001b[0;32mexcept\u001b[0m \u001b[0mNotImplementedError\u001b[0m\u001b[0;34m:\u001b[0m\u001b[0;34m\u001b[0m\u001b[0m\n\u001b[0;32m--> 248\u001b[0;31m             \u001b[0;32mraise\u001b[0m\u001b[0;34m\u001b[0m\u001b[0m\n\u001b[0m\u001b[1;32m    249\u001b[0m         \u001b[0;32mexcept\u001b[0m \u001b[0mTypeError\u001b[0m\u001b[0;34m:\u001b[0m\u001b[0;34m\u001b[0m\u001b[0m\n\u001b[1;32m    250\u001b[0m             \u001b[0;32mreturn\u001b[0m \u001b[0mNone\u001b[0m\u001b[0;34m\u001b[0m\u001b[0m\n",
      "\u001b[0;32m/ext/sage/sage-8.7_1804/local/lib/python2.7/site-packages/sage/functions/prime_pi.pyx\u001b[0m in \u001b[0;36msage.functions.prime_pi.PrimePi._eval_ (build/cythonized/sage/functions/prime_pi.c:4001)\u001b[0;34m()\u001b[0m\n\u001b[1;32m    244\u001b[0m         \u001b[0mcdef\u001b[0m \u001b[0muint64_t\u001b[0m \u001b[0mz\u001b[0m\u001b[0;34m\u001b[0m\u001b[0m\n\u001b[1;32m    245\u001b[0m         \u001b[0;32mtry\u001b[0m\u001b[0;34m:\u001b[0m\u001b[0;34m\u001b[0m\u001b[0m\n\u001b[0;32m--> 246\u001b[0;31m             \u001b[0mz\u001b[0m \u001b[0;34m=\u001b[0m \u001b[0marg_to_uint64\u001b[0m\u001b[0;34m(\u001b[0m\u001b[0mx\u001b[0m\u001b[0;34m,\u001b[0m \u001b[0;34m'prime_pi'\u001b[0m\u001b[0;34m,\u001b[0m \u001b[0;34m'x'\u001b[0m\u001b[0;34m)\u001b[0m\u001b[0;34m\u001b[0m\u001b[0m\n\u001b[0m\u001b[1;32m    247\u001b[0m         \u001b[0;32mexcept\u001b[0m \u001b[0mNotImplementedError\u001b[0m\u001b[0;34m:\u001b[0m\u001b[0;34m\u001b[0m\u001b[0m\n\u001b[1;32m    248\u001b[0m             \u001b[0;32mraise\u001b[0m\u001b[0;34m\u001b[0m\u001b[0m\n",
      "\u001b[0;32m/ext/sage/sage-8.7_1804/local/lib/python2.7/site-packages/sage/functions/prime_pi.pyx\u001b[0m in \u001b[0;36msage.functions.prime_pi.arg_to_uint64 (build/cythonized/sage/functions/prime_pi.c:3103)\u001b[0;34m()\u001b[0m\n\u001b[1;32m     48\u001b[0m         \u001b[0;32mreturn\u001b[0m \u001b[0;36m0\u001b[0m\u001b[0mull\u001b[0m\u001b[0;34m\u001b[0m\u001b[0m\n\u001b[1;32m     49\u001b[0m     \u001b[0;32mif\u001b[0m \u001b[0mmpz_sizeinbase\u001b[0m\u001b[0;34m(\u001b[0m\u001b[0;34m(\u001b[0m\u001b[0;34m<\u001b[0m\u001b[0mInteger\u001b[0m\u001b[0;34m>\u001b[0m\u001b[0mx\u001b[0m\u001b[0;34m)\u001b[0m\u001b[0;34m.\u001b[0m\u001b[0mvalue\u001b[0m\u001b[0;34m,\u001b[0m \u001b[0;36m2\u001b[0m\u001b[0;34m)\u001b[0m \u001b[0;34m>\u001b[0m \u001b[0;36m63\u001b[0m\u001b[0;34m:\u001b[0m\u001b[0;34m\u001b[0m\u001b[0m\n\u001b[0;32m---> 50\u001b[0;31m         raise NotImplementedError(\"computation of \" + s1 + \" for x >= \"\n\u001b[0m\u001b[1;32m     51\u001b[0m                 + \"2^63 is not implemented\")\n\u001b[1;32m     52\u001b[0m     \u001b[0;32mif\u001b[0m \u001b[0mmpz_sizeinbase\u001b[0m\u001b[0;34m(\u001b[0m\u001b[0;34m(\u001b[0m\u001b[0;34m<\u001b[0m\u001b[0mInteger\u001b[0m\u001b[0;34m>\u001b[0m\u001b[0mx\u001b[0m\u001b[0;34m)\u001b[0m\u001b[0;34m.\u001b[0m\u001b[0mvalue\u001b[0m\u001b[0;34m,\u001b[0m \u001b[0;36m2\u001b[0m\u001b[0;34m)\u001b[0m \u001b[0;34m>\u001b[0m \u001b[0;36m43\u001b[0m\u001b[0;34m:\u001b[0m\u001b[0;34m\u001b[0m\u001b[0m\n",
      "\u001b[0;31mNotImplementedError\u001b[0m: computation of prime_pi for x >= 2^63 is not implemented"
     ]
    }
   ],
   "source": [
    "# problem 1c\n",
    "prime_pi(2^64)-prime_pi(2^63)"
   ]
  },
  {
   "cell_type": "code",
   "execution_count": 0,
   "metadata": {
    "collapsed": false
   },
   "outputs": [
   ],
   "source": [
    "# problem 1d\n",
    "prime_pi(2^1024)-prime_pi(2^1023)"
   ]
  },
  {
   "cell_type": "code",
   "execution_count": 6,
   "metadata": {
    "collapsed": false
   },
   "outputs": [
    {
     "name": "stdout",
     "output_type": "stream",
     "text": [
      "2a\n",
      "M 2 = 3 \tis it prime? True\n",
      "M 3 = 7 \tis it prime? True\n",
      "M 4 = 15 \tis it prime? False\n",
      "M 5 = 31 \tis it prime? True\n",
      "M 6 = 63 \tis it prime? False\n",
      "M 7 = 127 \tis it prime? True\n",
      "M 8 = 255 \tis it prime? False\n",
      "M 9 = 511 \tis it prime? False\n",
      "M 10 = 1023 \tis it prime? False\n",
      "M 11 = 2047 \tis it prime? False\n",
      "M 12 = 4095 \tis it prime? False\n",
      "M 13 = 8191 \tis it prime? True\n",
      "M 14 = 16383 \tis it prime? False\n",
      "M 15 = 32767 \tis it prime? False\n",
      "M 16 = 65535 \tis it prime? False\n",
      "M 17 = 131071 \tis it prime? True\n",
      "M 18 = 262143 \tis it prime? False\n",
      "M 19 = 524287 \tis it prime? True\n",
      "M 20 = 1048575 \tis it prime? False\n",
      "M 21 = 2097151 \tis it prime? False\n",
      "M 22 = 4194303 \tis it prime? False\n",
      "M 23 = 8388607 \tis it prime? False\n",
      "M 24 = 16777215 \tis it prime? False\n",
      "M 25 = 33554431 \tis it prime? False\n",
      "M 26 = 67108863 \tis it prime? False\n",
      "M 27 = 134217727 \tis it prime? False\n",
      "M 28 = 268435455 \tis it prime? False\n",
      "M 29 = 536870911 \tis it prime? False\n",
      "M 30 = 1073741823 \tis it prime? False\n",
      "M 31 = 2147483647 \tis it prime? True\n",
      "M 32 = 4294967295 \tis it prime? False\n",
      "M 33 = 8589934591 \tis it prime? False\n",
      "M 34 = 17179869183 \tis it prime? False\n",
      "M 35 = 34359738367 \tis it prime? False\n",
      "M 36 = 68719476735 \tis it prime? False\n",
      "M 37 = 137438953471 \tis it prime? False\n",
      "M 38 = 274877906943 \tis it prime? False\n",
      "M 39 = 549755813887 \tis it prime? False\n",
      "M 40 = 1099511627775 \tis it prime? False\n",
      "M 41 = 2199023255551 \tis it prime? False\n",
      "M 42 = 4398046511103 \tis it prime? False\n",
      "M 43 = 8796093022207 \tis it prime? False\n",
      "M 44 = 17592186044415 \tis it prime? False\n",
      "M 45 = 35184372088831 \tis it prime? False\n",
      "M 46 = 70368744177663 \tis it prime? False\n",
      "M 47 = 140737488355327 \tis it prime? False\n",
      "M 48 = 281474976710655 \tis it prime? False\n",
      "M 49 = 562949953421311 \tis it prime? False\n",
      "M 50 = 1125899906842623 \tis it prime? False\n",
      "M 51 = 2251799813685247 \tis it prime? False\n",
      "M 52 = 4503599627370495 \tis it prime? False\n",
      "M 53 = 9007199254740991 \tis it prime? False\n",
      "M 54 = 18014398509481983 \tis it prime? False\n",
      "M 55 = 36028797018963967 \tis it prime? False\n",
      "M 56 = 72057594037927935 \tis it prime? False\n",
      "M 57 = 144115188075855871 \tis it prime? False\n",
      "M 58 = 288230376151711743 \tis it prime? False\n",
      "M 59 = 576460752303423487 \tis it prime? False\n",
      "M 60 = 1152921504606846975 \tis it prime? False\n",
      "M 61 = 2305843009213693951 \tis it prime? True\n",
      "M 62 = 4611686018427387903 \tis it prime? False\n",
      "M 63 = 9223372036854775807 \tis it prime? False\n",
      "M 64 = 18446744073709551615 \tis it prime? False\n",
      "M 65 = 36893488147419103231 \tis it prime? False\n",
      "M 66 = 73786976294838206463 \tis it prime? False\n",
      "M 67 = 147573952589676412927 \tis it prime? False\n",
      "M 68 = 295147905179352825855 \tis it prime? False\n",
      "M 69 = 590295810358705651711 \tis it prime? False\n",
      "M 70 = 1180591620717411303423 \tis it prime? False\n",
      "M 71 = 2361183241434822606847 \tis it prime? False\n",
      "M 72 = 4722366482869645213695 \tis it prime? False\n",
      "M 73 = 9444732965739290427391 \tis it prime? False\n",
      "M 74 = 18889465931478580854783 \tis it prime? False\n",
      "M 75 = 37778931862957161709567 \tis it prime? False\n",
      "M 76 = 75557863725914323419135 \tis it prime? False\n",
      "M 77 = 151115727451828646838271 \tis it prime? False\n",
      "M 78 = 302231454903657293676543 \tis it prime? False\n",
      "M 79 = 604462909807314587353087 \tis it prime? False\n",
      "M 80 = 1208925819614629174706175 \tis it prime? False\n",
      "M 81 = 2417851639229258349412351 \tis it prime? False\n",
      "M 82 = 4835703278458516698824703 \tis it prime? False\n",
      "M 83 = 9671406556917033397649407 \tis it prime? False\n",
      "M 84 = 19342813113834066795298815 \tis it prime? False\n",
      "M 85 = 38685626227668133590597631 \tis it prime? False\n",
      "M 86 = 77371252455336267181195263 \tis it prime? False\n",
      "M 87 = 154742504910672534362390527 \tis it prime? False\n",
      "M 88 = 309485009821345068724781055 \tis it prime? False\n",
      "M 89 = 618970019642690137449562111 \tis it prime? True\n",
      "M 90 = 1237940039285380274899124223 \tis it prime? False\n",
      "M 91 = 2475880078570760549798248447 \tis it prime? False\n",
      "M 92 = 4951760157141521099596496895 \tis it prime? False\n",
      "M 93 = 9903520314283042199192993791 \tis it prime? False\n",
      "M 94 = 19807040628566084398385987583 \tis it prime? False\n",
      "M 95 = 39614081257132168796771975167 \tis it prime? False\n",
      "M 96 = 79228162514264337593543950335 \tis it prime? False\n",
      "M 97 = 158456325028528675187087900671 \tis it prime? False\n",
      "M 98 = 316912650057057350374175801343 \tis it prime? False\n",
      "M 99 = 633825300114114700748351602687 \tis it prime? False\n",
      "M 100 = 1267650600228229401496703205375 \tis it prime? False\n"
     ]
    }
   ],
   "source": [
    "# problem 2a\n",
    "print(\"2a\")\n",
    "for n in [2..100]:\n",
    "    print 'M',n,'=', 2^n - 1, '\\tis it prime?',is_prime(2^n - 1)"
   ]
  },
  {
   "cell_type": "code",
   "execution_count": 7,
   "metadata": {
    "collapsed": false
   },
   "outputs": [
    {
     "name": "stdout",
     "output_type": "stream",
     "text": [
      "2b\n",
      "M 2 = 3 \tis it prime? True\n",
      "M 3 = 7 \tis it prime? True\n",
      "M 4 = 15 \tis it prime? False\n",
      "M 5 = 31 \tis it prime? True\n",
      "M 6 = 63 \tis it prime? False\n",
      "M 7 = 127 \tis it prime? True\n",
      "M 8 = 255 \tis it prime? False\n",
      "M 9 = 511 \tis it prime? False\n",
      "M 10 = 1023 \tis it prime? False\n",
      "M 11 = 2047 \tis it prime? False\n",
      "M 12 = 4095 \tis it prime? False\n",
      "M 13 = 8191 \tis it prime? True\n",
      "M 14 = 16383 \tis it prime? False\n",
      "M 15 = 32767 \tis it prime? False\n",
      "M 16 = 65535 \tis it prime? False\n",
      "M 17 = 131071 \tis it prime? True\n",
      "M 18 = 262143 \tis it prime? False\n",
      "M 19 = 524287 \tis it prime? True\n",
      "M 20 = 1048575 \tis it prime? False\n",
      "M 21 = 2097151 \tis it prime? False\n",
      "M 22 = 4194303 \tis it prime? False\n",
      "M 23 = 8388607 \tis it prime? False\n",
      "M 24 = 16777215 \tis it prime? False\n",
      "M 25 = 33554431 \tis it prime? False\n",
      "M 26 = 67108863 \tis it prime? False\n",
      "M 27 = 134217727 \tis it prime? False\n",
      "M 28 = 268435455 \tis it prime? False\n",
      "M 29 = 536870911 \tis it prime? False\n",
      "M 30 = 1073741823 \tis it prime? False\n",
      "M 31 = 2147483647 \tis it prime? True\n",
      "M 32 = 4294967295 \tis it prime? False\n",
      "M 33 = 8589934591 \tis it prime? False\n",
      "M 34 = 17179869183 \tis it prime? False\n",
      "M 35 = 34359738367 \tis it prime? False\n",
      "M 36 = 68719476735 \tis it prime? False\n",
      "M 37 = 137438953471 \tis it prime? False\n",
      "M 38 = 274877906943 \tis it prime? False\n",
      "M 39 = 549755813887 \tis it prime? False\n",
      "M 40 = 1099511627775 \tis it prime? False\n",
      "M 41 = 2199023255551 \tis it prime? False\n",
      "M 42 = 4398046511103 \tis it prime? False\n",
      "M 43 = 8796093022207 \tis it prime? False\n",
      "M 44 = 17592186044415 \tis it prime? False\n",
      "M 45 = 35184372088831 \tis it prime? False\n",
      "M 46 = 70368744177663 \tis it prime? False\n",
      "M 47 = 140737488355327 \tis it prime? False\n",
      "M 48 = 281474976710655 \tis it prime? False\n",
      "M 49 = 562949953421311 \tis it prime? False\n",
      "M 50 = 1125899906842623 \tis it prime? False\n",
      "M 51 = 2251799813685247 \tis it prime? False\n",
      "M 52 = 4503599627370495 \tis it prime? False\n",
      "M 53 = 9007199254740991 \tis it prime? False\n",
      "M 54 = 18014398509481983 \tis it prime? False\n",
      "M 55 = 36028797018963967 \tis it prime? False\n",
      "M 56 = 72057594037927935 \tis it prime? False\n",
      "M 57 = 144115188075855871 \tis it prime? False\n",
      "M 58 = 288230376151711743 \tis it prime? False\n",
      "M 59 = 576460752303423487 \tis it prime? False\n",
      "M 60 = 1152921504606846975 \tis it prime? False\n",
      "M 61 = 2305843009213693951 \tis it prime? True\n",
      "M 62 = 4611686018427387903 \tis it prime? False\n",
      "M 63 = 9223372036854775807 \tis it prime? False\n",
      "M 64 = 18446744073709551615 \tis it prime? False\n",
      "M 65 = 36893488147419103231 \tis it prime? False\n",
      "M 66 = 73786976294838206463 \tis it prime? False\n",
      "M 67 = 147573952589676412927 \tis it prime? False\n",
      "M 68 = 295147905179352825855 \tis it prime? False\n",
      "M 69 = 590295810358705651711 \tis it prime? False\n",
      "M 70 = 1180591620717411303423 \tis it prime? False\n",
      "M 71 = 2361183241434822606847 \tis it prime? False\n",
      "M 72 = 4722366482869645213695 \tis it prime? False\n",
      "M 73 = 9444732965739290427391 \tis it prime? False\n",
      "M 74 = 18889465931478580854783 \tis it prime? False\n",
      "M 75 = 37778931862957161709567 \tis it prime? False\n",
      "M 76 = 75557863725914323419135 \tis it prime? False\n",
      "M 77 = 151115727451828646838271 \tis it prime? False\n",
      "M 78 = 302231454903657293676543 \tis it prime? False\n",
      "M 79 = 604462909807314587353087 \tis it prime? False\n",
      "M 80 = 1208925819614629174706175 \tis it prime? False\n",
      "M 81 = 2417851639229258349412351 \tis it prime? False\n",
      "M 82 = 4835703278458516698824703 \tis it prime? False\n",
      "M 83 = 9671406556917033397649407 \tis it prime? False\n",
      "M 84 = 19342813113834066795298815 \tis it prime? False\n",
      "M 85 = 38685626227668133590597631 \tis it prime? False\n",
      "M 86 = 77371252455336267181195263 \tis it prime? False\n",
      "M 87 = 154742504910672534362390527 \tis it prime? False\n",
      "M 88 = 309485009821345068724781055 \tis it prime? False\n",
      "M 89 = 618970019642690137449562111 \tis it prime? True\n",
      "M 90 = 1237940039285380274899124223 \tis it prime? False\n",
      "M 91 = 2475880078570760549798248447 \tis it prime? False\n",
      "M 92 = 4951760157141521099596496895 \tis it prime? False\n",
      "M 93 = 9903520314283042199192993791 \tis it prime? False\n",
      "M 94 = 19807040628566084398385987583 \tis it prime? False\n",
      "M 95 = 39614081257132168796771975167 \tis it prime? False\n",
      "M 96 = 79228162514264337593543950335 \tis it prime? False\n",
      "M 97 = 158456325028528675187087900671 \tis it prime? False\n",
      "M 98 = 316912650057057350374175801343 \tis it prime? False\n",
      "M 99 = 633825300114114700748351602687 \tis it prime? False\n",
      "M 100 = 1267650600228229401496703205375 \tis it prime? False\n"
     ]
    }
   ],
   "source": [
    "# problem 2b\n",
    "print(\"2b\")\n",
    "for n in [2..100]:\n",
    "    print 'M',n,'=', 2^n - 1, '\\tis it prime?',is_prime(2^n - 1)"
   ]
  },
  {
   "cell_type": "code",
   "execution_count": 8,
   "metadata": {
    "collapsed": false
   },
   "outputs": [
    {
     "data": {
      "text/plain": [
       "'Prime'"
      ]
     },
     "execution_count": 8,
     "metadata": {
     },
     "output_type": "execute_result"
    }
   ],
   "source": [
    "# problem 2ci\n",
    "def lucas_lehmer(p):\n",
    "    M = 2^p - 1\n",
    "    s = 4\n",
    "    for i in range(p-2):\n",
    "        s= (s^2-2)%M\n",
    "    if s == 0: return 'Prime'\n",
    "    else: return 'Composite'\n",
    "M127 = 2^(7) - 1\n",
    "lucas_lehmer(M127)"
   ]
  },
  {
   "cell_type": "code",
   "execution_count": 9,
   "metadata": {
    "collapsed": false
   },
   "outputs": [
    {
     "data": {
      "text/plain": [
       "'Composite'"
      ]
     },
     "execution_count": 9,
     "metadata": {
     },
     "output_type": "execute_result"
    }
   ],
   "source": [
    "# problem 2cii\n",
    "def lucas_lehmer(p):\n",
    "    M = 2^p - 1\n",
    "    s = 4\n",
    "    for i in range(p-2):\n",
    "        s= (s^2-2)%M\n",
    "    if s == 0: return 'Prime'\n",
    "    else: return 'Composite'\n",
    "M2047 = 2^(11) - 1\n",
    "lucas_lehmer(M2047)"
   ]
  },
  {
   "cell_type": "code",
   "execution_count": 10,
   "metadata": {
    "collapsed": false
   },
   "outputs": [
    {
     "data": {
      "text/plain": [
       "'Composite'"
      ]
     },
     "execution_count": 10,
     "metadata": {
     },
     "output_type": "execute_result"
    }
   ],
   "source": [
    "# problem 2ciii\n",
    "def lucas_lehmer(p):\n",
    "    M = 2^p - 1\n",
    "    s = 4\n",
    "    for i in range(p-2):\n",
    "        s= (s^2-2)%M\n",
    "    if s == 0: return 'Prime'\n",
    "    else: return 'Composite'\n",
    "M8191 = 2^(13) - 1\n",
    "lucas_lehmer(M8191)"
   ]
  },
  {
   "cell_type": "code",
   "execution_count": 11,
   "metadata": {
    "collapsed": false
   },
   "outputs": [
    {
     "name": "stdout",
     "output_type": "stream",
     "text": [
      "Problem 3b\n",
      "N = 253873\n",
      "t_0 = 504\n",
      "504 ^2= 143 = 11 * 13\n",
      "505 ^2= 1152 = 2^7 * 3^2\n",
      "519 ^2= 15488 = 2^7 * 11^2\n",
      "523 ^2= 19656 = 2^3 * 3^3 * 7 * 13\n",
      "530 ^2= 27027 = 3^3 * 7 * 11 * 13\n",
      "537 ^2= 34496 = 2^6 * 7^2 * 11\n"
     ]
    }
   ],
   "source": [
    "# problem 3b\n",
    "print(\"Problem 3b\")\n",
    "\n",
    "def quadSieve(N, B, As, Cs):\n",
    "    print 'N =',N\n",
    "    t0 = ceil(sqrt(N))\n",
    "    print 't_0 =',t0\n",
    "    list_of_as_and_cs = []\n",
    "    for k in range(35): #How high do we have to go for 13-Smooth - general B Smooth?\n",
    "        a = t0 + k\n",
    "        c = power_mod(t0+k,2,N)\n",
    "        factored_c = factor(c)\n",
    "        if factored_c[len(factored_c)-1][0] <= B:#SuperSlow - factors each number! (This is where Sieves Help!)\n",
    "            As.append(a)\n",
    "            Cs.append(c)\n",
    "            print a , '^2=', c ,'=', factor(c)\n",
    "\n",
    "list_of_as = [504, 505, 519, 523, 530, 537]\n",
    "list_of_cs = [143, 1152, 15488, 19656, 27027, 34496]\n",
    "\n",
    "quadSieve(253873, 13, list_of_as, list_of_cs)"
   ]
  },
  {
   "cell_type": "code",
   "execution_count": 12,
   "metadata": {
    "collapsed": false
   },
   "outputs": [
    {
     "name": "stdout",
     "output_type": "stream",
     "text": [
      "N = 253873\n",
      "t_0 = 504\n",
      "504 ^2= 143 = 11 * 13\n",
      "505 ^2= 1152 = 2^7 * 3^2\n",
      "519 ^2= 15488 = 2^7 * 11^2\n",
      "523 ^2= 19656 = 2^3 * 3^3 * 7 * 13\n",
      "530 ^2= 27027 = 3^3 * 7 * 11 * 13\n",
      "537 ^2= 34496 = 2^6 * 7^2 * 11\n"
     ]
    }
   ],
   "source": [
    "# problem 4a\n",
    "N = 253873\n",
    "B = 13 #Look for B-Smooth c_i's\n",
    "list_of_as = [504, 505, 519, 523, 530, 537]\n",
    "list_of_cs = [143, 1152, 15488, 19656, 27027, 34496]\n",
    "print 'N =',N\n",
    "t0 = ceil(sqrt(N))\n",
    "print 't_0 =',t0\n",
    "list_of_as_and_cs = []\n",
    "for k in range(35): #How high do we have to go for 13-Smooth - general B Smooth?\n",
    "    a = t0 + k\n",
    "    c = power_mod(t0+k,2,N)\n",
    "    factored_c = factor(c)\n",
    "    if factored_c[len(factored_c)-1][0] <= B:#SuperSlow - factors each number! (This is where Sieves Help!)\n",
    "        list_of_as.append(a)\n",
    "        list_of_cs.append(c)\n",
    "        print a , '^2=', c ,'=', factor(c)"
   ]
  },
  {
   "cell_type": "code",
   "execution_count": 13,
   "metadata": {
    "collapsed": false
   },
   "outputs": [
   ],
   "source": [
    "list_of_cs_exponents = [[0, 0, 0, 0, 1, 1],\n",
    "                        [7, 2, 0, 0, 0, 0],\n",
    "                        [7, 0, 0, 0, 2, 0],\n",
    "                        [3, 3, 0, 1, 0, 1],\n",
    "                        [0, 3, 0, 1, 1, 1],\n",
    "                        [6, 0, 0, 2, 1, 0]]"
   ]
  },
  {
   "cell_type": "code",
   "execution_count": 14,
   "metadata": {
    "collapsed": false
   },
   "outputs": [
    {
     "data": {
      "text/plain": [
       "[0 0 0 0 1 1]\n",
       "[1 0 0 0 0 0]\n",
       "[1 0 0 0 0 0]\n",
       "[1 1 0 1 0 1]\n",
       "[0 1 0 1 1 1]\n",
       "[0 0 0 0 1 0]"
      ]
     },
     "execution_count": 14,
     "metadata": {
     },
     "output_type": "execute_result"
    }
   ],
   "source": [
    "M = matrix(GF(2),list_of_cs_exponents)\n",
    "M"
   ]
  },
  {
   "cell_type": "code",
   "execution_count": 15,
   "metadata": {
    "collapsed": false
   },
   "outputs": [
    {
     "data": {
      "text/plain": [
       "[\n",
       "(0, 1, 0, 1, 1, 1),\n",
       "(0, 0, 1, 1, 1, 1)\n",
       "]"
      ]
     },
     "execution_count": 15,
     "metadata": {
     },
     "output_type": "execute_result"
    }
   ],
   "source": [
    "list_of_ws = basis(kernel(M))\n",
    "list_of_ws"
   ]
  },
  {
   "cell_type": "code",
   "execution_count": 16,
   "metadata": {
    "collapsed": false
   },
   "outputs": [
    {
     "name": "stdout",
     "output_type": "stream",
     "text": [
      "N = 631321\n",
      "t_0 = 795\n",
      "795 ^2= 704 = 2^6 * 11\n",
      "797 ^2= 3888 = 2^4 * 3^5\n",
      "811 ^2= 26400 = 2^5 * 3 * 5^2 * 11\n",
      "839 ^2= 72600 = 2^3 * 3 * 5^2 * 11^2\n",
      "861 ^2= 110000 = 2^4 * 5^4 * 11\n"
     ]
    }
   ],
   "source": [
    "# problem 4b\n",
    "N = 631321\n",
    "B = 11 #Look for B-Smooth c_i's\n",
    "list_of_as = [795, 797, 811, 839, 861]\n",
    "list_of_cs = [704, 3888, 26400, 72600, 110000]\n",
    "print 'N =',N\n",
    "t0 = ceil(sqrt(N))\n",
    "print 't_0 =',t0\n",
    "list_of_as_and_cs = []\n",
    "for k in range(70): #How high do we have to go for 11-Smooth - general B Smooth?\n",
    "    a = t0 + k\n",
    "    c = power_mod(t0+k,2,N)\n",
    "    factored_c = factor(c)\n",
    "    if factored_c[len(factored_c)-1][0] <= B:#SuperSlow - factors each number! (This is where Sieves Help!)\n",
    "        list_of_as.append(a)\n",
    "        list_of_cs.append(c)\n",
    "        print a , '^2=', c ,'=', factor(c)"
   ]
  },
  {
   "cell_type": "code",
   "execution_count": 17,
   "metadata": {
    "collapsed": false
   },
   "outputs": [
   ],
   "source": [
    "list_of_cs_exponents = [[6, 0, 0, 0, 1],\n",
    "                        [4, 5, 0, 0, 0],\n",
    "                        [5, 1, 2, 0, 1],\n",
    "                        [3, 1, 2, 0, 2],\n",
    "                        [4, 0, 4, 0, 1]]"
   ]
  },
  {
   "cell_type": "code",
   "execution_count": 18,
   "metadata": {
    "collapsed": false
   },
   "outputs": [
    {
     "data": {
      "text/plain": [
       "[0 0 0 0 1]\n",
       "[0 1 0 0 0]\n",
       "[1 1 0 0 1]\n",
       "[1 1 0 0 0]\n",
       "[0 0 0 0 1]"
      ]
     },
     "execution_count": 18,
     "metadata": {
     },
     "output_type": "execute_result"
    }
   ],
   "source": [
    "M = matrix(GF(2),list_of_cs_exponents)\n",
    "M"
   ]
  },
  {
   "cell_type": "code",
   "execution_count": 19,
   "metadata": {
    "collapsed": false
   },
   "outputs": [
    {
     "data": {
      "text/plain": [
       "[\n",
       "(1, 0, 0, 0, 1),\n",
       "(0, 0, 1, 1, 1)\n",
       "]"
      ]
     },
     "execution_count": 19,
     "metadata": {
     },
     "output_type": "execute_result"
    }
   ],
   "source": [
    "list_of_ws = basis(kernel(M))\n",
    "list_of_ws"
   ]
  },
  {
   "cell_type": "code",
   "execution_count": 20,
   "metadata": {
    "collapsed": false
   },
   "outputs": [
    {
     "data": {
      "text/plain": [
       "313 * 2017"
      ]
     },
     "execution_count": 20,
     "metadata": {
     },
     "output_type": "execute_result"
    }
   ],
   "source": [
    "# problem 5\n",
    "factor(631321)"
   ]
  },
  {
   "cell_type": "code",
   "execution_count": 0,
   "metadata": {
    "collapsed": false
   },
   "outputs": [
   ],
   "source": [
   ]
  }
 ],
 "metadata": {
  "kernelspec": {
   "display_name": "SageMath (stable)",
   "language": "sagemath",
   "metadata": {
    "cocalc": {
     "description": "Open-source mathematical software system",
     "priority": 10,
     "url": "https://www.sagemath.org/"
    }
   },
   "name": "sagemath"
  },
  "language_info": {
   "codemirror_mode": {
    "name": "ipython",
    "version": 2
   },
   "file_extension": ".py",
   "mimetype": "text/x-python",
   "name": "python",
   "nbconvert_exporter": "python",
   "pygments_lexer": "ipython2",
   "version": "2.7.15"
  }
 },
 "nbformat": 4,
 "nbformat_minor": 0
}