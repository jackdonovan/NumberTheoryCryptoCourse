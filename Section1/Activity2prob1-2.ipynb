{
 "cells": [
  {
   "cell_type": "code",
   "execution_count": 1,
   "metadata": {
    "collapsed": false
   },
   "outputs": [
    {
     "name": "stdout",
     "output_type": "stream",
     "text": [
      "(173, 4, -181)\n",
      "(7, 18993, -23883)\n",
      "(1, 3048549, -8675309)\n"
     ]
    }
   ],
   "source": [
    "def cusGcd(a,b):\n",
    "    u = 1\n",
    "    g = a\n",
    "    x = 0\n",
    "    v = 0\n",
    "    y = b\n",
    "    while (true):\n",
    "        if(y == 0):\n",
    "            u = u+(b/g)\n",
    "            v = v-(a/g)\n",
    "            return(g, u, v)\n",
    "        q = floor(g/y)\n",
    "        t = int(mod(g,y))\n",
    "        s = u - q*x\n",
    "        u = x\n",
    "        g = y\n",
    "        x = s\n",
    "        y = t\n",
    "\n",
    "\n",
    "\n",
    "print (cusGcd(31313, 519))\n",
    "print(cusGcd(167181,163961))\n",
    "print (cusGcd(8675309, 3892394))"
   ]
  },
  {
   "cell_type": "code",
   "execution_count": 0,
   "metadata": {
    "collapsed": false
   },
   "outputs": [
   ],
   "source": [
   ]
  }
 ],
 "metadata": {
  "kernelspec": {
   "display_name": "SageMath (stable)",
   "language": "sagemath",
   "metadata": {
    "cocalc": {
     "description": "Open-source mathematical software system",
     "priority": 10,
     "url": "https://www.sagemath.org/"
    }
   },
   "name": "sagemath"
  },
  "language_info": {
   "codemirror_mode": {
    "name": "ipython",
    "version": 2
   },
   "file_extension": ".py",
   "mimetype": "text/x-python",
   "name": "python",
   "nbconvert_exporter": "python",
   "pygments_lexer": "ipython2",
   "version": "2.7.15"
  }
 },
 "nbformat": 4,
 "nbformat_minor": 0
}