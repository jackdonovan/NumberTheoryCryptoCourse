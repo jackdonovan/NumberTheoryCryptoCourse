{
 "cells": [
  {
   "cell_type": "code",
   "execution_count": 1,
   "metadata": {
    "collapsed": false
   },
   "outputs": [
    {
     "name": "stdout",
     "output_type": "stream",
     "text": [
      "The Encoded Message:\n",
      "YXTPO TPOAB MAXRC INOBK WACZF NOOIJ ZAMOF XABER MJBEW TYWEZ ERFAN LYACK ZMPAR ACBEN ZOJCB JAKOY XYTWA CZFNO TCBRO FFYBO WTZMT ATPOX CBTPO BERWO AXPCI ERPEJ JYROK KABTP OBOZY OXAXP CIERK CXXOB YRGEK JPMKY AZAGM ERFOL ORWPO IYKTB MWERT PORKC BOZMR OYTPO BGECK KRABE RMATP OBIET POIET YWYER UACZF PELON OORKA XAAZY KPEKT AFOWB MABBO GBOTK CWPEJ JZYWE TYARK NCTKW YORWO UABQK XABOL YZEKU OZZEK XABGA AFERF NATPG ECKKE RFZOK KOBIE TPOIE TYWYE RKIEM NOHCK TYXYO FYRBO HAYWY RGTPE TTPOB OYKAR OKWYO RWOET ERMBE TOERF TPETT POYBA URUPA KOLOB MBOIA TOROK KXBAI ABFYR EBMPC IEREW TYLYT YOKKP ACZFQ OOJYT GORTZ OERFW ZOER\n",
      "Letter \tFrequency \t\tOccurences\n",
      "O \t0.121807465618861 \t62.0000000000000\n",
      "E \t0.0805500982318271 \t41.0000000000000\n",
      "A \t0.0785854616895874 \t40.0000000000000\n",
      "R \t0.0726915520628683 \t37.0000000000000\n",
      "T \t0.0726915520628683 \t37.0000000000000\n",
      "B \t0.0687622789783890 \t35.0000000000000\n",
      "Y \t0.0667976424361493 \t34.0000000000000\n",
      "K \t0.0667976424361493 \t34.0000000000000\n",
      "P \t0.0530451866404715 \t27.0000000000000\n",
      "W \t0.0392927308447937 \t20.0000000000000\n",
      "Z \t0.0392927308447937 \t20.0000000000000\n",
      "C \t0.0392927308447937 \t20.0000000000000\n",
      "F \t0.0333988212180747 \t17.0000000000000\n",
      "X \t0.0294695481335953 \t15.0000000000000\n",
      "M \t0.0294695481335953 \t15.0000000000000\n",
      "I \t0.0255402750491159 \t13.0000000000000\n",
      "J \t0.0196463654223969 \t10.0000000000000\n",
      "N \t0.0176817288801572 \t9.00000000000000\n",
      "G \t0.0157170923379175 \t8.00000000000000\n",
      "L \t0.0117878192534381 \t6.00000000000000\n",
      "U \t0.00982318271119843 \t5.00000000000000\n",
      "Q \t0.00392927308447937 \t2.00000000000000\n",
      "H \t0.00392927308447937 \t2.00000000000000\n",
      "Wzz Czde!\n",
      "zay Math!\n",
      "s-all -e--ers are ----n\n",
      "YXTPO TPOAB MAXRC INOBK WACZF NOOIJ ZAMOF XABER MJBEW TYWEZ ERFAN LYACK ZMPAR ACBEN ZOJCB JAKOY XYTWA CZFNO TCBRO FFYBO WTZMT ATPOX CBTPO BERWO AXPCI ERPEJ JYROK KABTP OBOZY OXAXP CIERK CXXOB YRGEK JPMKY AZAGM ERFOL ORWPO IYKTB MWERT PORKC BOZMR OYTPO BGECK KRABE RMATP OBIET POIET YWYER UACZF PELON OORKA XAAZY KPEKT AFOWB MABBO GBOTK CWPEJ JZYWE TYARK NCTKW YORWO UABQK XABOL YZEKU OZZEK XABGA AFERF NATPG ECKKE RFZOK KOBIE TPOIE TYWYE RKIEM NOHCK TYXYO FYRBO HAYWY RGTPE TTPOB OYKAR OKWYO RWOET ERMBE TOERF TPETT POYBA URUPA KOLOB MBOIA TOROK KXBAI ABFYR EBMPC IEREW TYLYT YOKKP ACZFQ OOJYT GORTZ OERFW ZOER\n",
      "Step: 1 Set: R = e\n",
      "----e --e-- ----- --e-- ----- -ee-- ---e- ----- ----- ----- ----- ----- ----- ----- -e--- ---e- ----- ----e ----e ----e ----- ---e- ----e ----e ----- ----- ---e- ----- e-e-- e---- ----- ---e- ----- ----- ----- ---e- e---e ----- ----- -e--- -e--- e---e ----- ----- ----- e---- -e--- ----- ----- ---e- ee--- ----- ----- --e-- ----e --e-- ----- ----- ----- ----- -e--e ----- ---e- ----- e---- ----- ----- ----- ----- ---e- -e--- --e-- ----- ----- -e--- ----e ----e ----- ----- ---e- e---- e---e --e-- ----- -e--- ----- -e--- ----- -e-e- --e-- -e-e- ----- ----- ----- ----- ----- -e--- ----- ee--- -e--- e---- -e--\n",
      "YXTPe TPeAB MAXRC INeBK WACZF NeeIJ ZAMeF XABER MJBEW TYWEZ ERFAN LYACK ZMPAR ACBEN ZeJCB JAKeY XYTWA CZFNe TCBRe FFYBe WTZMT ATPeX CBTPe BERWe AXPCI ERPEJ JYReK KABTP eBeZY eXAXP CIERK CXXeB YRGEK JPMKY AZAGM ERFeL eRWPe IYKTB MWERT PeRKC BeZMR eYTPe BGECK KRABE RMATP eBIET PeIET YWYER UACZF PELeN eeRKA XAAZY KPEKT AFeWB MABBe GBeTK CWPEJ JZYWE TYARK NCTKW YeRWe UABQK XABeL YZEKU eZZEK XABGA AFERF NATPG ECKKE RFZeK KeBIE TPeIE TYWYE RKIEM NeHCK TYXYe FYRBe HAYWY RGTPE TTPeB eYKAR eKWYe RWeET ERMBE TeERF TPETT PeYBA URUPA KeLeB MBeIA TeReK KXBAI ABFYR EBMPC IEREW TYLYT YeKKP ACZFQ eeJYT GeRTZ eERFW ZeER\n",
      "YXTPe TPeAB MAXRC INeBK WACZF NeeIJ ZAMeF XABER MJBEW TYWEZ ERFAN LYACK ZMPAR ACBEN ZeJCB JAKeY XYTWA CZFNe TCBRe FFYBe WTZMT ATPeX CBTPe BERWe AXPCI ERPEJ JYReK KABTP eBeZY eXAXP CIERK CXXeB YRGEK JPMKY AZAGM ERFeL eRWPe IYKTB MWERT PeRKC BeZMR eYTPe BGECK KRABE RMATP eBIET PeIET YWYER UACZF PELeN eeRKA XAAZY KPEKT AFeWB MABBe GBeTK CWPEJ JZYWE TYARK NCTKW YeRWe UABQK XABeL YZEKU eZZEK XABGA AFERF NATPG ECKKE RFZeK KeBIE TPeIE TYWYE RKIEM NeHCK TYXYe FYRBe HAYWY RGTPE TTPeB eYKAR eKWYe RWeET ERMBE TeERF TPETT PeYBA URUPA KeLeB MBeIA TeReK KXBAI ABFYR EBMPC IEREW TYLYT YeKKP ACZFQ eeJYT GeRTZ eERFW ZeER\n",
      "Step: 2 Set: E = a\n",
      "----e --e-- ----- --e-- ----- -ee-- ---e- ---a- ---a- ---a- a---- ----- ----- ---a- -e--- ---e- ----- ----e ----e ----e ----- ---e- ----e -a--e ----- a--a- ---e- ----- e-e-- e---- --a-- ---e- ---a- ----- ----- a--e- e---e ----- --a-- -e--- -e--- e---e --a-- ----a ----- e--a- -e-a- ---a- ----- -a-e- ee--- ----- --a-- --e-- ----e --e-- ---a- ----a ----- ----- -e--e ----- ---e- --a-- e--a- ----- --a-- ----- a---a ---e- -e--a --e-a ----a ---a- -e--- ----e ----e ----- ----a ---e- e---- e---e --ea- a---a -ea-- --a-- -e--- ----- -e-e- --e-- -e-e- ----- ----- a---- -a-a- ----- -e--- ----- ee--- -e--- ea--- -ea-\n",
      "YXTPe TPeAB MAXRC INeBK WACZF NeeIJ ZAMeF XABaR MJBaW TYWaZ aRFAN LYACK ZMPAR ACBaN ZeJCB JAKeY XYTWA CZFNe TCBRe FFYBe WTZMT ATPeX CBTPe BaRWe AXPCI aRPaJ JYReK KABTP eBeZY eXAXP CIaRK CXXeB YRGaK JPMKY AZAGM aRFeL eRWPe IYKTB MWaRT PeRKC BeZMR eYTPe BGaCK KRABa RMATP eBIaT PeIaT YWYaR UACZF PaLeN eeRKA XAAZY KPaKT AFeWB MABBe GBeTK CWPaJ JZYWa TYARK NCTKW YeRWe UABQK XABeL YZaKU eZZaK XABGA AFaRF NATPG aCKKa RFZeK KeBIa TPeIa TYWYa RKIaM NeHCK TYXYe FYRBe HAYWY RGTPa TTPeB eYKAR eKWYe RWeaT aRMBa TeaRF TPaTT PeYBA URUPA KeLeB MBeIA TeReK KXBAI ABFYR aBMPC IaRaW TYLYT YeKKP ACZFQ eeJYT GeRTZ eaRFW ZeaR\n",
      "Step: 3 Set: A = o\n",
      "----e --eo- -o--- --e-- -o--- -ee-- -o-e- -o-a- ---a- ---a- a--o- --o-- ---o- o--a- -e--- -o-e- ----o ----e ----e ----e ----- o--e- ----e -a--e o---- a--a- ---e- -o--- e-e-- e-o-- --a-- ---e- ---a- ----- o-o-- a--e- e---e ----- --a-- -e--- -e--- e---e --a-- --o-a --o-- e--a- -e-a- ---a- -o--- -a-e- ee--o -oo-- --a-- o-e-- -o--e --e-- ---a- ----a --o-- ----- -e--e -o--- -o-e- --a-- e--a- -o--o o-a-- -o--- a---a ---e- -e--a --e-a ----a ---a- -e--- ----e ----e -o--- ----a ---e- e--o- e---e --ea- a---a -ea-- --a-- -e--o ----o -e-e- --e-o -e-e- ---o- o---- a---- -a-a- ----- -e--- o---- ee--- -e--- ea--- -ea-\n",
      "YXTPe TPeoB MoXRC INeBK WoCZF NeeIJ ZoMeF XoBaR MJBaW TYWaZ aRFoN LYoCK ZMPoR oCBaN ZeJCB JoKeY XYTWo CZFNe TCBRe FFYBe WTZMT oTPeX CBTPe BaRWe oXPCI aRPaJ JYReK KoBTP eBeZY eXoXP CIaRK CXXeB YRGaK JPMKY oZoGM aRFeL eRWPe IYKTB MWaRT PeRKC BeZMR eYTPe BGaCK KRoBa RMoTP eBIaT PeIaT YWYaR UoCZF PaLeN eeRKo XooZY KPaKT oFeWB MoBBe GBeTK CWPaJ JZYWa TYoRK NCTKW YeRWe UoBQK XoBeL YZaKU eZZaK XoBGo oFaRF NoTPG aCKKa RFZeK KeBIa TPeIa TYWYa RKIaM NeHCK TYXYe FYRBe HoYWY RGTPa TTPeB eYKoR eKWYe RWeaT aRMBa TeaRF TPaTT PeYBo URUPo KeLeB MBeIo TeReK KXBoI oBFYR aBMPC IaRaW TYLYT YeKKP oCZFQ eeJYT GeRTZ eaRFW ZeaR\n"
     ]
    }
   ],
   "source": [
    "S = SubstitutionCryptosystem(AlphabeticStrings())\n",
    "cipher_text = 'YXTPO TPOAB MAXRC INOBK WACZF NOOIJ ZAMOF XABER MJBEW TYWEZ ERFAN LYACK ZMPAR ACBEN ZOJCB JAKOY XYTWA CZFNO TCBRO FFYBO WTZMT ATPOX CBTPO BERWO AXPCI ERPEJ JYROK KABTP OBOZY OXAXP CIERK CXXOB YRGEK JPMKY AZAGM ERFOL ORWPO IYKTB MWERT PORKC BOZMR OYTPO BGECK KRABE RMATP OBIET POIET YWYER UACZF PELON OORKA XAAZY KPEKT AFOWB MABBO GBOTK CWPEJ JZYWE TYARK NCTKW YORWO UABQK XABOL YZEKU OZZEK XABGA AFERF NATPG ECKKE RFZOK KOBIE TPOIE TYWYE RKIEM NOHCK TYXYO FYRBO HAYWY RGTPE TTPOB OYKAR OKWYO RWOET ERMBE TOERF TPETT POYBA URUPA KOLOB MBOIA TOROK KXBAI ABFYR EBMPC IEREW TYLYT YOKKP ACZFQ OOJYT GORTZ OERFW ZOER'\n",
    "print 'The Encoded Message:'\n",
    "print cipher_text\n",
    "encoded_y = S.encoding(cipher_text)\n",
    "freq_dist = encoded_y.frequency_distribution().function()\n",
    "sorted_fd = sorted(freq_dist.items(), key = lambda z: -z[1])\n",
    "\n",
    "print 'Letter \\tFrequency \\t\\tOccurences'\n",
    "for i in sorted_fd:\n",
    "    print i[0],'\\t',i[1],'\\t',i[1]*len(encoded_y)\n",
    "\n",
    "def change_letter(phrase,old_letter,new_letter):\n",
    "    for letter in phrase:\n",
    "        if letter == old_letter:\n",
    "            phrase = phrase.replace(letter,new_letter)\n",
    "    return phrase\n",
    "word = 'Woo Code!'\n",
    "print change_letter(word,'o','z')\n",
    "word = 'Yay Math!'\n",
    "print change_letter(word,'Y','z')\n",
    "\n",
    "def known_letters(phrase):\n",
    "    for letter in phrase:\n",
    "        if (ord(letter) <= 96 and ord(letter) != 32):\n",
    "            phrase = phrase.replace(letter,'-')\n",
    "    return phrase\n",
    "print known_letters('sMall LeTTers are KNOWn')\n",
    "\n",
    "n = 0\n",
    "updated_phrase = [cipher_text]\n",
    "print updated_phrase[n]\n",
    "updated_phrase.append(change_letter(updated_phrase[n],'O','e'))\n",
    "n+=1\n",
    "print 'Step:', n , 'Set: R = e'\n",
    "print known_letters(updated_phrase[n])\n",
    "print updated_phrase[n]\n",
    "\n",
    "print updated_phrase[n]\n",
    "updated_phrase.append(change_letter(updated_phrase[n],'E','a'))\n",
    "n+=1\n",
    "print 'Step:', n , 'Set: E = a'\n",
    "print known_letters(updated_phrase[n])\n",
    "\n",
    "print updated_phrase[n]\n",
    "updated_phrase.append(change_letter(updated_phrase[n],'A','o'))\n",
    "n+=1\n",
    "print 'Step:', n , 'Set: A = o'\n",
    "print known_letters(updated_phrase[n])\n",
    "print updated_phrase[n]"
   ]
  },
  {
   "cell_type": "code",
   "execution_count": 2,
   "metadata": {
    "collapsed": false
   },
   "outputs": [
    {
     "name": "stdout",
     "output_type": "stream",
     "text": [
      "Step: 4 Set: P = h\n",
      "---he -heo- -o--- --e-- -o--- -ee-- -o-e- -o-a- ---a- ---a- a--o- --o-- --ho- o--a- -e--- -o-e- ----o ----e ----e ----e ----- o-he- ---he -a--e o-h-- a-ha- ---e- -o--h e-e-- e-o-h --a-- ---e- ---a- -h--- o-o-- a--e- e--he ----- --a-- he--- -e--- e--he --a-- --o-a --o-h e--a- he-a- ---a- -o--- ha-e- ee--o -oo-- -ha-- o-e-- -o--e --e-- --ha- ----a --o-- ----- -e--e -o--- -o-e- --a-- e--a- -o--o o-a-- -o-h- a---a ---e- -e--a -he-a ----a ---a- -e--- ----e ----e -o--- ---ha --he- e--o- e---e --ea- a---a -ea-- -ha-- he--o ---ho -e-e- --e-o -e-e- ---o- o---- a--h- -a-a- ----- -e--h o---- ee--- -e--- ea--- -ea-\n",
      "YXThe TheoB MoXRC INeBK WoCZF NeeIJ ZoMeF XoBaR MJBaW TYWaZ aRFoN LYoCK ZMhoR oCBaN ZeJCB JoKeY XYTWo CZFNe TCBRe FFYBe WTZMT oTheX CBThe BaRWe oXhCI aRhaJ JYReK KoBTh eBeZY eXoXh CIaRK CXXeB YRGaK JhMKY oZoGM aRFeL eRWhe IYKTB MWaRT heRKC BeZMR eYThe BGaCK KRoBa RMoTh eBIaT heIaT YWYaR UoCZF haLeN eeRKo XooZY KhaKT oFeWB MoBBe GBeTK CWhaJ JZYWa TYoRK NCTKW YeRWe UoBQK XoBeL YZaKU eZZaK XoBGo oFaRF NoThG aCKKa RFZeK KeBIa TheIa TYWYa RKIaM NeHCK TYXYe FYRBe HoYWY RGTha TTheB eYKoR eKWYe RWeaT aRMBa TeaRF ThaTT heYBo URUho KeLeB MBeIo TeReK KXBoI oBFYR aBMhC IaRaW TYLYT YeKKh oCZFQ eeJYT GeRTZ eaRFW ZeaR\n"
     ]
    }
   ],
   "source": [
    "updated_phrase.append(change_letter(updated_phrase[n],'P','h'))\n",
    "n+=1\n",
    "print 'Step:', n , 'Set: P = h'\n",
    "print known_letters(updated_phrase[n])\n",
    "print updated_phrase[n]"
   ]
  },
  {
   "cell_type": "code",
   "execution_count": 3,
   "metadata": {
    "collapsed": false
   },
   "outputs": [
    {
     "name": "stdout",
     "output_type": "stream",
     "text": [
      "YXThe TheoB MoXRC INeBK WoCZF NeeIJ ZoMeF XoBaR MJBaW TYWaZ aRFoN LYoCK ZMhoR oCBaN ZeJCB JoKeY XYTWo CZFNe TCBRe FFYBe WTZMT oTheX CBThe BaRWe oXhCI aRhaJ JYReK KoBTh eBeZY eXoXh CIaRK CXXeB YRGaK JhMKY oZoGM aRFeL eRWhe IYKTB MWaRT heRKC BeZMR eYThe BGaCK KRoBa RMoTh eBIaT heIaT YWYaR UoCZF haLeN eeRKo XooZY KhaKT oFeWB MoBBe GBeTK CWhaJ JZYWa TYoRK NCTKW YeRWe UoBQK XoBeL YZaKU eZZaK XoBGo oFaRF NoThG aCKKa RFZeK KeBIa TheIa TYWYa RKIaM NeHCK TYXYe FYRBe HoYWY RGTha TTheB eYKoR eKWYe RWeaT aRMBa TeaRF ThaTT heYBo URUho KeLeB MBeIo TeReK KXBoI oBFYR aBMhC IaRaW TYLYT YeKKh oCZFQ eeJYT GeRTZ eaRFW ZeaR\n",
      "Step: 5 Set: T = t\n",
      "--the theo- -o--- --e-- -o--- -ee-- -o-e- -o-a- ---a- t--a- a--o- --o-- --ho- o--a- -e--- -o-e- --t-o ----e t---e ----e -t--t othe- --the -a--e o-h-- a-ha- ---e- -o-th e-e-- e-o-h --a-- ---e- ---a- -h--- o-o-- a--e- e--he ---t- --a-t he--- -e--- e-the --a-- --o-a --oth e--at he-at ---a- -o--- ha-e- ee--o -oo-- -ha-t o-e-- -o--e --et- --ha- ----a t-o-- --t-- -e--e -o--- -o-e- --a-- e--a- -o--o o-a-- -oth- a---a ---e- -e--a the-a t---a ---a- -e--- t---e ----e -o--- --tha tthe- e--o- e---e --eat a---a tea-- thatt he--o ---ho -e-e- --e-o te-e- ---o- o---- a--h- -a-a- t---t -e--h o---- ee--t -e-t- ea--- -ea-\n",
      "YXthe theoB MoXRC INeBK WoCZF NeeIJ ZoMeF XoBaR MJBaW tYWaZ aRFoN LYoCK ZMhoR oCBaN ZeJCB JoKeY XYtWo CZFNe tCBRe FFYBe WtZMt otheX CBthe BaRWe oXhCI aRhaJ JYReK KoBth eBeZY eXoXh CIaRK CXXeB YRGaK JhMKY oZoGM aRFeL eRWhe IYKtB MWaRt heRKC BeZMR eYthe BGaCK KRoBa RMoth eBIat heIat YWYaR UoCZF haLeN eeRKo XooZY KhaKt oFeWB MoBBe GBetK CWhaJ JZYWa tYoRK NCtKW YeRWe UoBQK XoBeL YZaKU eZZaK XoBGo oFaRF NothG aCKKa RFZeK KeBIa theIa tYWYa RKIaM NeHCK tYXYe FYRBe HoYWY RGtha ttheB eYKoR eKWYe RWeat aRMBa teaRF thatt heYBo URUho KeLeB MBeIo teReK KXBoI oBFYR aBMhC IaRaW tYLYt YeKKh oCZFQ eeJYt GeRtZ eaRFW ZeaR\n"
     ]
    }
   ],
   "source": [
    "print updated_phrase[n]\n",
    "updated_phrase.append(change_letter(updated_phrase[n],'T','t'))\n",
    "n+=1\n",
    "print 'Step:', n , 'Set: T = t'\n",
    "print known_letters(updated_phrase[n])\n",
    "print updated_phrase[n]"
   ]
  },
  {
   "cell_type": "code",
   "execution_count": 4,
   "metadata": {
    "collapsed": false
   },
   "outputs": [
    {
     "name": "stdout",
     "output_type": "stream",
     "text": [
      "YXthe theoB MoXRC INeBK WoCZF NeeIJ ZoMeF XoBaR MJBaW tYWaZ aRFoN LYoCK ZMhoR oCBaN ZeJCB JoKeY XYtWo CZFNe tCBRe FFYBe WtZMt otheX CBthe BaRWe oXhCI aRhaJ JYReK KoBth eBeZY eXoXh CIaRK CXXeB YRGaK JhMKY oZoGM aRFeL eRWhe IYKtB MWaRt heRKC BeZMR eYthe BGaCK KRoBa RMoth eBIat heIat YWYaR UoCZF haLeN eeRKo XooZY KhaKt oFeWB MoBBe GBetK CWhaJ JZYWa tYoRK NCtKW YeRWe UoBQK XoBeL YZaKU eZZaK XoBGo oFaRF NothG aCKKa RFZeK KeBIa theIa tYWYa RKIaM NeHCK tYXYe FYRBe HoYWY RGtha ttheB eYKoR eKWYe RWeat aRMBa teaRF thatt heYBo URUho KeLeB MBeIo teReK KXBoI oBFYR aBMhC IaRaW tYLYt YeKKh oCZFQ eeJYt GeRtZ eaRFW ZeaR\n",
      "Step: 6 Set: B = r\n",
      "--the theor -o--- --er- -o--- -ee-- -o-e- -ora- --ra- t--a- a--o- --o-- --ho- o-ra- -e--r -o-e- --t-o ----e t-r-e ---re -t--t othe- -rthe ra--e o-h-- a-ha- ---e- -orth ere-- e-o-h --a-- ---er ---a- -h--- o-o-- a--e- e--he ---tr --a-t he--- re--- e-the r-a-- --ora --oth er-at he-at ---a- -o--- ha-e- ee--o -oo-- -ha-t o-e-r -orre -ret- --ha- ----a t-o-- --t-- -e--e -or-- -ore- --a-- e--a- -or-o o-a-- -oth- a---a ---e- -er-a the-a t---a ---a- -e--- t---e ---re -o--- --tha tther e--o- e---e --eat a--ra tea-- thatt he-ro ---ho -e-er -re-o te-e- --ro- or--- ar-h- -a-a- t---t -e--h o---- ee--t -e-t- ea--- -ea-\n",
      "YXthe theor MoXRC INerK WoCZF NeeIJ ZoMeF XoraR MJraW tYWaZ aRFoN LYoCK ZMhoR oCraN ZeJCr JoKeY XYtWo CZFNe tCrRe FFYre WtZMt otheX Crthe raRWe oXhCI aRhaJ JYReK Korth ereZY eXoXh CIaRK CXXer YRGaK JhMKY oZoGM aRFeL eRWhe IYKtr MWaRt heRKC reZMR eYthe rGaCK KRora RMoth erIat heIat YWYaR UoCZF haLeN eeRKo XooZY KhaKt oFeWr Morre GretK CWhaJ JZYWa tYoRK NCtKW YeRWe UorQK XoreL YZaKU eZZaK XorGo oFaRF NothG aCKKa RFZeK KerIa theIa tYWYa RKIaM NeHCK tYXYe FYRre HoYWY RGtha tther eYKoR eKWYe RWeat aRMra teaRF thatt heYro URUho KeLer MreIo teReK KXroI orFYR arMhC IaRaW tYLYt YeKKh oCZFQ eeJYt GeRtZ eaRFW ZeaR\n"
     ]
    }
   ],
   "source": [
    "print updated_phrase[n]\n",
    "updated_phrase.append(change_letter(updated_phrase[n],'B','r'))\n",
    "n+=1\n",
    "print 'Step:', n , 'Set: B = r'\n",
    "print known_letters(updated_phrase[n])\n",
    "print updated_phrase[n]"
   ]
  },
  {
   "cell_type": "code",
   "execution_count": 5,
   "metadata": {
    "collapsed": false
   },
   "outputs": [
    {
     "name": "stdout",
     "output_type": "stream",
     "text": [
      "YXthe theor MoXRC INerK WoCZF NeeIJ ZoMeF XoraR MJraW tYWaZ aRFoN LYoCK ZMhoR oCraN ZeJCr JoKeY XYtWo CZFNe tCrRe FFYre WtZMt otheX Crthe raRWe oXhCI aRhaJ JYReK Korth ereZY eXoXh CIaRK CXXer YRGaK JhMKY oZoGM aRFeL eRWhe IYKtr MWaRt heRKC reZMR eYthe rGaCK KRora RMoth erIat heIat YWYaR UoCZF haLeN eeRKo XooZY KhaKt oFeWr Morre GretK CWhaJ JZYWa tYoRK NCtKW YeRWe UorQK XoreL YZaKU eZZaK XorGo oFaRF NothG aCKKa RFZeK KerIa theIa tYWYa RKIaM NeHCK tYXYe FYRre HoYWY RGtha tther eYKoR eKWYe RWeat aRMra teaRF thatt heYro URUho KeLer MreIo teReK KXroI orFYR arMhC IaRaW tYLYt YeKKh oCZFQ eeJYt GeRtZ eaRFW ZeaR\n",
      "Step: 7 Set: M = y\n",
      "--the theor yo--- --er- -o--- -ee-- -oye- -ora- y-ra- t--a- a--o- --o-- -yho- o-ra- -e--r -o-e- --t-o ----e t-r-e ---re -t-yt othe- -rthe ra--e o-h-- a-ha- ---e- -orth ere-- e-o-h --a-- ---er ---a- -hy-- o-o-y a--e- e--he ---tr y-a-t he--- re-y- e-the r-a-- --ora -yoth er-at he-at ---a- -o--- ha-e- ee--o -oo-- -ha-t o-e-r yorre -ret- --ha- ----a t-o-- --t-- -e--e -or-- -ore- --a-- e--a- -or-o o-a-- -oth- a---a ---e- -er-a the-a t---a ---ay -e--- t---e ---re -o--- --tha tther e--o- e---e --eat a-yra tea-- thatt he-ro ---ho -e-er yre-o te-e- --ro- or--- aryh- -a-a- t---t -e--h o---- ee--t -e-t- ea--- -ea-\n",
      "YXthe theor yoXRC INerK WoCZF NeeIJ ZoyeF XoraR yJraW tYWaZ aRFoN LYoCK ZyhoR oCraN ZeJCr JoKeY XYtWo CZFNe tCrRe FFYre WtZyt otheX Crthe raRWe oXhCI aRhaJ JYReK Korth ereZY eXoXh CIaRK CXXer YRGaK JhyKY oZoGy aRFeL eRWhe IYKtr yWaRt heRKC reZyR eYthe rGaCK KRora Ryoth erIat heIat YWYaR UoCZF haLeN eeRKo XooZY KhaKt oFeWr yorre GretK CWhaJ JZYWa tYoRK NCtKW YeRWe UorQK XoreL YZaKU eZZaK XorGo oFaRF NothG aCKKa RFZeK KerIa theIa tYWYa RKIay NeHCK tYXYe FYRre HoYWY RGtha tther eYKoR eKWYe RWeat aRyra teaRF thatt heYro URUho KeLer yreIo teReK KXroI orFYR aryhC IaRaW tYLYt YeKKh oCZFQ eeJYt GeRtZ eaRFW ZeaR\n"
     ]
    }
   ],
   "source": [
    "print updated_phrase[n]\n",
    "updated_phrase.append(change_letter(updated_phrase[n],'M','y'))\n",
    "n+=1\n",
    "print 'Step:', n , 'Set: M = y'\n",
    "print known_letters(updated_phrase[n])\n",
    "print updated_phrase[n]"
   ]
  },
  {
   "cell_type": "code",
   "execution_count": 6,
   "metadata": {
    "collapsed": false
   },
   "outputs": [
    {
     "name": "stdout",
     "output_type": "stream",
     "text": [
      "YXthe theor yoXRC INerK WoCZF NeeIJ ZoyeF XoraR yJraW tYWaZ aRFoN LYoCK ZyhoR oCraN ZeJCr JoKeY XYtWo CZFNe tCrRe FFYre WtZyt otheX Crthe raRWe oXhCI aRhaJ JYReK Korth ereZY eXoXh CIaRK CXXer YRGaK JhyKY oZoGy aRFeL eRWhe IYKtr yWaRt heRKC reZyR eYthe rGaCK KRora Ryoth erIat heIat YWYaR UoCZF haLeN eeRKo XooZY KhaKt oFeWr yorre GretK CWhaJ JZYWa tYoRK NCtKW YeRWe UorQK XoreL YZaKU eZZaK XorGo oFaRF NothG aCKKa RFZeK KerIa theIa tYWYa RKIay NeHCK tYXYe FYRre HoYWY RGtha tther eYKoR eKWYe RWeat aRyra teaRF thatt heYro URUho KeLer yreIo teReK KXroI orFYR aryhC IaRaW tYLYt YeKKh oCZFQ eeJYt GeRtZ eaRFW ZeaR\n",
      "Step: 8 Set: X = f\n",
      "-fthe theor yof-- --er- -o--- -ee-- -oye- fora- y-ra- t--a- a--o- --o-- -yho- o-ra- -e--r -o-e- f-t-o ----e t-r-e ---re -t-yt othef -rthe ra--e ofh-- a-ha- ---e- -orth ere-- efofh --a-- -ffer ---a- -hy-- o-o-y a--e- e--he ---tr y-a-t he--- re-y- e-the r-a-- --ora -yoth er-at he-at ---a- -o--- ha-e- ee--o foo-- -ha-t o-e-r yorre -ret- --ha- ----a t-o-- --t-- -e--e -or-- fore- --a-- e--a- for-o o-a-- -oth- a---a ---e- -er-a the-a t---a ---ay -e--- t-f-e ---re -o--- --tha tther e--o- e---e --eat a-yra tea-- thatt he-ro ---ho -e-er yre-o te-e- -fro- or--- aryh- -a-a- t---t -e--h o---- ee--t -e-t- ea--- -ea-\n",
      "Yfthe theor yofRC INerK WoCZF NeeIJ ZoyeF foraR yJraW tYWaZ aRFoN LYoCK ZyhoR oCraN ZeJCr JoKeY fYtWo CZFNe tCrRe FFYre WtZyt othef Crthe raRWe ofhCI aRhaJ JYReK Korth ereZY efofh CIaRK Cffer YRGaK JhyKY oZoGy aRFeL eRWhe IYKtr yWaRt heRKC reZyR eYthe rGaCK KRora Ryoth erIat heIat YWYaR UoCZF haLeN eeRKo fooZY KhaKt oFeWr yorre GretK CWhaJ JZYWa tYoRK NCtKW YeRWe UorQK foreL YZaKU eZZaK forGo oFaRF NothG aCKKa RFZeK KerIa theIa tYWYa RKIay NeHCK tYfYe FYRre HoYWY RGtha tther eYKoR eKWYe RWeat aRyra teaRF thatt heYro URUho KeLer yreIo teReK KfroI orFYR aryhC IaRaW tYLYt YeKKh oCZFQ eeJYt GeRtZ eaRFW ZeaR\n"
     ]
    }
   ],
   "source": [
    "print updated_phrase[n]\n",
    "updated_phrase.append(change_letter(updated_phrase[n],'X','f'))\n",
    "n+=1\n",
    "print 'Step:', n , 'Set: X = f'\n",
    "print known_letters(updated_phrase[n])\n",
    "print updated_phrase[n]"
   ]
  },
  {
   "cell_type": "code",
   "execution_count": 7,
   "metadata": {
    "collapsed": false
   },
   "outputs": [
    {
     "name": "stdout",
     "output_type": "stream",
     "text": [
      "Yfthe theor yofRC INerK WoCZF NeeIJ ZoyeF foraR yJraW tYWaZ aRFoN LYoCK ZyhoR oCraN ZeJCr JoKeY fYtWo CZFNe tCrRe FFYre WtZyt othef Crthe raRWe ofhCI aRhaJ JYReK Korth ereZY efofh CIaRK Cffer YRGaK JhyKY oZoGy aRFeL eRWhe IYKtr yWaRt heRKC reZyR eYthe rGaCK KRora Ryoth erIat heIat YWYaR UoCZF haLeN eeRKo fooZY KhaKt oFeWr yorre GretK CWhaJ JZYWa tYoRK NCtKW YeRWe UorQK foreL YZaKU eZZaK forGo oFaRF NothG aCKKa RFZeK KerIa theIa tYWYa RKIay NeHCK tYfYe FYRre HoYWY RGtha tther eYKoR eKWYe RWeat aRyra teaRF thatt heYro URUho KeLer yreIo teReK KfroI orFYR aryhC IaRaW tYLYt YeKKh oCZFQ eeJYt GeRtZ eaRFW ZeaR\n",
      "Step: 9 Set: Y = i\n",
      "ifthe theor yof-- --er- -o--- -ee-- -oye- fora- y-ra- ti-a- a--o- -io-- -yho- o-ra- -e--r -o-ei fit-o ----e t-r-e --ire -t-yt othef -rthe ra--e ofh-- a-ha- -i-e- -orth ere-i efofh --a-- -ffer i--a- -hy-i o-o-y a--e- e--he -i-tr y-a-t he--- re-y- eithe r-a-- --ora -yoth er-at he-at i-ia- -o--- ha-e- ee--o foo-i -ha-t o-e-r yorre -ret- --ha- --i-a tio-- --t-- ie--e -or-- fore- i-a-- e--a- for-o o-a-- -oth- a---a ---e- -er-a the-a ti-ia ---ay -e--- tifie -i-re -oi-i --tha tther ei-o- e--ie --eat a-yra tea-- thatt heiro ---ho -e-er yre-o te-e- -fro- or-i- aryh- -a-a- ti-it ie--h o---- ee-it -e-t- ea--- -ea-\n",
      "ifthe theor yofRC INerK WoCZF NeeIJ ZoyeF foraR yJraW tiWaZ aRFoN LioCK ZyhoR oCraN ZeJCr JoKei fitWo CZFNe tCrRe FFire WtZyt othef Crthe raRWe ofhCI aRhaJ JiReK Korth ereZi efofh CIaRK Cffer iRGaK JhyKi oZoGy aRFeL eRWhe IiKtr yWaRt heRKC reZyR eithe rGaCK KRora Ryoth erIat heIat iWiaR UoCZF haLeN eeRKo fooZi KhaKt oFeWr yorre GretK CWhaJ JZiWa tioRK NCtKW ieRWe UorQK foreL iZaKU eZZaK forGo oFaRF NothG aCKKa RFZeK KerIa theIa tiWia RKIay NeHCK tifie FiRre HoiWi RGtha tther eiKoR eKWie RWeat aRyra teaRF thatt heiro URUho KeLer yreIo teReK KfroI orFiR aryhC IaRaW tiLit ieKKh oCZFQ eeJit GeRtZ eaRFW ZeaR\n"
     ]
    }
   ],
   "source": [
    "print updated_phrase[n]\n",
    "updated_phrase.append(change_letter(updated_phrase[n],'Y','i'))\n",
    "n+=1\n",
    "print 'Step:', n , 'Set: Y = i'\n",
    "print known_letters(updated_phrase[n])\n",
    "print updated_phrase[n]"
   ]
  }
 ],
 "metadata": {
  "kernelspec": {
   "display_name": "SageMath (stable)",
   "language": "sagemath",
   "metadata": {
    "cocalc": {
     "description": "Open-source mathematical software system",
     "priority": 10,
     "url": "https://www.sagemath.org/"
    }
   },
   "name": "sagemath"
  },
  "language_info": {
   "codemirror_mode": {
    "name": "ipython",
    "version": 2
   },
   "file_extension": ".py",
   "mimetype": "text/x-python",
   "name": "python",
   "nbconvert_exporter": "python",
   "pygments_lexer": "ipython2",
   "version": "2.7.15"
  }
 },
 "nbformat": 4,
 "nbformat_minor": 0
}