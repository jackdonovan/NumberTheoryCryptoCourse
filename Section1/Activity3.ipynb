{
 "cells": [
  {
   "cell_type": "code",
   "execution_count": 0,
   "metadata": {
    "collapsed": false
   },
   "outputs": [
   ],
   "source": [
    "# \n",
    "# S = AffineCryptosystem(AlphabeticStrings())\n",
    "# message = 'c'\n",
    "# # message = 'Be sure to drink your ovaltine'\n",
    "# print 'Original Message:', message\n",
    "# original_x = S.encoding(message) #Transforms an element of the message space into a codeword. Returns as a vector of code()\n",
    "\n",
    "# print 'Encrypt the Message!'\n",
    "# #original_x = 'YAYMATH'\n",
    "# a = 11\n",
    "# b = 4\n",
    "# e(z) = a*z + b #General form of an Affine Cipher is e_K(x) = (ax + b) mod 26\n",
    "\n",
    "# encoded_y = ''\n",
    "# for i in list(str(original_x)):\n",
    "#     m = int(mod(e(ord(i)-65),26))\n",
    "#     encoded_y = encoded_y + chr(m+65)\n",
    "\n",
    "# print 'The Original x:', original_x\n",
    "# print 'The Encoded y: ', encoded_y\n",
    "\n",
    "# print 'Decrypt the Message!'\n",
    "# d(z) = a.inverse_mod(26)*(z - b) #General form of the inverse d_K(x) = a^(-1)*(x-b) mod 26\n",
    "\n",
    "# original_x = ''\n",
    "# for i in list(str(encoded_y)):\n",
    "#     m = int(mod(d(ord(i)-65),26))\n",
    "#     original_x = original_x + chr(m+65)\n",
    "\n",
    "# print 'The Encoded y: ', encoded_y\n",
    "# print 'The Original x:', original_x\n",
    "\n",
    "\n",
    "\n",
    "# d,u,v = xgcd(1234, 4321)\n",
    "# d == u*1234 + v*4321\n",
    "\n",
    "# n = 654321\n",
    "# inverse_mod(3,n)\n",
    "\n",
    "# 3 * 1337\n",
    "# prime_divisors(n)\n",
    "\n",
    "# def exp_mod(base,exponent,modulus):\n",
    "#     \"\"\"\n",
    "#     This function returns b^n mod m with the built in Digits Command.\n",
    "#     Note - Digits returns a list of the form [a_0 a_1 ... a_k]\n",
    "#     \"\"\"\n",
    "#     e = exponent.digits(2)\n",
    "#     x = 1\n",
    "#     pow = mod(base,modulus)\n",
    "#     for i in range(len(e)):\n",
    "#         #print 'i =',i, 'x =', x, 'pow =', power #Print Out of Values i,x, and power\n",
    "#         if e[i] == 1:\n",
    "#             x = mod(x*pow,modulus) #Multiplies the needed power of two\n",
    "#         pow = mod(pow^2,modulus) #Generates the next power of two\n",
    "#     return x\n",
    "\n",
    "# exp_mod(7,1234,1000)"
   ]
  }
 ],
 "metadata": {
  "kernelspec": {
   "display_name": "SageMath (stable)",
   "language": "sagemath",
   "metadata": {
    "cocalc": {
     "description": "Open-source mathematical software system",
     "priority": 10,
     "url": "https://www.sagemath.org/"
    }
   },
   "name": "sagemath"
  },
  "language_info": {
   "codemirror_mode": {
    "name": "ipython",
    "version": 2
   },
   "file_extension": ".py",
   "mimetype": "text/x-python",
   "name": "python",
   "nbconvert_exporter": "python",
   "pygments_lexer": "ipython2",
   "version": "2.7.12+"
  }
 },
 "nbformat": 4,
 "nbformat_minor": 0
}