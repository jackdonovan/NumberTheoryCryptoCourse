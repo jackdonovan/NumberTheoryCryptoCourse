{
 "cells": [
  {
   "cell_type": "code",
   "execution_count": 1,
   "metadata": {
    "collapsed": false
   },
   "outputs": [
    {
     "name": "stdout",
     "output_type": "stream",
     "text": [
      "0.01948595047\n"
     ]
    }
   ],
   "source": [
    "import time\n",
    "def gcd_ea(a,b):\n",
    "    \"\"\"\n",
    "    This function returns the Greatest Common Divisor of a and b.\n",
    "    \"\"\"\n",
    "    x = abs(a)\n",
    "    y = abs(b)\n",
    "    while (y > 0):\n",
    "        # print (x,y)\n",
    "        r = mod(x,y)\n",
    "        x = y\n",
    "        y = r\n",
    "    return x #Return gcd(a,b)\n",
    "\n",
    "def gcd_ea_num_steps(a,b):\n",
    "    \"\"\"\n",
    "    This function returns the Greatest Common Divisor of a and b and the number of steps\n",
    "    \"\"\"\n",
    "    x = abs(a)\n",
    "    y = abs(b)\n",
    "    n = 0\n",
    "    while (y > 0):\n",
    "        r = mod(x,y)\n",
    "        x = y\n",
    "        y = r\n",
    "        n += 1\n",
    "    return x , n #Return gcd(a,b) and the number of steps\n",
    "\n",
    "\n",
    "\n",
    "t = time.time() #Start Time\n",
    "gcd_ea(276350,511979)\n",
    "dt = time.time() - t #Difference in Time = End Time - Start Time\n",
    "print dt\n",
    "# gcd_ea_num_steps(313,82)"
   ]
  },
  {
   "cell_type": "code",
   "execution_count": 0,
   "metadata": {
    "collapsed": false
   },
   "outputs": [
   ],
   "source": [
   ]
  }
 ],
 "metadata": {
  "kernelspec": {
   "display_name": "SageMath (stable)",
   "language": "sagemath",
   "metadata": {
    "cocalc": {
     "description": "Open-source mathematical software system",
     "priority": 10,
     "url": "https://www.sagemath.org/"
    }
   },
   "name": "sagemath"
  },
  "language_info": {
   "codemirror_mode": {
    "name": "ipython",
    "version": 2
   },
   "file_extension": ".py",
   "mimetype": "text/x-python",
   "name": "python",
   "nbconvert_exporter": "python",
   "pygments_lexer": "ipython2",
   "version": "2.7.15"
  }
 },
 "nbformat": 4,
 "nbformat_minor": 0
}