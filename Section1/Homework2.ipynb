{
 "cells": [
  {
   "cell_type": "code",
   "execution_count": 1,
   "metadata": {
    "collapsed": false
   },
   "outputs": [
    {
     "data": {
      "text/plain": [
       "16*p + 15"
      ]
     },
     "execution_count": 1,
     "metadata": {
     },
     "output_type": "execute_result"
    }
   ],
   "source": [
    "#problem 2\n",
    "p1 = var('p')\n",
    "p1 = p\n",
    "p2 = 2*p1 + 1\n",
    "p3 = 2*p2 + 1\n",
    "p4 = 2*p3 + 1\n",
    "p5 = 2*p4 + 1\n",
    "p5"
   ]
  },
  {
   "cell_type": "code",
   "execution_count": 2,
   "metadata": {
    "collapsed": false
   },
   "outputs": [
    {
     "name": "stdout",
     "output_type": "stream",
     "text": [
      "(2, 5, 11, 23, 47)\n"
     ]
    },
    {
     "ename": "UnboundLocalError",
     "evalue": "local variable 'p1' referenced before assignment",
     "output_type": "error",
     "traceback": [
      "\u001b[0;31m---------------------------------------------------------------------------\u001b[0m",
      "\u001b[0;31mUnboundLocalError\u001b[0m                         Traceback (most recent call last)",
      "\u001b[0;32m<ipython-input-2-8a72ed5ea20d>\u001b[0m in \u001b[0;36m<module>\u001b[0;34m()\u001b[0m\n\u001b[1;32m     36\u001b[0m         \u001b[0;32mprint\u001b[0m\u001b[0;34m(\u001b[0m\u001b[0mp1\u001b[0m\u001b[0;34m,\u001b[0m\u001b[0mp2\u001b[0m\u001b[0;34m,\u001b[0m\u001b[0mp3\u001b[0m\u001b[0;34m,\u001b[0m\u001b[0mp4\u001b[0m\u001b[0;34m,\u001b[0m\u001b[0mp5\u001b[0m\u001b[0;34m)\u001b[0m\u001b[0;34m\u001b[0m\u001b[0m\n\u001b[1;32m     37\u001b[0m \u001b[0;32mfor\u001b[0m \u001b[0mi\u001b[0m \u001b[0;32min\u001b[0m \u001b[0mrange\u001b[0m\u001b[0;34m(\u001b[0m\u001b[0mInteger\u001b[0m\u001b[0;34m(\u001b[0m\u001b[0;36m49\u001b[0m\u001b[0;34m)\u001b[0m\u001b[0;34m)\u001b[0m\u001b[0;34m:\u001b[0m\u001b[0;34m\u001b[0m\u001b[0m\n\u001b[0;32m---> 38\u001b[0;31m     \u001b[0mfind_sequence\u001b[0m\u001b[0;34m(\u001b[0m\u001b[0mi\u001b[0m\u001b[0;34m)\u001b[0m\u001b[0;34m\u001b[0m\u001b[0m\n\u001b[0m",
      "\u001b[0;32m<ipython-input-2-8a72ed5ea20d>\u001b[0m in \u001b[0;36mfind_sequence\u001b[0;34m(p)\u001b[0m\n\u001b[1;32m     29\u001b[0m     \u001b[0;32mif\u001b[0m\u001b[0;34m(\u001b[0m\u001b[0mis_prime\u001b[0m\u001b[0;34m(\u001b[0m\u001b[0mp\u001b[0m\u001b[0;34m)\u001b[0m\u001b[0;34m)\u001b[0m\u001b[0;34m:\u001b[0m\u001b[0;34m\u001b[0m\u001b[0m\n\u001b[1;32m     30\u001b[0m         \u001b[0mp1\u001b[0m \u001b[0;34m=\u001b[0m \u001b[0mp\u001b[0m\u001b[0;34m\u001b[0m\u001b[0m\n\u001b[0;32m---> 31\u001b[0;31m     \u001b[0mp2\u001b[0m \u001b[0;34m=\u001b[0m \u001b[0mInteger\u001b[0m\u001b[0;34m(\u001b[0m\u001b[0;36m2\u001b[0m\u001b[0;34m)\u001b[0m\u001b[0;34m*\u001b[0m\u001b[0mp1\u001b[0m \u001b[0;34m+\u001b[0m \u001b[0mInteger\u001b[0m\u001b[0;34m(\u001b[0m\u001b[0;36m1\u001b[0m\u001b[0;34m)\u001b[0m\u001b[0;34m\u001b[0m\u001b[0m\n\u001b[0m\u001b[1;32m     32\u001b[0m     \u001b[0mp3\u001b[0m \u001b[0;34m=\u001b[0m \u001b[0mInteger\u001b[0m\u001b[0;34m(\u001b[0m\u001b[0;36m2\u001b[0m\u001b[0;34m)\u001b[0m\u001b[0;34m*\u001b[0m\u001b[0mp2\u001b[0m \u001b[0;34m+\u001b[0m \u001b[0mInteger\u001b[0m\u001b[0;34m(\u001b[0m\u001b[0;36m1\u001b[0m\u001b[0;34m)\u001b[0m\u001b[0;34m\u001b[0m\u001b[0m\n\u001b[1;32m     33\u001b[0m     \u001b[0mp4\u001b[0m \u001b[0;34m=\u001b[0m \u001b[0mInteger\u001b[0m\u001b[0;34m(\u001b[0m\u001b[0;36m2\u001b[0m\u001b[0;34m)\u001b[0m\u001b[0;34m*\u001b[0m\u001b[0mp3\u001b[0m \u001b[0;34m+\u001b[0m \u001b[0mInteger\u001b[0m\u001b[0;34m(\u001b[0m\u001b[0;36m1\u001b[0m\u001b[0;34m)\u001b[0m\u001b[0;34m\u001b[0m\u001b[0m\n",
      "\u001b[0;31mUnboundLocalError\u001b[0m: local variable 'p1' referenced before assignment"
     ]
    }
   ],
   "source": [
    "#ii\n",
    "def pancakes_primes(numPancakes):\n",
    "    from random import randint\n",
    "    while(true):\n",
    "        A = randint(1,47)\n",
    "        B = randint(1,47)\n",
    "        C = randint(1,47)\n",
    "        D = randint(1,47)\n",
    "        E = randint(1,47)\n",
    "\n",
    "        if(A + B + C + D + E == numPancakes):\n",
    "            if(A != B and A!=C and A != D and A!=E):\n",
    "                if(B != A and B!=C and B != D and B!=E):\n",
    "                    if(C != A and C!=B and C != D and C!=E):\n",
    "                        if(D != A and D!=B and D != C and D!=E):\n",
    "                            if(E != A and E!=B and E != C and E!=D):\n",
    "                                if(B%A == 0 and C%B == 0 and D%C == 0 and E%D == 0 ):\n",
    "                                    print(A,B,C,D,E)\n",
    "#pancakes_primes(47)\n",
    "#2b\n",
    "def is_prime(n):\n",
    "    for i in range(3, n):\n",
    "        if n % i == 0:\n",
    "            return False\n",
    "    return True\n",
    "\n",
    "\n",
    "def find_sequence(p):\n",
    "    if(is_prime(p)):\n",
    "        p1 = p\n",
    "    p2 = 2*p1 + 1\n",
    "    p3 = 2*p2 + 1\n",
    "    p4 = 2*p3 + 1\n",
    "    p5 = 2*p4 + 1\n",
    "    if(is_prime(p1) and is_prime(p2) and is_prime(p3) and is_prime(p4) and is_prime(p5)):\n",
    "        print(p1,p2,p3,p4,p5)\n",
    "for i in range(49):\n",
    "    find_sequence(i)"
   ]
  },
  {
   "cell_type": "code",
   "execution_count": 3,
   "metadata": {
    "collapsed": false
   },
   "outputs": [
    {
     "data": {
      "text/plain": [
       "25"
      ]
     },
     "execution_count": 3,
     "metadata": {
     },
     "output_type": "execute_result"
    }
   ],
   "source": [
    "# problem 3\n",
    "def sieve_eratosthenes_slow(n):\n",
    "    set_n = [2..n]\n",
    "    p = 2\n",
    "    while (p <= floor(sqrt(n))):\n",
    "        k = 0\n",
    "        while (k < len(set_n)):\n",
    "            if (mod(set_n[k],p) == 0 and set_n[k] != p):\n",
    "                set_n.remove(set_n[k])\n",
    "            k+=1\n",
    "        p = next_prime(p)\n",
    "    return set_n\n",
    "primes = sieve_eratosthenes_slow(100)\n",
    "primes\n",
    "len(primes)"
   ]
  },
  {
   "cell_type": "code",
   "execution_count": 4,
   "metadata": {
    "collapsed": false
   },
   "outputs": [
    {
     "data": {
      "text/plain": [
       "0.9331779479980469"
      ]
     },
     "execution_count": 4,
     "metadata": {
     },
     "output_type": "execute_result"
    }
   ],
   "source": [
    "import time\n",
    "t = time.time()\n",
    "primes = sieve_eratosthenes_slow(10000)\n",
    "dt = time.time() - t\n",
    "dt"
   ]
  },
  {
   "cell_type": "code",
   "execution_count": 5,
   "metadata": {
    "collapsed": false
   },
   "outputs": [
    {
     "data": {
      "text/plain": [
       "168"
      ]
     },
     "execution_count": 5,
     "metadata": {
     },
     "output_type": "execute_result"
    }
   ],
   "source": [
    "# 3b\n",
    "primes = sieve_eratosthenes_slow(1000)\n",
    "primes\n",
    "len(primes)"
   ]
  },
  {
   "cell_type": "code",
   "execution_count": 6,
   "metadata": {
    "collapsed": false
   },
   "outputs": [
    {
     "data": {
      "text/plain": [
       "1229"
      ]
     },
     "execution_count": 6,
     "metadata": {
     },
     "output_type": "execute_result"
    }
   ],
   "source": [
    "# 3c\n",
    "primes = sieve_eratosthenes_slow(10000)\n",
    "primes\n",
    "len(primes)"
   ]
  },
  {
   "cell_type": "code",
   "execution_count": 7,
   "metadata": {
    "collapsed": false
   },
   "outputs": [
    {
     "data": {
      "text/plain": [
       "52.81665396690369"
      ]
     },
     "execution_count": 7,
     "metadata": {
     },
     "output_type": "execute_result"
    }
   ],
   "source": [
    "t = time.time()\n",
    "primes = sieve_eratosthenes_slow(99000)\n",
    "dt = time.time() - t\n",
    "dt"
   ]
  },
  {
   "cell_type": "code",
   "execution_count": 8,
   "metadata": {
    "collapsed": false
   },
   "outputs": [
    {
     "data": {
      "text/plain": [
       "[2, 4, 8, 16]"
      ]
     },
     "execution_count": 8,
     "metadata": {
     },
     "output_type": "execute_result"
    }
   ],
   "source": [
    "# 3a HERE for Bonus\n",
    "def sieve_eratosthenes_slow(n):\n",
    "    set_n = [2..n]\n",
    "    p = 2\n",
    "    while (p <= floor(sqrt(n))):\n",
    "        k = 0\n",
    "        while (k < len(set_n)):\n",
    "            if (mod(set_n[k],p) == 0 and set_n[k] != p):\n",
    "                set_n.remove(set_n[k])\n",
    "            k+=1\n",
    "        p = next_prime(p)\n",
    "    return set_n\n",
    "primes = sieve_eratosthenes_slow(100)\n",
    "# primes\n",
    "# len(primes)\n",
    "\n",
    "# import time\n",
    "# t = time.time()\n",
    "# primes = sieve_eratosthenes_slow(10000)\n",
    "# dt = time.time() - t\n",
    "# dt\n",
    "\n",
    "# Problem 4\n",
    "def b_smooth_numbers_factored(n,b):\n",
    "    b_smooth = []\n",
    "    for k in [2..n]:\n",
    "        factored_k = factor(k)\n",
    "        if factored_k[len(factored_k)-1][0] <= b:\n",
    "            b_smooth.append(k)\n",
    "    return b_smooth\n",
    "# 4a\n",
    "b_smooth_numbers_factored(30,2)"
   ]
  },
  {
   "cell_type": "code",
   "execution_count": 9,
   "metadata": {
    "collapsed": false
   },
   "outputs": [
    {
     "data": {
      "text/plain": [
       "[2, 3, 4, 6, 8, 9, 12, 16, 18, 24, 27]"
      ]
     },
     "execution_count": 9,
     "metadata": {
     },
     "output_type": "execute_result"
    }
   ],
   "source": [
    "# 4b\n",
    "b_smooth_numbers_factored(30,3)"
   ]
  },
  {
   "cell_type": "code",
   "execution_count": 10,
   "metadata": {
    "collapsed": false
   },
   "outputs": [
    {
     "data": {
      "text/plain": [
       "[2, 3, 4, 5, 6, 7, 8, 9, 10, 12, 14, 15, 16, 18, 20, 21, 24, 25, 27, 28, 30]"
      ]
     },
     "execution_count": 10,
     "metadata": {
     },
     "output_type": "execute_result"
    }
   ],
   "source": [
    "# 4c\n",
    "b_smooth_numbers_factored(30,7)"
   ]
  },
  {
   "cell_type": "code",
   "execution_count": 11,
   "metadata": {
    "collapsed": false
   },
   "outputs": [
    {
     "data": {
      "text/plain": [
       "False"
      ]
     },
     "execution_count": 11,
     "metadata": {
     },
     "output_type": "execute_result"
    }
   ],
   "source": [
    "#problem 5\n",
    "# 5a\n",
    "def fermat_primality(n):\n",
    "    if power_mod(2,n-1,n) != 1:\n",
    "        return False\n",
    "    return True\n",
    "\n",
    "jenny_jenny_plus2 = 75261003596099\n",
    "jenny_devil = 8675309000000577775579400000008675309\n",
    "RSA100 = 1522605027922533360535618378132637429718068114961380688657908494580122963258952897654000350692006139\n",
    "RSA230 = 17969491597941066732916128449573246156367561808012600070888918835531726460341490933493372247868650755230855864199929221814436684722874052065257937495694348389263171152522525654410980819170611742509702440718010364831638288518852689\n",
    "# 5.a.i\n",
    "fermat_primality(jenny_jenny_plus2)\n",
    "fermat_primality(jenny_devil)\n",
    "fermat_primality(RSA100)\n",
    "fermat_primality(RSA230)"
   ]
  },
  {
   "cell_type": "code",
   "execution_count": 12,
   "metadata": {
    "collapsed": false
   },
   "outputs": [
    {
     "name": "stdout",
     "output_type": "stream",
     "text": [
      "(341, 'True')\n",
      "(561, 'True')\n",
      "(645, 'True')\n"
     ]
    },
    {
     "name": "stdout",
     "output_type": "stream",
     "text": [
      "(1105, 'True')\n",
      "(1387, 'True')\n",
      "(1729, 'True')\n"
     ]
    },
    {
     "name": "stdout",
     "output_type": "stream",
     "text": [
      "(1905, 'True')\n",
      "(341, 'True')\n"
     ]
    },
    {
     "name": "stdout",
     "output_type": "stream",
     "text": [
      "(561, 'True')\n",
      "(645, 'True')\n",
      "(1105, 'True')\n",
      "(1387, 'True')\n"
     ]
    },
    {
     "name": "stdout",
     "output_type": "stream",
     "text": [
      "(1729, 'True')\n",
      "(1905, 'True')\n",
      "(2047, 'True')\n"
     ]
    },
    {
     "name": "stdout",
     "output_type": "stream",
     "text": [
      "(2465, 'True')\n",
      "(2701, 'True')\n",
      "(2821, 'True')\n"
     ]
    },
    {
     "name": "stdout",
     "output_type": "stream",
     "text": [
      "(3277, 'True')\n"
     ]
    },
    {
     "name": "stdout",
     "output_type": "stream",
     "text": [
      "(4033, 'True')\n",
      "(4369, 'True')\n",
      "(4371, 'True')\n"
     ]
    },
    {
     "name": "stdout",
     "output_type": "stream",
     "text": [
      "(4681, 'True')\n"
     ]
    },
    {
     "name": "stdout",
     "output_type": "stream",
     "text": [
      "(5461, 'True')\n"
     ]
    },
    {
     "name": "stdout",
     "output_type": "stream",
     "text": [
      "(6601, 'True')\n"
     ]
    },
    {
     "name": "stdout",
     "output_type": "stream",
     "text": [
      "(7957, 'True')\n"
     ]
    },
    {
     "name": "stdout",
     "output_type": "stream",
     "text": [
      "(8321, 'True')\n",
      "(8481, 'True')\n"
     ]
    },
    {
     "name": "stdout",
     "output_type": "stream",
     "text": [
      "(8911, 'True')\n"
     ]
    }
   ],
   "source": [
    "# b.i.\n",
    "def is_prime(n):\n",
    "    for i in range(3, n):\n",
    "        if n % i == 0:\n",
    "            return False\n",
    "    return True\n",
    "\n",
    "def pseudoPrimer(n):\n",
    "    if(is_prime(n)) is not True:\n",
    "        if (mod((2^(n-1)),n)) == 1:\n",
    "            return True\n",
    "        return False\n",
    "\n",
    "# 5.b.ii\n",
    "for i in range(1,2000):\n",
    "    if(pseudoPrimer(i)) is True:\n",
    "        print(i, \"True\")\n",
    "# 5.b.iii\n",
    "for i in range(1,10000):\n",
    "    if(pseudoPrimer(i)) is True:\n",
    "        print(i, \"True\")\n",
    "\n",
    "#5c\n",
    "# def is_carmichael(n):\n",
    "#     if not(is_prime(n)):\n",
    "#         its composite\n",
    "\n",
    "\n",
    "# is_carmichael(11)"
   ]
  }
 ],
 "metadata": {
  "kernelspec": {
   "display_name": "SageMath (stable)",
   "language": "sagemath",
   "metadata": {
    "cocalc": {
     "description": "Open-source mathematical software system",
     "priority": 10,
     "url": "https://www.sagemath.org/"
    }
   },
   "name": "sagemath"
  },
  "language_info": {
   "codemirror_mode": {
    "name": "ipython",
    "version": 2
   },
   "file_extension": ".py",
   "mimetype": "text/x-python",
   "name": "python",
   "nbconvert_exporter": "python",
   "pygments_lexer": "ipython2",
   "version": "2.7.15"
  }
 },
 "nbformat": 4,
 "nbformat_minor": 0
}