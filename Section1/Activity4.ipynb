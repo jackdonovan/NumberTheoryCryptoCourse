{
 "cells": [
  {
   "cell_type": "code",
   "execution_count": 1,
   "metadata": {
    "collapsed": false
   },
   "outputs": [
    {
     "data": {
      "text/plain": [
       "8733465964"
      ]
     },
     "execution_count": 1,
     "metadata": {
     },
     "output_type": "execute_result"
    }
   ],
   "source": [
    "# n = 11111111111111\n",
    "# factored_n = factor(n)\n",
    "# print n, '=', factored_n\n",
    "# len(factored_n) #Returns the number of prime factors\n",
    "# factored_n[0] #Returns (p_1,e_1) - that is, the first prime and its exponent\n",
    "# factored_n[1] #Returns (p_2,e_2) - that is, the second prime and its exponent\n",
    "\n",
    "# def g_mod_m(g, A, m):\n",
    "#     a = g\n",
    "#     b = 1\n",
    "\n",
    "#     while(A > 1):\n",
    "#         if(A % 2 == 1):\n",
    "#             b = b * a % m\n",
    "#         a = a^2 % m\n",
    "#         A = floor(A/2)\n",
    "#         if(A == 0):\n",
    "#             return b\n",
    "\n",
    "# print(g_mod_m(38, 82, 83))\n",
    "\n",
    "power_mod(1234, 8675309, 10003130001)"
   ]
  },
  {
   "cell_type": "code",
   "execution_count": 0,
   "metadata": {
    "collapsed": false
   },
   "outputs": [
   ],
   "source": [
   ]
  }
 ],
 "metadata": {
  "kernelspec": {
   "display_name": "SageMath (stable)",
   "language": "sagemath",
   "metadata": {
    "cocalc": {
     "description": "Open-source mathematical software system",
     "priority": 10,
     "url": "https://www.sagemath.org/"
    }
   },
   "name": "sagemath"
  },
  "language_info": {
   "codemirror_mode": {
    "name": "ipython",
    "version": 2
   },
   "file_extension": ".py",
   "mimetype": "text/x-python",
   "name": "python",
   "nbconvert_exporter": "python",
   "pygments_lexer": "ipython2",
   "version": "2.7.15"
  }
 },
 "nbformat": 4,
 "nbformat_minor": 0
}