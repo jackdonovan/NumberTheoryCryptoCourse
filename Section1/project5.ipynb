{
 "cells": [
  {
   "cell_type": "code",
   "execution_count": 1,
   "metadata": {
    "collapsed": false
   },
   "outputs": [
    {
     "name": "stdout",
     "output_type": "stream",
     "text": [
      "819\n",
      "(605, '<-solution')\n"
     ]
    }
   ],
   "source": [
    "# problem 1\n",
    "\n",
    "for i in range(1000):\n",
    "    if((7^i)%2027 == 819):\n",
    "        print((7^i)%2027)\n",
    "        print(i, \"<-solution\")"
   ]
  },
  {
   "cell_type": "code",
   "execution_count": 2,
   "metadata": {
    "collapsed": false
   },
   "outputs": [
    {
     "name": "stdout",
     "output_type": "stream",
     "text": [
      "p = 612985319\n",
      "g = 3\n"
     ]
    }
   ],
   "source": [
    "# problem 2\n",
    "#####################################################\n",
    "# Choose and Publish:\n",
    "# - A Large Prime p\n",
    "# - An element g in F_p^* - idealy with large order\n",
    "#####################################################\n",
    "p = 612985319\n",
    "g = 3\n",
    "print 'p =',p\n",
    "print 'g =',g"
   ]
  },
  {
   "cell_type": "code",
   "execution_count": 3,
   "metadata": {
    "collapsed": false
   },
   "outputs": [
    {
     "name": "stdout",
     "output_type": "stream",
     "text": [
      "Public A = 511830974\n"
     ]
    }
   ],
   "source": [
    "#####################################################\n",
    "# Alice\n",
    "# Chooses private key a\n",
    "# Computes A = g^a mod p\n",
    "# Publishes the public key A\n",
    "#####################################################\n",
    "# private_a = randint(2,10000)\n",
    "public_a = 511830974\n",
    "print 'Public A =', public_a"
   ]
  },
  {
   "cell_type": "code",
   "execution_count": 4,
   "metadata": {
    "collapsed": false
   },
   "outputs": [
    {
     "name": "stdout",
     "output_type": "stream",
     "text": [
      "Secret Message: 8675309\n",
      "Public c1 391470440\n",
      "Public c2 265130698\n"
     ]
    }
   ],
   "source": [
    "#####################################################\n",
    "# Bob\n",
    "# Chooses plaintext m (m < p)\n",
    "# Chooses random ephemeral key\n",
    "# Uses Alic's public key A to compute\n",
    "#   c1 = g^k mod p\n",
    "#   c2 = mA^k mod p\n",
    "# Sends (c1,c2) to Alice\n",
    "#####################################################\n",
    "m = 8675309\n",
    "print 'Secret Message:', m\n",
    "private_b = 96407412\n",
    "c1 = power_mod(g,private_b,p)\n",
    "c2 = int(mod(m*power_mod(public_a,private_b,p),p))\n",
    "print 'Public c1', c1\n",
    "print 'Public c2', c2"
   ]
  },
  {
   "cell_type": "code",
   "execution_count": 5,
   "metadata": {
    "collapsed": false
   },
   "outputs": [
    {
     "name": "stdout",
     "output_type": "stream",
     "text": [
      "p = 2027\n",
      "g = 7\n"
     ]
    }
   ],
   "source": [
    "# Problem 3\n",
    "#####################################################\n",
    "# Choose and Publish:\n",
    "# - A Large Prime p\n",
    "# - An element g in F_p^* - idealy with large order\n",
    "#####################################################\n",
    "p = 2027\n",
    "g = 7\n",
    "print 'p =',p\n",
    "print 'g =',g"
   ]
  },
  {
   "cell_type": "code",
   "execution_count": 6,
   "metadata": {
    "collapsed": false
   },
   "outputs": [
    {
     "name": "stdout",
     "output_type": "stream",
     "text": [
      "Public A = 819\n"
     ]
    }
   ],
   "source": [
    "#####################################################\n",
    "# Alice\n",
    "# Chooses private key a\n",
    "# Computes A = g^a mod p\n",
    "# Publishes the public key A\n",
    "#####################################################\n",
    "# private_a = randint(2,10000)\n",
    "public_a = 819\n",
    "print 'Public A =', public_a"
   ]
  },
  {
   "cell_type": "code",
   "execution_count": 7,
   "metadata": {
    "collapsed": false
   },
   "outputs": [
    {
     "name": "stdout",
     "output_type": "stream",
     "text": [
      "(605, '<-secret a')\n"
     ]
    }
   ],
   "source": [
    "c1 = 1032\n",
    "c2 = 910\n",
    "\n",
    "# Determine alices a\n",
    "for z in range(1,1000):\n",
    "    if(((g^z)%p) == public_a):\n",
    "        print(z, \"<-secret a\")"
   ]
  },
  {
   "cell_type": "code",
   "execution_count": 8,
   "metadata": {
    "collapsed": false
   },
   "outputs": [
    {
     "data": {
      "text/plain": [
       "506"
      ]
     },
     "execution_count": 8,
     "metadata": {
     },
     "output_type": "execute_result"
    }
   ],
   "source": [
    "private_a = 605\n",
    "# find Bobs message m\n",
    "#####################################################\n",
    "# Alice\n",
    "# Compute (c1^a)^(-1)*c2 mod p (This is m!)\n",
    "#####################################################\n",
    "mod(xgcd(p,power_mod(c1,private_a,p))[2]*c2,p)"
   ]
  },
  {
   "cell_type": "code",
   "execution_count": 9,
   "metadata": {
    "collapsed": false
   },
   "outputs": [
    {
     "data": {
      "text/plain": [
       "2027"
      ]
     },
     "execution_count": 9,
     "metadata": {
     },
     "output_type": "execute_result"
    }
   ],
   "source": [
    "# Problem 4\n",
    "p = 2027\n",
    "p"
   ]
  },
  {
   "cell_type": "code",
   "execution_count": 10,
   "metadata": {
    "collapsed": false
   },
   "outputs": [
    {
     "name": "stdout",
     "output_type": "stream",
     "text": [
      "(609, '<-secret n for to solve DLP in part a')\n"
     ]
    }
   ],
   "source": [
    "# part a\n",
    "for x in range(1,1000):\n",
    "    if(((7^x)%2027) == 229):\n",
    "        print(x, \"<-secret n for to solve DLP in part a\")"
   ]
  },
  {
   "cell_type": "code",
   "execution_count": 11,
   "metadata": {
    "collapsed": false
   },
   "outputs": [
    {
     "name": "stdout",
     "output_type": "stream",
     "text": [
      "g1 was not used\n",
      "g2 was not used\n"
     ]
    }
   ],
   "source": [
    "# part b\n",
    "x = 7791192\n",
    "\n",
    "if(((5^x)%2027) == 2023):\n",
    "    print(\"g1 was used\")\n",
    "else:\n",
    "    print(\"g1 was not used\")\n",
    "\n",
    "\n",
    "if(((7^x)%2027) == 2023):\n",
    "    print(\"g2 was used\")\n",
    "else:\n",
    "    print(\"g2 was not used\")"
   ]
  }
 ],
 "metadata": {
  "kernelspec": {
   "display_name": "SageMath (stable)",
   "language": "sagemath",
   "metadata": {
    "cocalc": {
     "description": "Open-source mathematical software system",
     "priority": 10,
     "url": "https://www.sagemath.org/"
    }
   },
   "name": "sagemath"
  },
  "language_info": {
   "codemirror_mode": {
    "name": "ipython",
    "version": 2
   },
   "file_extension": ".py",
   "mimetype": "text/x-python",
   "name": "python",
   "nbconvert_exporter": "python",
   "pygments_lexer": "ipython2",
   "version": "2.7.15"
  }
 },
 "nbformat": 4,
 "nbformat_minor": 0
}