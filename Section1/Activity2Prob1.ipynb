{
 "cells": [
  {
   "cell_type": "code",
   "execution_count": 1,
   "metadata": {
    "collapsed": false
   },
   "outputs": [
    {
     "name": "stdout",
     "output_type": "stream",
     "text": [
      "(173, 1, -60)\n"
     ]
    }
   ],
   "source": [
    "def cusGcd(a,b):\n",
    "    u = 1\n",
    "    g = a\n",
    "    x = 0\n",
    "    y = b\n",
    "    while (true):\n",
    "        if(y == 0):\n",
    "            v = ((g-(a*u))/b)\n",
    "            return(g, u, v)\n",
    "        q = floor(g/y)\n",
    "        t = int(mod(g,y))\n",
    "        s = u - q*x\n",
    "        u = x\n",
    "        g = y\n",
    "        x = s\n",
    "        y = t\n",
    "\n",
    "\n",
    "\n",
    "print (cusGcd(31313, 519))"
   ]
  },
  {
   "cell_type": "code",
   "execution_count": 2,
   "metadata": {
    "collapsed": false
   },
   "outputs": [
    {
     "data": {
      "text/plain": [
       "(7, -4430, 4517)"
      ]
     },
     "execution_count": 2,
     "metadata": {
     },
     "output_type": "execute_result"
    }
   ],
   "source": [
    "cusGcd(167181,163961)"
   ]
  },
  {
   "cell_type": "code",
   "execution_count": 3,
   "metadata": {
    "collapsed": false
   },
   "outputs": [
    {
     "data": {
      "text/plain": [
       "(1, -843845, 1880749)"
      ]
     },
     "execution_count": 3,
     "metadata": {
     },
     "output_type": "execute_result"
    }
   ],
   "source": [
    "cusGcd(8675309,3892394)"
   ]
  }
 ],
 "metadata": {
  "kernelspec": {
   "display_name": "SageMath (stable)",
   "language": "sagemath",
   "metadata": {
    "cocalc": {
     "description": "Open-source mathematical software system",
     "priority": 10,
     "url": "https://www.sagemath.org/"
    }
   },
   "name": "sagemath"
  },
  "language_info": {
   "codemirror_mode": {
    "name": "ipython",
    "version": 2
   },
   "file_extension": ".py",
   "mimetype": "text/x-python",
   "name": "python",
   "nbconvert_exporter": "python",
   "pygments_lexer": "ipython2",
   "version": "2.7.15"
  }
 },
 "nbformat": 4,
 "nbformat_minor": 0
}