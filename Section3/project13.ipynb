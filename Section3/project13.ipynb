{
 "cells": [
  {
   "cell_type": "code",
   "execution_count": 1,
   "metadata": {
    "collapsed": false
   },
   "outputs": [
    {
     "name": "stdout",
     "output_type": "stream",
     "text": [
      "Possible u: 162 > 181\n",
      "Make u = p-u: 19\n",
      "u^2 = -1 mod p? True\n"
     ]
    }
   ],
   "source": [
    "# problem 1\n",
    "def find_u(p):\n",
    "    '''\n",
    "    Given a prime p = 1 mod 4 this function generates an integer u such that u < p/2 and u^2 = -1 mod p\n",
    "    '''\n",
    "    if is_prime(p) == False or mod(p,4) != 1:\n",
    "        return False\n",
    "    b = 2\n",
    "    u = power_mod(b,int((p-1)/4),p)\n",
    "    while power_mod(u,2,p) != (p-1):\n",
    "        b = b + 1\n",
    "        u = power_mod(b,int((p-1)/4),p)\n",
    "    if u < p/2:\n",
    "        return u\n",
    "    else:\n",
    "        return p - u\n",
    "# a\n",
    "p = 181\n",
    "(p-1)/4\n",
    "print 'Possible u:', power_mod(2,45,181),'> 181' #Gives possible u value!\n",
    "u = 181 - 162\n",
    "print 'Make u = p-u:',181 - 162\n",
    "print 'u^2 = -1 mod p?', power_mod(19,2,181) == (p-1) #Make sure u^2 = -1 = (p-1) (mod p)"
   ]
  },
  {
   "cell_type": "code",
   "execution_count": 2,
   "metadata": {
    "collapsed": false
   },
   "outputs": [
    {
     "name": "stdout",
     "output_type": "stream",
     "text": [
      "Possible u: 312 > 313\n",
      "Make u = p-u: 312\n",
      "u^2 = -1 mod p? False\n"
     ]
    },
    {
     "data": {
      "text/plain": [
       "(12, 13)"
      ]
     },
     "execution_count": 2,
     "metadata": {
     },
     "output_type": "execute_result"
    }
   ],
   "source": [
    "def find_u(p):\n",
    "    '''\n",
    "    Given a prime p = 1 mod 4 this function generates an integer u such that u < p/2 and u^2 = -1 mod p\n",
    "    '''\n",
    "    if is_prime(p) == False or mod(p,4) != 1:\n",
    "        return False\n",
    "    b = 2\n",
    "    u = power_mod(b,int((p-1)/4),p)\n",
    "    while power_mod(u,2,p) != (p-1):\n",
    "        b = b + 1\n",
    "        u = power_mod(b,int((p-1)/4),p)\n",
    "    if u < p/2:\n",
    "        return u\n",
    "    else:\n",
    "        return p - u\n",
    "# b\n",
    "p = 313\n",
    "(p-1)/4\n",
    "print 'Possible u:', power_mod(2,78,313),'> 313' #Gives possible u value!\n",
    "u = 313 - 312\n",
    "print 'Make u = p-u:',p-u\n",
    "print 'u^2 = -1 mod p?', power_mod(312,2,313) == (p-1) #Make sure u^2 = -1 = (p-1) (mod p)\n",
    "from sage.rings.sum_of_squares import two_squares_pyx\n",
    "two_squares_pyx(313)"
   ]
  },
  {
   "cell_type": "code",
   "execution_count": 3,
   "metadata": {
    "collapsed": false
   },
   "outputs": [
    {
     "data": {
      "text/plain": [
       "(2909, 2*sqrt(-2113737))"
      ]
     },
     "execution_count": 3,
     "metadata": {
     },
     "output_type": "execute_result"
    }
   ],
   "source": [
    "def find_u(p):\n",
    "    '''\n",
    "    Given a prime p = 1 mod 4 this function generates an integer u such that u < p/2 and u^2 = -1 mod p\n",
    "    '''\n",
    "    if is_prime(p) == False or mod(p,4) != 1:\n",
    "        return False\n",
    "    b = 2\n",
    "    u = power_mod(b,int((p-1)/4),p)\n",
    "    while power_mod(u,2,p) != (p-1):\n",
    "        b = b + 1\n",
    "        u = power_mod(b,int((p-1)/4),p)\n",
    "    if u < p/2:\n",
    "        return u\n",
    "    else:\n",
    "        return p - u\n",
    "\n",
    "\n",
    "# problem 2\n",
    "# a\n",
    "\n",
    "def sum_of_squares(p):\n",
    "    u = find_u(p)\n",
    "    a = p\n",
    "    b = u\n",
    "    while(b <= sqrt(p)):\n",
    "        r = a%b\n",
    "        a = b\n",
    "        b = r\n",
    "    x = b\n",
    "    y = sqrt(p-(b^2))\n",
    "    return x,y\n",
    "\n",
    "\n",
    "p = 7333\n",
    "\n",
    "sum_of_squares(7333)"
   ]
  },
  {
   "cell_type": "code",
   "execution_count": 4,
   "metadata": {
    "collapsed": false
   },
   "outputs": [
    {
     "data": {
      "text/plain": [
       "(387808245259, 4*sqrt(-9399702193095479042234))"
      ]
     },
     "execution_count": 4,
     "metadata": {
     },
     "output_type": "execute_result"
    }
   ],
   "source": [
    "# b\n",
    "p = 1337031301337\n",
    "u = find_u(p)\n",
    "u\n",
    "sum_of_squares(p)"
   ]
  },
  {
   "cell_type": "code",
   "execution_count": 5,
   "metadata": {
    "collapsed": false
   },
   "outputs": [
    {
     "data": {
      "text/plain": [
       "(17682352104926673390821,\n",
       " 2*sqrt(-78166393990651189295145254439505139949594683))"
      ]
     },
     "execution_count": 5,
     "metadata": {
     },
     "output_type": "execute_result"
    }
   ],
   "source": [
    "# c\n",
    "p = 86753090003130008675309\n",
    "u = find_u(p)\n",
    "u\n",
    "sum_of_squares(p)"
   ]
  },
  {
   "cell_type": "code",
   "execution_count": 6,
   "metadata": {
    "collapsed": false
   },
   "outputs": [
    {
     "data": {
      "text/plain": [
       "(3, 238)"
      ]
     },
     "execution_count": 6,
     "metadata": {
     },
     "output_type": "execute_result"
    }
   ],
   "source": [
    "from sage.rings.sum_of_squares import two_squares_pyx\n",
    "two_squares_pyx(56653)"
   ]
  },
  {
   "cell_type": "code",
   "execution_count": 7,
   "metadata": {
    "collapsed": false
   },
   "outputs": [
    {
     "data": {
      "text/plain": [
       "(21, 1666)"
      ]
     },
     "execution_count": 7,
     "metadata": {
     },
     "output_type": "execute_result"
    }
   ],
   "source": [
    "two_squares_pyx(2775997)"
   ]
  }
 ],
 "metadata": {
  "kernelspec": {
   "display_name": "SageMath (stable)",
   "language": "sagemath",
   "metadata": {
    "cocalc": {
     "description": "Open-source mathematical software system",
     "priority": 10,
     "url": "https://www.sagemath.org/"
    }
   },
   "name": "sagemath"
  },
  "language_info": {
   "codemirror_mode": {
    "name": "ipython",
    "version": 2
   },
   "file_extension": ".py",
   "mimetype": "text/x-python",
   "name": "python",
   "nbconvert_exporter": "python",
   "pygments_lexer": "ipython2",
   "version": "2.7.15"
  }
 },
 "nbformat": 4,
 "nbformat_minor": 0
}