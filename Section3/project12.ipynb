{
 "cells": [
  {
   "cell_type": "code",
   "execution_count": 1,
   "metadata": {
    "collapsed": false
   },
   "outputs": [
    {
     "data": {
      "text/plain": [
       "8"
      ]
     },
     "execution_count": 1,
     "metadata": {
     },
     "output_type": "execute_result"
    }
   ],
   "source": [
    "# problem 1\n",
    "A = 143\n",
    "B = 421\n",
    "\n",
    "(A * 3 )% B"
   ]
  },
  {
   "cell_type": "code",
   "execution_count": 2,
   "metadata": {
    "collapsed": false
   },
   "outputs": [
    {
     "data": {
      "text/plain": [
       "159"
      ]
     },
     "execution_count": 2,
     "metadata": {
     },
     "output_type": "execute_result"
    }
   ],
   "source": [
    "(A * 7)% B"
   ]
  },
  {
   "cell_type": "code",
   "execution_count": 3,
   "metadata": {
    "collapsed": false
   },
   "outputs": [
    {
     "data": {
      "text/plain": [
       "326"
      ]
     },
     "execution_count": 3,
     "metadata": {
     },
     "output_type": "execute_result"
    }
   ],
   "source": [
    "(A * 17 )% B"
   ]
  },
  {
   "cell_type": "code",
   "execution_count": 4,
   "metadata": {
    "collapsed": false
   },
   "outputs": [
    {
     "data": {
      "text/plain": [
       "104"
      ]
     },
     "execution_count": 4,
     "metadata": {
     },
     "output_type": "execute_result"
    }
   ],
   "source": [
    "(A * 39)% B"
   ]
  },
  {
   "cell_type": "code",
   "execution_count": 5,
   "metadata": {
    "collapsed": false
   },
   "outputs": [
    {
     "data": {
      "text/plain": [
       "81"
      ]
     },
     "execution_count": 5,
     "metadata": {
     },
     "output_type": "execute_result"
    }
   ],
   "source": [
    "(A * 83)% B"
   ]
  },
  {
   "cell_type": "code",
   "execution_count": 6,
   "metadata": {
    "collapsed": false
   },
   "outputs": [
    {
     "data": {
      "text/plain": [
       "321"
      ]
     },
     "execution_count": 6,
     "metadata": {
     },
     "output_type": "execute_result"
    }
   ],
   "source": [
    "(A * 173)% B"
   ]
  },
  {
   "cell_type": "code",
   "execution_count": 7,
   "metadata": {
    "collapsed": false
   },
   "outputs": [
    {
     "data": {
      "text/plain": [
       "True"
      ]
     },
     "execution_count": 7,
     "metadata": {
     },
     "output_type": "execute_result"
    }
   ],
   "source": [
    "# problem 2\n",
    "\n",
    "def is_superincreasing(M):\n",
    "    for i in range(len(M)-1):\n",
    "        if M[i+1] < 2*M[i]:\n",
    "            return False\n",
    "    return True\n",
    "\n",
    "\n",
    "\n",
    "def solve_subset_sum_superincreasing(M,S):\n",
    "    if is_superincreasing(M) == False:\n",
    "        return 'M is not superincreasing'\n",
    "    check_S = S #Later we will check to ensure we found a solution!\n",
    "    soln = [0]*len(M)\n",
    "    for i in range(len(M)-1, -1, -1):\n",
    "        #print S,M[i],i\n",
    "        if S >= M[i]:\n",
    "            soln[i] = 1\n",
    "            S = S - M[i]\n",
    "    if sum([m for m,k in zip(M,soln) if k==1]) == check_S:\n",
    "        return soln\n",
    "    return 'No Solution'\n",
    "\n",
    "\n",
    "\n",
    "r = [3,7,17,39,83,173]\n",
    "is_superincreasing(r)\n",
    "A = 143\n",
    "B = 421\n",
    "gcd(A,B) == 1\n",
    "B > 2*r[len(r)-1]"
   ]
  },
  {
   "cell_type": "code",
   "execution_count": 8,
   "metadata": {
    "collapsed": false
   },
   "outputs": [
    {
     "data": {
      "text/plain": [
       "[8, 81, 104, 159, 321, 326]"
      ]
     },
     "execution_count": 8,
     "metadata": {
     },
     "output_type": "execute_result"
    }
   ],
   "source": [
    "M = [mod(A*r[i],B) for i in range(len(r))]\n",
    "M\n",
    "#Type issues with using M later\n",
    "M.sort()\n",
    "M"
   ]
  },
  {
   "cell_type": "code",
   "execution_count": 9,
   "metadata": {
    "collapsed": false
   },
   "outputs": [
    {
     "data": {
      "text/plain": [
       "438"
      ]
     },
     "execution_count": 9,
     "metadata": {
     },
     "output_type": "execute_result"
    }
   ],
   "source": [
    "X = [1,0,1,0,0,1,0,0]\n",
    "S = sum([int(m) for m,k in zip(M,X) if k == 1])\n",
    "S"
   ]
  },
  {
   "cell_type": "code",
   "execution_count": 10,
   "metadata": {
    "collapsed": false
   },
   "outputs": [
    {
     "data": {
      "text/plain": [
       "59"
      ]
     },
     "execution_count": 10,
     "metadata": {
     },
     "output_type": "execute_result"
    }
   ],
   "source": [
    "S1 = (inverse_mod(A,B)*S)%B\n",
    "S1"
   ]
  },
  {
   "cell_type": "code",
   "execution_count": 11,
   "metadata": {
    "collapsed": false
   },
   "outputs": [
    {
     "data": {
      "text/plain": [
       "[1, 0, 1, 1, 0, 0]"
      ]
     },
     "execution_count": 11,
     "metadata": {
     },
     "output_type": "execute_result"
    }
   ],
   "source": [
    "solve_subset_sum_superincreasing(r,S1)"
   ]
  },
  {
   "cell_type": "code",
   "execution_count": 12,
   "metadata": {
    "collapsed": false
   },
   "outputs": [
    {
     "data": {
      "text/plain": [
       "3 * 11"
      ]
     },
     "execution_count": 12,
     "metadata": {
     },
     "output_type": "execute_result"
    }
   ],
   "source": [
    "# problem 3\n",
    "p = 133337\n",
    "n = 4\n",
    "s=65535\n",
    "gcd(p-1, s)\n",
    "d = 32775\n",
    "power_mod(2,d,p)\n",
    "power_mod(3,d,p)\n",
    "power_mod(5,d,p)\n",
    "power_mod(7,d,p)\n",
    "power_mod(11,d,p)\n",
    "c = (83568*114947) % p\n",
    "c\n",
    "power_mod(c,s,p)\n",
    "factor(33)"
   ]
  },
  {
   "cell_type": "code",
   "execution_count": 13,
   "metadata": {
    "collapsed": false
   },
   "outputs": [
    {
     "data": {
      "text/plain": [
       "5 * 11 * 41"
      ]
     },
     "execution_count": 13,
     "metadata": {
     },
     "output_type": "execute_result"
    }
   ],
   "source": [
    "# problem4\n",
    "p = 8675309\n",
    "V = [8538368, 7339005, 4969524, 7394177, 2410031, 2851984, 3560642]\n",
    "# (V[0] * V[1] * V[4]) % p\n",
    "# for s in range(100000):\n",
    "#     power_mod(c,s,p)\n",
    "\n",
    "# problem 5\n",
    "p = 133337\n",
    "s = 65535\n",
    "d = 32775\n",
    "power_mod(5, d, p)\n",
    "power_mod(7, d, p)\n",
    "power_mod(11, d, p)\n",
    "power_mod(13, d, p)\n",
    "power_mod(17, d, p)\n",
    "power_mod(41, d, p)\n",
    "\n",
    "c = (77625*83568*71970) % p\n",
    "c\n",
    "power_mod(c, s, p)\n",
    "factor(2255)"
   ]
  }
 ],
 "metadata": {
  "kernelspec": {
   "display_name": "SageMath (stable)",
   "language": "sagemath",
   "metadata": {
    "cocalc": {
     "description": "Open-source mathematical software system",
     "priority": 10,
     "url": "https://www.sagemath.org/"
    }
   },
   "name": "sagemath"
  },
  "language_info": {
   "codemirror_mode": {
    "name": "ipython",
    "version": 2
   },
   "file_extension": ".py",
   "mimetype": "text/x-python",
   "name": "python",
   "nbconvert_exporter": "python",
   "pygments_lexer": "ipython2",
   "version": "2.7.15"
  }
 },
 "nbformat": 4,
 "nbformat_minor": 0
}