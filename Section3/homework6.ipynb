{
 "cells": [
  {
   "cell_type": "code",
   "execution_count": 0,
   "metadata": {
    "collapsed": false
   },
   "outputs": [
   ],
   "source": [
    "def first_common_element(X,Y):\n",
    "    '''\n",
    "    Returns the first element from X that is also in Y.\n",
    "    Returns None if no such element exists\n",
    "    '''\n",
    "    for i in X:\n",
    "        if i in Y:\n",
    "            return i\n",
    "\n",
    "def order(g,N):\n",
    "    '''\n",
    "    Returns the order of element g modulo N.\n",
    "    Returns None if no such exponent exists\n",
    "    '''\n",
    "    for i in euler_phi(N).divisors():\n",
    "        if power_mod(g,i,N) == 1:\n",
    "            return i\n",
    "\n",
    "def babystep_giantstep(g,h,p):\n",
    "    '''\n",
    "    Shanks 'Baby Step - Giant Step' DLP Algorithm\n",
    "    '''\n",
    "    N = order(g,p) #Call Local order Function\n",
    "    #N = mod(g,p).multiplicative_order() #Call Built in SAGE Order Function\n",
    "    n = 1 + floor(sqrt(N))\n",
    "    list1 = [1]\n",
    "    list2 = [h]\n",
    "    u = power_mod(xgcd(p,g)[2],n,p)\n",
    "    a = 1\n",
    "    b = 1\n",
    "    for i in [1..n]:\n",
    "        a = int(mod(a*g,p))\n",
    "        list1.append(a)\n",
    "        b = int(mod(b*u,p))\n",
    "        list2.append(int(mod(h*b,p)))\n",
    "    shared = first_common_element(list1,list2) #Call Local first_common_element Function\n",
    "    if shared == None:\n",
    "        return 'No Solution'\n",
    "    i = list1.index(shared)\n",
    "    j = list2.index(shared)\n",
    "    #print 'List 1:\\t ',list1\n",
    "    #print 'List 2:\\t ',list2\n",
    "    #print 'Int:\\t ' ,shared, 'at i =',i,'and j =',j\n",
    "    return i + j*n\n",
    "\n",
    "# added\n",
    "def order(g,p):\n",
    "    for k in divisors(p-1):\n",
    "        if power_mod(g,k,p) == 1:\n",
    "            return k\n",
    "\n",
    "\n",
    "\n",
    "# problem 1\n",
    "p = 8675309\n",
    "q = 2168827\n",
    "g = 16\n",
    "A = 1696037\n",
    "mod(p,q) == 1\n",
    "order(g,p) == q"
   ]
  },
  {
   "cell_type": "code",
   "execution_count": 0,
   "metadata": {
    "collapsed": false
   },
   "outputs": [
   ],
   "source": [
    "# 1a\n",
    "\n",
    "D = 12345\n",
    "S1 = 1223560\n",
    "S2 = 1223560\n",
    "\n",
    "V1 = Integer(mod(D*inverse_mod(S2,q),q))\n",
    "print 'V1 =',V1\n",
    "V2 = Integer(mod(S1*inverse_mod(S2,q),q))\n",
    "print 'V2 =',V2\n",
    "\n",
    "if mod(mod(power_mod(g,V1,p)*power_mod(A,V2,p),p),q) == S1:\n",
    "    print True\n",
    "else:\n",
    "    print False"
   ]
  },
  {
   "cell_type": "code",
   "execution_count": 0,
   "metadata": {
    "collapsed": false
   },
   "outputs": [
   ],
   "source": [
    "# 1b\n",
    "\n",
    "p = 8675309\n",
    "q = 2168827\n",
    "g = 16\n",
    "A = 1696037\n",
    "mod(p,q) == 1\n",
    "order(g,p) == q"
   ]
  },
  {
   "cell_type": "code",
   "execution_count": 0,
   "metadata": {
    "collapsed": false
   },
   "outputs": [
   ],
   "source": [
    "D = 54321\n",
    "S1 = 256760\n",
    "S2 = 21510\n",
    "V1 = Integer(mod(D*inverse_mod(S2,q),q))\n",
    "print 'V1 =',V1\n",
    "V2 = Integer(mod(S1*inverse_mod(S2,q),q))\n",
    "print 'V2 =',V2\n",
    "\n",
    "if mod(mod(power_mod(g,V1,p)*power_mod(A,V2,p),p),q) == S1:\n",
    "    print True\n",
    "else:\n",
    "    print False"
   ]
  },
  {
   "cell_type": "code",
   "execution_count": 0,
   "metadata": {
    "collapsed": false
   },
   "outputs": [
   ],
   "source": [
    "# 1c\n",
    "\n",
    "p = 8675309\n",
    "q = 2168827\n",
    "g = 16\n",
    "A = 1696037\n",
    "mod(p,q) == 1\n",
    "order(g,p) == q"
   ]
  },
  {
   "cell_type": "code",
   "execution_count": 0,
   "metadata": {
    "collapsed": false
   },
   "outputs": [
   ],
   "source": [
    "D = 12321\n",
    "S1 = 915040\n",
    "S2 = 2020543\n",
    "V1 = Integer(mod(D*inverse_mod(S2,q),q))\n",
    "print 'V1 =',V1\n",
    "V2 = Integer(mod(S1*inverse_mod(S2,q),q))\n",
    "print 'V2 =',V2\n",
    "\n",
    "if mod(mod(power_mod(g,V1,p)*power_mod(A,V2,p),p),q) == S1:\n",
    "    print True\n",
    "else:\n",
    "    print False"
   ]
  },
  {
   "cell_type": "code",
   "execution_count": 0,
   "metadata": {
    "collapsed": false
   },
   "outputs": [
   ],
   "source": [
    "# problem 2\n",
    "\n",
    "\n",
    "\n",
    "p = 133791337\n",
    "g = 15\n",
    "A = 101578714\n",
    "order(g,p) == p - 1\n",
    "e = 143\n",
    "D = 12345\n",
    "\n",
    "print 'A =',A\n",
    "\n",
    "\n",
    "def first_common_element(X,Y):\n",
    "    '''\n",
    "    Returns the first element from X that is also in Y.\n",
    "    Returns None if no such element exists\n",
    "    '''\n",
    "    for i in X:\n",
    "        if i in Y:\n",
    "            return i\n",
    "def babystep_giantstep(g,h,p):\n",
    "    '''\n",
    "    Shanks 'Baby Step - Giant Step' DLP Algorithm\n",
    "    '''\n",
    "    N = order(g,p) #Call Local order Function\n",
    "    #N = mod(g,p).multiplicative_order() #Call Built in SAGE Order Function\n",
    "    n = 1 + floor(sqrt(N))\n",
    "    list1 = [1]\n",
    "    list2 = [h]\n",
    "    u = power_mod(xgcd(p,g)[2],n,p)\n",
    "    a = 1\n",
    "    b = 1\n",
    "    for i in [1..n]:\n",
    "        a = int(mod(a*g,p))\n",
    "        list1.append(a)\n",
    "        b = int(mod(b*u,p))\n",
    "        list2.append(int(mod(h*b,p)))\n",
    "    shared = first_common_element(list1,list2) #Call Local first_common_element Function\n",
    "    if shared == None:\n",
    "        return 'No Solution'\n",
    "    i = list1.index(shared)\n",
    "    j = list2.index(shared)\n",
    "    #print 'List 1:\\t ',list1\n",
    "    #print 'List 2:\\t ',list2\n",
    "    #print 'Int:\\t ' ,shared, 'at i =',i,'and j =',j\n",
    "    return i + j*n\n",
    "\n",
    "a = babystep_giantstep(g,A,p)\n",
    "a\n",
    "print 'e =',e\n",
    "S1 = power_mod(g,e,p)\n",
    "print 'S1 =',S1\n",
    "S2 = Integer(mod((D - a*S1)*inverse_mod(e,p-1),p-1))\n",
    "print 'S2 =',S2\n",
    "mod(power_mod(A,S1,p)*power_mod(S1,S2,p),p)\n",
    "power_mod(g,D,p)\n",
    "if mod(power_mod(A,S1,p)*power_mod(S1,S2,p),p) == power_mod(g,D,p):\n",
    "    print True\n",
    "else:\n",
    "    print False"
   ]
  },
  {
   "cell_type": "code",
   "execution_count": 0,
   "metadata": {
    "collapsed": false
   },
   "outputs": [
   ],
   "source": [
    "# 2.b\n",
    "def order(g,p):\n",
    "    for k in divisors(p-1):\n",
    "        if power_mod(g,k,p) == 1:\n",
    "            return k\n",
    "\n",
    "\n",
    "p = 133791337\n",
    "q = 265459\n",
    "g = 9941014\n",
    "A = 106556623\n",
    "mod(p,q)\n",
    "D=12345\n",
    "e=143\n",
    "a = babystep_giantstep(g,A,p)\n",
    "a\n",
    "print 'e =',e\n",
    "S1 = power_mod(g,e,p)\n",
    "print 'S1 =',S1\n",
    "S2 = Integer(mod((D - a*S1)*inverse_mod(e,p-1),p-1))\n",
    "print 'S2 =',S2\n",
    "mod(power_mod(A,S1,p)*power_mod(S1,S2,p),p)\n",
    "power_mod(g,D,p)\n",
    "if mod(power_mod(A,S1,p)*power_mod(S1,S2,p),p) == power_mod(g,D,p):\n",
    "    print True\n",
    "else:\n",
    "    print False"
   ]
  },
  {
   "cell_type": "code",
   "execution_count": 0,
   "metadata": {
    "collapsed": false
   },
   "outputs": [
   ],
   "source": [
    "# problem 3\n",
    "def binary_digits_len_N(a,N):\n",
    "    temp = Integer(a).digits(2)\n",
    "    while len(temp) < N:\n",
    "        temp.append(0)\n",
    "    return temp\n",
    "\n",
    "def first_common_element(X,Y):\n",
    "    '''\n",
    "    Returns the first element from X that is also in Y.\n",
    "    Returns None if no such element exists\n",
    "    '''\n",
    "    for i in X:\n",
    "        if i in Y:\n",
    "            return i\n",
    "\n",
    "def solve_subset_sum(M,S):\n",
    "    M_odd = False\n",
    "    if mod(len(M),2) == 1:\n",
    "        M.append(0) #Append a 0 to the end of M to make its length even\n",
    "        M_odd = True\n",
    "\n",
    "    first_half_M = M[0:len(M)/2]\n",
    "    second_half_M = M[len(M)/2:len(M)]\n",
    "    first_half_sums = []\n",
    "    second_half_sums = []\n",
    "    for i in [0..2^(ceil(len(M)/2))-1]:\n",
    "        test = binary_digits_len_N(i,len(M)/2)\n",
    "        first_half_sums.append(sum([m for m,k in zip(first_half_M,test) if k==1]))\n",
    "        second_half_sums.append(S - sum([m for m,k in zip(second_half_M,test) if k==1]))\n",
    "\n",
    "    shared = first_common_element(first_half_sums,second_half_sums)\n",
    "    if shared == None:\n",
    "        return 'No Solution'\n",
    "    soln = binary_digits_len_N(first_half_sums.index(shared),len(M)/2) + binary_digits_len_N(second_half_sums.index(shared),len(M)/2)\n",
    "    if M_odd == True: #If the length of M was odd, then remove the extra 0s\n",
    "        soln.pop()\n",
    "        M.pop()\n",
    "    return soln\n",
    "\n",
    "\n",
    "gcd(8675308, -1323682)\n",
    "\n",
    "gcd(-661841,4337654)"
   ]
  },
  {
   "cell_type": "code",
   "execution_count": 0,
   "metadata": {
    "collapsed": false
   },
   "outputs": [
   ],
   "source": [
    "# problem 4\n",
    "M = [1,3,6,10,14,20]\n",
    "solve_subset_sum(M,30)"
   ]
  },
  {
   "cell_type": "code",
   "execution_count": 0,
   "metadata": {
    "collapsed": false
   },
   "outputs": [
   ],
   "source": [
    "# problem4a\n",
    "M = [1,3,6,10,14,20]\n",
    "solve_subset_sum(M,30)"
   ]
  },
  {
   "cell_type": "code",
   "execution_count": 0,
   "metadata": {
    "collapsed": false
   },
   "outputs": [
   ],
   "source": [
    "# problem 5\n",
    "# i\n",
    "\n",
    "def find_u(p):\n",
    "    '''\n",
    "    Given a prime p = 1 mod 4 this function generates an integer u such that u < p/2 and u^2 = -1 mod p\n",
    "    '''\n",
    "    if is_prime(p) == False or mod(p,4) != 1:\n",
    "        return False\n",
    "    b = 2\n",
    "    u = power_mod(b,int((p-1)/4),p)\n",
    "    while power_mod(u,2,p) != (p-1):\n",
    "        b = b + 1\n",
    "        u = power_mod(b,int((p-1)/4),p)\n",
    "    if u < p/2:\n",
    "        return u\n",
    "    else:\n",
    "        return p - u\n",
    "def sum_of_squares(p):\n",
    "    u = find_u(p)\n",
    "    a = p\n",
    "    b = u\n",
    "    while(b <= sqrt(p)):\n",
    "        r = a%b\n",
    "        a = b\n",
    "        b = r\n",
    "    x = b\n",
    "    y = sqrt(p-(b^2))\n",
    "    return x,y\n",
    "\n",
    "\n",
    "N = 1337\n",
    "factor(N)\n",
    "N % 4\n",
    "# sum_of_squares(N)\n",
    "\n",
    "# for some reason could not getcustom function to work, kept getting divide by zero, so i used sage built in\n",
    "from sage.rings.sum_of_squares import two_squares_pyx\n",
    "two_squares_pyx(1337)"
   ]
  },
  {
   "cell_type": "code",
   "execution_count": 0,
   "metadata": {
    "collapsed": false
   },
   "outputs": [
   ],
   "source": [
   ]
  },
  {
   "cell_type": "code",
   "execution_count": 0,
   "metadata": {
    "collapsed": false
   },
   "outputs": [
   ],
   "source": [
    "# ii\n",
    "factor(1989)\n",
    "two_squares_pyx(1989)"
   ]
  },
  {
   "cell_type": "code",
   "execution_count": 0,
   "metadata": {
    "collapsed": false
   },
   "outputs": [
   ],
   "source": [
    "# iii\n",
    "factor(7196)\n",
    "7196 % 4\n",
    "two_squares_pyx(7196)"
   ]
  },
  {
   "cell_type": "code",
   "execution_count": 0,
   "metadata": {
    "collapsed": false
   },
   "outputs": [
   ],
   "source": [
    "# iv\n",
    "factor(8937845)\n",
    "two_squares_pyx(8937845)"
   ]
  },
  {
   "cell_type": "code",
   "execution_count": 0,
   "metadata": {
    "collapsed": false
   },
   "outputs": [
   ],
   "source": [
    "# 5.2\n",
    "two_squares_pyx(27)"
   ]
  },
  {
   "cell_type": "code",
   "execution_count": 0,
   "metadata": {
    "collapsed": false
   },
   "outputs": [
   ],
   "source": [
    "# problem 7\n",
    "p = 131\n",
    "is_prime(p)\n",
    "mod(p,4) == 3\n",
    "q = 7331\n",
    "is_prime(p)\n",
    "mod(p,4) == 3\n",
    "N = p*q\n",
    "N"
   ]
  },
  {
   "cell_type": "code",
   "execution_count": 0,
   "metadata": {
    "collapsed": false
   },
   "outputs": [
   ],
   "source": [
    "def xor(A,B):\n",
    "    'Takes in two binary vectors and returns A xor B'\n",
    "    if len(A) != len(B):\n",
    "        return False\n",
    "    return list((vector(A)+vector(B))%2)\n",
    "M = [1,1,0,0,1,1]\n",
    "L = len(M)\n",
    "print 'L =', L\n",
    "\n",
    "r = 1337\n",
    "r < N\n",
    "\n",
    "x0 = power_mod(r,2,N)\n",
    "x0\n",
    "mod(x0,2)"
   ]
  },
  {
   "cell_type": "code",
   "execution_count": 0,
   "metadata": {
    "collapsed": false
   },
   "outputs": [
   ],
   "source": [
    "r = 1337\n",
    "r < N\n",
    "x = r\n",
    "b = []\n",
    "for i in range(L):\n",
    "    x = power_mod(x,2,N)\n",
    "    print 'i =',i,'| x =',x\n",
    "    b.append(x%2)\n",
    "b"
   ]
  },
  {
   "cell_type": "code",
   "execution_count": 0,
   "metadata": {
    "collapsed": false
   },
   "outputs": [
   ],
   "source": [
    "C = xor(M,b)\n",
    "C\n",
    "y = x\n",
    "y\n",
    "power_mod(r,2^L,N)"
   ]
  },
  {
   "cell_type": "code",
   "execution_count": 0,
   "metadata": {
    "collapsed": false
   },
   "outputs": [
   ],
   "source": [
    "# ii\n",
    "rp = power_mod(y,power_mod(int((p+1)/4),L,p-1),p)\n",
    "rp\n",
    "rq = power_mod(y,power_mod(int((q+1)/4),L,q-1),q)\n",
    "rq"
   ]
  },
  {
   "cell_type": "code",
   "execution_count": 0,
   "metadata": {
    "collapsed": false
   },
   "outputs": [
   ],
   "source": [
    "s = int(mod(q*inverse_mod(q,p)*rp + p*inverse_mod(p,q)*rq,N))\n",
    "s\n",
    "b = []\n",
    "for i in range(L):\n",
    "    s = power_mod(s,2,N)\n",
    "    b.append(s%2)\n",
    "b"
   ]
  },
  {
   "cell_type": "code",
   "execution_count": 0,
   "metadata": {
    "collapsed": false
   },
   "outputs": [
   ],
   "source": [
    "xor(C,b)\n",
    "xor(C,b) == M"
   ]
  },
  {
   "cell_type": "code",
   "execution_count": 0,
   "metadata": {
    "collapsed": false
   },
   "outputs": [
   ],
   "source": [
    "# b\n",
    "C = [1,1,0,0,0,1]\n",
    "N = 63598704941\n",
    "factor(N)\n",
    "p = 7331\n",
    "q = 8675311\n",
    "y = 20462166213\n",
    "\n",
    "L = 6\n",
    "\n",
    "rp = power_mod(y,power_mod(int((p+1)/4),L,p-1),p)\n",
    "rp\n",
    "rq = power_mod(y,power_mod(int((q+1)/4),L,q-1),q)\n",
    "rq\n",
    "\n",
    "s = int(mod(q*inverse_mod(q,p)*rp + p*inverse_mod(p,q)*rq,N))\n",
    "s\n",
    "b = []\n",
    "for i in range(L):\n",
    "    s = power_mod(s,2,N)\n",
    "    b.append(s%2)\n",
    "b"
   ]
  },
  {
   "cell_type": "code",
   "execution_count": 0,
   "metadata": {
    "collapsed": false
   },
   "outputs": [
   ],
   "source": [
    "xor(C,b)"
   ]
  },
  {
   "cell_type": "code",
   "execution_count": 0,
   "metadata": {
    "collapsed": false
   },
   "outputs": [
   ],
   "source": [
    "# problem 8\n",
    "def order(g,N):\n",
    "    '''\n",
    "    Returns the order of element g modulo N.\n",
    "    Returns None if no such exponent exists\n",
    "    '''\n",
    "    for i in euler_phi(N).divisors():\n",
    "        if power_mod(g,i,N) == 1:\n",
    "            return i\n",
    "p = 7331\n",
    "q = 8675309\n",
    "n = p^2*q\n",
    "n\n",
    "g=2\n",
    "b=83\n",
    "\n",
    "gp = power_mod(g,p-1,p^2)\n",
    "gp\n",
    "power_mod(gp,p,p^2)\n",
    "order(gp,p^2) == p"
   ]
  },
  {
   "cell_type": "code",
   "execution_count": 0,
   "metadata": {
    "collapsed": false
   },
   "outputs": [
   ],
   "source": [
    "h = power_mod(b,n,n)\n",
    "h"
   ]
  },
  {
   "cell_type": "code",
   "execution_count": 0,
   "metadata": {
    "collapsed": false
   },
   "outputs": [
   ],
   "source": [
    "r = 1337\n",
    "m = 143\n",
    "C = (power_mod(g,m,n)*power_mod(h,r,n))%n\n",
    "C"
   ]
  },
  {
   "cell_type": "code",
   "execution_count": 0,
   "metadata": {
    "collapsed": false
   },
   "outputs": [
   ],
   "source": [
    "cp = power_mod(C,p-1,p^2)\n",
    "cp"
   ]
  },
  {
   "cell_type": "code",
   "execution_count": 0,
   "metadata": {
    "collapsed": false
   },
   "outputs": [
   ],
   "source": [
    "L(x) = (x-1)/p\n",
    "L(cp)\n",
    "L(gp)"
   ]
  },
  {
   "cell_type": "code",
   "execution_count": 0,
   "metadata": {
    "collapsed": false
   },
   "outputs": [
   ],
   "source": [
    "mod(L(cp)*inverse_mod(int(L(gp)),p),p)"
   ]
  }
 ],
 "metadata": {
  "kernelspec": {
   "display_name": "SageMath (stable)",
   "language": "sagemath",
   "metadata": {
    "cocalc": {
     "description": "Open-source mathematical software system",
     "priority": 10,
     "url": "https://www.sagemath.org/"
    }
   },
   "name": "sagemath"
  },
  "language_info": {
   "codemirror_mode": {
    "name": "ipython",
    "version": 2
   },
   "file_extension": ".py",
   "mimetype": "text/x-python",
   "name": "python",
   "nbconvert_exporter": "python",
   "pygments_lexer": "ipython2",
   "version": "2.7.15"
  }
 },
 "nbformat": 4,
 "nbformat_minor": 0
}