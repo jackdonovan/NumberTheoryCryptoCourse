{
 "cells": [
  {
   "cell_type": "code",
   "execution_count": 1,
   "metadata": {
    "collapsed": false
   },
   "outputs": [
    {
     "data": {
      "text/plain": [
       "2"
      ]
     },
     "execution_count": 1,
     "metadata": {
     },
     "output_type": "execute_result"
    }
   ],
   "source": [
    "def hash_func(p, l, k, m, v):\n",
    "    if (v > l):\n",
    "        print(\"Error v is greater than l\")\n",
    "    t = 1\n",
    "    for i in range(0,4):\n",
    "        t = (t*k + m[i]) % p\n",
    "    return t\n",
    "\n",
    "\n",
    "# prob 1a\n",
    "p = 41\n",
    "l = 4\n",
    "k = 17\n",
    "m = [8,6,7,5]\n",
    "v = 4\n",
    "hash_func(p, l, k, m, v)"
   ]
  },
  {
   "cell_type": "code",
   "execution_count": 2,
   "metadata": {
    "collapsed": false
   },
   "outputs": [
    {
     "data": {
      "text/plain": [
       "22"
      ]
     },
     "execution_count": 2,
     "metadata": {
     },
     "output_type": "execute_result"
    }
   ],
   "source": [
    "# prob 1b\n",
    "p = 41\n",
    "l = 4\n",
    "k = 17\n",
    "m = [3,0,9,9]\n",
    "v = 4\n",
    "hash_func(p, l, k, m, v)"
   ]
  },
  {
   "cell_type": "code",
   "execution_count": 3,
   "metadata": {
    "collapsed": false
   },
   "outputs": [
    {
     "data": {
      "text/plain": [
       "5"
      ]
     },
     "execution_count": 3,
     "metadata": {
     },
     "output_type": "execute_result"
    }
   ],
   "source": [
    "# prob 1d\n",
    "p = 41\n",
    "l = 4\n",
    "k = 17\n",
    "m = [31,13,13,12]\n",
    "v = 4\n",
    "hash_func(p, l, k, m, v)"
   ]
  },
  {
   "cell_type": "code",
   "execution_count": 4,
   "metadata": {
    "collapsed": false
   },
   "outputs": [
    {
     "data": {
      "text/plain": [
       "5"
      ]
     },
     "execution_count": 4,
     "metadata": {
     },
     "output_type": "execute_result"
    }
   ],
   "source": [
    "# prob 1b\n",
    "p = 41\n",
    "l = 4\n",
    "k = 17\n",
    "m = [8,6,7,5]\n",
    "v = 4\n",
    "hash_func(p, l, k, m, v)\n",
    "m = [3,0,9,9]\n",
    "hash_func(p, l, k, m, v)\n",
    "m = [3,14,15,9]\n",
    "hash_func(p, l, k, m, v)\n",
    "m = [31,13,13,12]\n",
    "hash_func(p, l, k, m, v)"
   ]
  }
 ],
 "metadata": {
  "kernelspec": {
   "display_name": "SageMath (stable)",
   "language": "sagemath",
   "metadata": {
    "cocalc": {
     "description": "Open-source mathematical software system",
     "priority": 10,
     "url": "https://www.sagemath.org/"
    }
   },
   "name": "sagemath"
  },
  "language_info": {
   "codemirror_mode": {
    "name": "ipython",
    "version": 2
   },
   "file_extension": ".py",
   "mimetype": "text/x-python",
   "name": "python",
   "nbconvert_exporter": "python",
   "pygments_lexer": "ipython2",
   "version": "2.7.15"
  }
 },
 "nbformat": 4,
 "nbformat_minor": 0
}